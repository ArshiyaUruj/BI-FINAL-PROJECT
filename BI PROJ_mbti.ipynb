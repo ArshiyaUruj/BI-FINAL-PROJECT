{
 "cells": [
  {
   "cell_type": "code",
   "execution_count": 1,
   "metadata": {},
   "outputs": [],
   "source": [
    "import pandas as pd\n",
    "import numpy as np\n",
    "import matplotlib.pyplot as plt\n",
    "import nltk\n",
    "import string\n",
    "from nltk.classify import NaiveBayesClassifier"
   ]
  },
  {
   "cell_type": "code",
   "execution_count": 2,
   "metadata": {},
   "outputs": [
    {
     "data": {
      "text/html": [
       "<div>\n",
       "<style scoped>\n",
       "    .dataframe tbody tr th:only-of-type {\n",
       "        vertical-align: middle;\n",
       "    }\n",
       "\n",
       "    .dataframe tbody tr th {\n",
       "        vertical-align: top;\n",
       "    }\n",
       "\n",
       "    .dataframe thead th {\n",
       "        text-align: right;\n",
       "    }\n",
       "</style>\n",
       "<table border=\"1\" class=\"dataframe\">\n",
       "  <thead>\n",
       "    <tr style=\"text-align: right;\">\n",
       "      <th></th>\n",
       "      <th>type</th>\n",
       "      <th>posts</th>\n",
       "    </tr>\n",
       "  </thead>\n",
       "  <tbody>\n",
       "    <tr>\n",
       "      <td>8670</td>\n",
       "      <td>ISFP</td>\n",
       "      <td>'https://www.youtube.com/watch?v=t8edHB_h908||...</td>\n",
       "    </tr>\n",
       "    <tr>\n",
       "      <td>8671</td>\n",
       "      <td>ENFP</td>\n",
       "      <td>'So...if this thread already exists someplace ...</td>\n",
       "    </tr>\n",
       "    <tr>\n",
       "      <td>8672</td>\n",
       "      <td>INTP</td>\n",
       "      <td>'So many questions when i do these things.  I ...</td>\n",
       "    </tr>\n",
       "    <tr>\n",
       "      <td>8673</td>\n",
       "      <td>INFP</td>\n",
       "      <td>'I am very conflicted right now when it comes ...</td>\n",
       "    </tr>\n",
       "    <tr>\n",
       "      <td>8674</td>\n",
       "      <td>INFP</td>\n",
       "      <td>'It has been too long since I have been on per...</td>\n",
       "    </tr>\n",
       "  </tbody>\n",
       "</table>\n",
       "</div>"
      ],
      "text/plain": [
       "      type                                              posts\n",
       "8670  ISFP  'https://www.youtube.com/watch?v=t8edHB_h908||...\n",
       "8671  ENFP  'So...if this thread already exists someplace ...\n",
       "8672  INTP  'So many questions when i do these things.  I ...\n",
       "8673  INFP  'I am very conflicted right now when it comes ...\n",
       "8674  INFP  'It has been too long since I have been on per..."
      ]
     },
     "execution_count": 2,
     "metadata": {},
     "output_type": "execute_result"
    }
   ],
   "source": [
    "ds=pd.read_csv(\"mbti_1.csv\")\n",
    "ds.tail()"
   ]
  },
  {
   "cell_type": "code",
   "execution_count": 3,
   "metadata": {},
   "outputs": [
    {
     "data": {
      "text/plain": [
       "(8675, 2)"
      ]
     },
     "execution_count": 3,
     "metadata": {},
     "output_type": "execute_result"
    }
   ],
   "source": [
    "ds.shape # counting no. of rows, columns in dataset"
   ]
  },
  {
   "cell_type": "code",
   "execution_count": 4,
   "metadata": {},
   "outputs": [
    {
     "data": {
      "text/plain": [
       "type     False\n",
       "posts    False\n",
       "dtype: bool"
      ]
     },
     "execution_count": 4,
     "metadata": {},
     "output_type": "execute_result"
    }
   ],
   "source": [
    "ds.isnull().any() #checking for null values in dataset"
   ]
  },
  {
   "cell_type": "code",
   "execution_count": 5,
   "metadata": {},
   "outputs": [
    {
     "data": {
      "text/plain": [
       "[\"'http://www.youtube.com/watch?v=qsXHcwe3krw\",\n",
       " 'http://41.media.tumblr.com/tumblr_lfouy03PMA1qa1rooo1_500.jpg',\n",
       " 'enfp and intj moments  https://www.youtube.com/watch?v=iz7lE1g4XM4  sportscenter not top ten plays  https://www.youtube.com/watch?v=uCdfze1etec  pranks',\n",
       " 'What has been the most life-changing experience in your life?',\n",
       " 'http://www.youtube.com/watch?v=vXZeYwwRDw8   http://www.youtube.com/watch?v=u8ejam5DP3E  On repeat for most of today.',\n",
       " 'May the PerC Experience immerse you.',\n",
       " 'The last thing my INFJ friend posted on his facebook before committing suicide the next day. Rest in peace~   http://vimeo.com/22842206',\n",
       " \"Hello ENFJ7. Sorry to hear of your distress. It's only natural for a relationship to not be perfection all the time in every moment of existence. Try to figure the hard times as times of growth, as...\",\n",
       " '84389  84390  http://wallpaperpassion.com/upload/23700/friendship-boy-and-girl-wallpaper.jpg  http://assets.dornob.com/wp-content/uploads/2010/04/round-home-design.jpg ...',\n",
       " 'Welcome and stuff.',\n",
       " 'http://playeressence.com/wp-content/uploads/2013/08/RED-red-the-pokemon-master-32560474-450-338.jpg  Game. Set. Match.',\n",
       " \"Prozac, wellbrutin, at least thirty minutes of moving your legs (and I don't mean moving them while sitting in your same desk chair), weed in moderation (maybe try edibles as a healthier alternative...\",\n",
       " \"Basically come up with three items you've determined that each type (or whichever types you want to do) would more than likely use, given each types' cognitive functions and whatnot, when left by...\",\n",
       " 'All things in moderation.  Sims is indeed a video game, and a good one at that. Note: a good one at that is somewhat subjective in that I am not completely promoting the death of any given Sim...',\n",
       " 'Dear ENFP:  What were your favorite video games growing up and what are your now, current favorite video games? :cool:',\n",
       " 'https://www.youtube.com/watch?v=QyPqT8umzmY',\n",
       " 'It appears to be too late. :sad:',\n",
       " \"There's someone out there for everyone.\",\n",
       " 'Wait... I thought confidence was a good thing.',\n",
       " \"I just cherish the time of solitude b/c i revel within my inner world more whereas most other time i'd be workin... just enjoy the me time while you can. Don't worry, people will always be around to...\",\n",
       " \"Yo entp ladies... if you're into a complimentary personality,well, hey.\",\n",
       " '... when your main social outlet is xbox live conversations and even then you verbally fatigue quickly.',\n",
       " 'http://www.youtube.com/watch?v=gDhy7rdfm14  I really dig the part from 1:46 to 2:50',\n",
       " 'http://www.youtube.com/watch?v=msqXffgh7b8',\n",
       " 'Banned because this thread requires it of me.',\n",
       " 'Get high in backyard, roast and eat marshmellows in backyard while conversing over something intellectual, followed by massages and kisses.',\n",
       " 'http://www.youtube.com/watch?v=Mw7eoU3BMbE',\n",
       " 'http://www.youtube.com/watch?v=4V2uYORhQOk',\n",
       " 'http://www.youtube.com/watch?v=SlVmgFQQ0TI',\n",
       " \"Banned for too many b's in that sentence. How could you! Think of the B!\",\n",
       " 'Banned for watching movies in the corner with the dunces.',\n",
       " 'Banned because Health class clearly taught you nothing about peer pressure.',\n",
       " 'Banned for a whole host of reasons!',\n",
       " 'http://www.youtube.com/watch?v=IRcrv41hgz4',\n",
       " \"1) Two baby deer on left and right munching on a beetle in the middle.  2) Using their own blood, two cavemen diary today's latest happenings on their designated cave diary wall.  3) I see it as...\",\n",
       " 'a pokemon world  an infj society  everyone becomes an optimist',\n",
       " '49142',\n",
       " 'http://www.youtube.com/watch?v=ZRCEq_JFeFM',\n",
       " 'http://discovermagazine.com/2012/jul-aug/20-things-you-didnt-know-about-deserts/desert.jpg',\n",
       " 'http://oyster.ignimgs.com/mediawiki/apis.ign.com/pokemon-silver-version/d/dd/Ditto.gif',\n",
       " 'http://www.serebii.net/potw-dp/Scizor.jpg',\n",
       " \"Not all artists are artists because they draw. It's the idea that counts in forming something of your own... like a signature.\",\n",
       " \"Welcome to the robot ranks, person who downed my self-esteem cuz I'm not an avid signature artist like herself. :proud:\",\n",
       " 'Banned for taking all the room under my bed. Ya gotta learn to share with the roaches.',\n",
       " 'http://www.youtube.com/watch?v=w8IgImn57aQ',\n",
       " 'Banned for being too much of a thundering, grumbling kind of storm... yep.',\n",
       " \"Ahh... old high school music I haven't heard in ages.   http://www.youtube.com/watch?v=dcCRUPCdB1w\",\n",
       " \"I failed a public speaking class a few years ago and I've sort of learned what I could do better were I to be in that position again. A big part of my failure was just overloading myself with too...\",\n",
       " \"I like this person's mentality. He's a confirmed INTJ by the way. http://www.youtube.com/watch?v=hGKLI-GEc6M\",\n",
       " \"Move to the Denver area and start a new life for myself.'\"]"
      ]
     },
     "execution_count": 5,
     "metadata": {},
     "output_type": "execute_result"
    }
   ],
   "source": [
    "ds.iloc[0,1].split('|||') #iloc:selecting rows ,[0,1]:selecting 0th row i.e first row and 1st i.e 2nd column from dataset"
   ]
  },
  {
   "cell_type": "code",
   "execution_count": 6,
   "metadata": {},
   "outputs": [
    {
     "data": {
      "text/plain": [
       "50"
      ]
     },
     "execution_count": 6,
     "metadata": {},
     "output_type": "execute_result"
    }
   ],
   "source": [
    "len(ds.iloc[1,1].split('|||')) #counts no. of post in 2nd row -2nd column ie post column"
   ]
  },
  {
   "cell_type": "code",
   "execution_count": 7,
   "metadata": {},
   "outputs": [
    {
     "data": {
      "text/plain": [
       "50"
      ]
     },
     "execution_count": 7,
     "metadata": {},
     "output_type": "execute_result"
    }
   ],
   "source": [
    "len(ds.iloc[2,1].split('|||'))#counts no. of post in 3rdd row -2nd column ie post column"
   ]
  },
  {
   "cell_type": "code",
   "execution_count": 8,
   "metadata": {},
   "outputs": [
    {
     "data": {
      "text/plain": [
       "50"
      ]
     },
     "execution_count": 8,
     "metadata": {},
     "output_type": "execute_result"
    }
   ],
   "source": [
    "len(ds.iloc[0,1].split('|||'))#counts no. of post in 1st row -2nd column ie post column"
   ]
  },
  {
   "cell_type": "code",
   "execution_count": 9,
   "metadata": {},
   "outputs": [
    {
     "data": {
      "text/plain": [
       "50"
      ]
     },
     "execution_count": 9,
     "metadata": {},
     "output_type": "execute_result"
    }
   ],
   "source": [
    "len(ds.iloc[1444,1].split('|||'))#counts no. of post in 1445th row -2nd column ie post column"
   ]
  },
  {
   "cell_type": "code",
   "execution_count": 10,
   "metadata": {},
   "outputs": [
    {
     "data": {
      "text/plain": [
       "array(['ENFJ', 'ENFP', 'ENTJ', 'ENTP', 'ESFJ', 'ESFP', 'ESTJ', 'ESTP',\n",
       "       'INFJ', 'INFP', 'INTJ', 'INTP', 'ISFJ', 'ISFP', 'ISTJ', 'ISTP'],\n",
       "      dtype=object)"
      ]
     },
     "execution_count": 10,
     "metadata": {},
     "output_type": "execute_result"
    }
   ],
   "source": [
    "#From above,we see that each row has 50 posts \n",
    "types=np.unique(np.array(ds['type'])) #displays the unique sorted rows in type column and put it in array\n",
    "types"
   ]
  },
  {
   "cell_type": "code",
   "execution_count": 11,
   "metadata": {},
   "outputs": [
    {
     "data": {
      "text/plain": [
       "0       INFJ\n",
       "1       ENTP\n",
       "2       INTP\n",
       "3       INTJ\n",
       "4       ENTJ\n",
       "        ... \n",
       "8670    ISFP\n",
       "8671    ENFP\n",
       "8672    INTP\n",
       "8673    INFP\n",
       "8674    INFP\n",
       "Name: type, Length: 8675, dtype: object"
      ]
     },
     "execution_count": 11,
     "metadata": {},
     "output_type": "execute_result"
    }
   ],
   "source": [
    "ds['type']"
   ]
  },
  {
   "cell_type": "code",
   "execution_count": 12,
   "metadata": {},
   "outputs": [
    {
     "data": {
      "text/plain": [
       "array(['INFJ', 'ENTP', 'INTP', ..., 'INTP', 'INFP', 'INFP'], dtype=object)"
      ]
     },
     "execution_count": 12,
     "metadata": {},
     "output_type": "execute_result"
    }
   ],
   "source": [
    "np.array(ds['type'])"
   ]
  },
  {
   "cell_type": "code",
   "execution_count": 13,
   "metadata": {},
   "outputs": [
    {
     "data": {
      "text/html": [
       "<div>\n",
       "<style scoped>\n",
       "    .dataframe tbody tr th:only-of-type {\n",
       "        vertical-align: middle;\n",
       "    }\n",
       "\n",
       "    .dataframe tbody tr th {\n",
       "        vertical-align: top;\n",
       "    }\n",
       "\n",
       "    .dataframe thead th {\n",
       "        text-align: right;\n",
       "    }\n",
       "</style>\n",
       "<table border=\"1\" class=\"dataframe\">\n",
       "  <thead>\n",
       "    <tr style=\"text-align: right;\">\n",
       "      <th></th>\n",
       "      <th>posts</th>\n",
       "    </tr>\n",
       "    <tr>\n",
       "      <th>type</th>\n",
       "      <th></th>\n",
       "    </tr>\n",
       "  </thead>\n",
       "  <tbody>\n",
       "    <tr>\n",
       "      <td>ENFJ</td>\n",
       "      <td>9500</td>\n",
       "    </tr>\n",
       "    <tr>\n",
       "      <td>ENFP</td>\n",
       "      <td>33750</td>\n",
       "    </tr>\n",
       "    <tr>\n",
       "      <td>ENTJ</td>\n",
       "      <td>11550</td>\n",
       "    </tr>\n",
       "    <tr>\n",
       "      <td>ENTP</td>\n",
       "      <td>34250</td>\n",
       "    </tr>\n",
       "    <tr>\n",
       "      <td>ESFJ</td>\n",
       "      <td>2100</td>\n",
       "    </tr>\n",
       "    <tr>\n",
       "      <td>ESFP</td>\n",
       "      <td>2400</td>\n",
       "    </tr>\n",
       "    <tr>\n",
       "      <td>ESTJ</td>\n",
       "      <td>1950</td>\n",
       "    </tr>\n",
       "    <tr>\n",
       "      <td>ESTP</td>\n",
       "      <td>4450</td>\n",
       "    </tr>\n",
       "    <tr>\n",
       "      <td>INFJ</td>\n",
       "      <td>73500</td>\n",
       "    </tr>\n",
       "    <tr>\n",
       "      <td>INFP</td>\n",
       "      <td>91600</td>\n",
       "    </tr>\n",
       "    <tr>\n",
       "      <td>INTJ</td>\n",
       "      <td>54550</td>\n",
       "    </tr>\n",
       "    <tr>\n",
       "      <td>INTP</td>\n",
       "      <td>65200</td>\n",
       "    </tr>\n",
       "    <tr>\n",
       "      <td>ISFJ</td>\n",
       "      <td>8300</td>\n",
       "    </tr>\n",
       "    <tr>\n",
       "      <td>ISFP</td>\n",
       "      <td>13550</td>\n",
       "    </tr>\n",
       "    <tr>\n",
       "      <td>ISTJ</td>\n",
       "      <td>10250</td>\n",
       "    </tr>\n",
       "    <tr>\n",
       "      <td>ISTP</td>\n",
       "      <td>16850</td>\n",
       "    </tr>\n",
       "  </tbody>\n",
       "</table>\n",
       "</div>"
      ],
      "text/plain": [
       "      posts\n",
       "type       \n",
       "ENFJ   9500\n",
       "ENFP  33750\n",
       "ENTJ  11550\n",
       "ENTP  34250\n",
       "ESFJ   2100\n",
       "ESFP   2400\n",
       "ESTJ   1950\n",
       "ESTP   4450\n",
       "INFJ  73500\n",
       "INFP  91600\n",
       "INTJ  54550\n",
       "INTP  65200\n",
       "ISFJ   8300\n",
       "ISFP  13550\n",
       "ISTJ  10250\n",
       "ISTP  16850"
      ]
     },
     "execution_count": 13,
     "metadata": {},
     "output_type": "execute_result"
    }
   ],
   "source": [
    "#counting total posts of each type\n",
    "total=ds.groupby(['type']).count()*50\n",
    "total"
   ]
  },
  {
   "cell_type": "code",
   "execution_count": 14,
   "metadata": {},
   "outputs": [],
   "source": [
    "allPost=pd.DataFrame() #put array into 2D data\n",
    "for j in types:\n",
    "    temp1 = ds[ds['type']==j]['posts'] #making type as columns \n",
    "    temp2=[]\n",
    "    for i in temp1:\n",
    "        temp2+=i.split('|||')\n",
    "    temp3=pd.Series(temp2)  #each row is filled in order : creating 1d array i.e data is filled row wise in allPost\n",
    "    allPost[j]=temp3 "
   ]
  },
  {
   "cell_type": "code",
   "execution_count": 15,
   "metadata": {},
   "outputs": [],
   "source": [
    "allPost.to_csv('mbtiPost.csv',index=False)"
   ]
  },
  {
   "cell_type": "code",
   "execution_count": 16,
   "metadata": {},
   "outputs": [
    {
     "data": {
      "text/html": [
       "<div>\n",
       "<style scoped>\n",
       "    .dataframe tbody tr th:only-of-type {\n",
       "        vertical-align: middle;\n",
       "    }\n",
       "\n",
       "    .dataframe tbody tr th {\n",
       "        vertical-align: top;\n",
       "    }\n",
       "\n",
       "    .dataframe thead th {\n",
       "        text-align: right;\n",
       "    }\n",
       "</style>\n",
       "<table border=\"1\" class=\"dataframe\">\n",
       "  <thead>\n",
       "    <tr style=\"text-align: right;\">\n",
       "      <th></th>\n",
       "      <th>ENFJ</th>\n",
       "      <th>ENFP</th>\n",
       "      <th>ENTJ</th>\n",
       "      <th>ENTP</th>\n",
       "      <th>ESFJ</th>\n",
       "      <th>ESFP</th>\n",
       "      <th>ESTJ</th>\n",
       "      <th>ESTP</th>\n",
       "      <th>INFJ</th>\n",
       "      <th>INFP</th>\n",
       "      <th>INTJ</th>\n",
       "      <th>INTP</th>\n",
       "      <th>ISFJ</th>\n",
       "      <th>ISFP</th>\n",
       "      <th>ISTJ</th>\n",
       "      <th>ISTP</th>\n",
       "    </tr>\n",
       "  </thead>\n",
       "  <tbody>\n",
       "    <tr>\n",
       "      <td>0</td>\n",
       "      <td>'https://www.youtube.com/watch?v=PLAaiKvHvZs</td>\n",
       "      <td>'He doesn't want to go on the trip without me,...</td>\n",
       "      <td>'You're fired.</td>\n",
       "      <td>'I'm finding the lack of me in these posts ver...</td>\n",
       "      <td>'Why not?</td>\n",
       "      <td>'Edit: I forgot what board this was on.</td>\n",
       "      <td>this is such a catch 22</td>\n",
       "      <td>Splinter Cell Blacklist for Xbox 360.</td>\n",
       "      <td>'http://www.youtube.com/watch?v=qsXHcwe3krw</td>\n",
       "      <td>'I think we do agree. I personally don't consi...</td>\n",
       "      <td>'Dear INTP,   I enjoyed our conversation the o...</td>\n",
       "      <td>'Good one  _____   https://www.youtube.com/wat...</td>\n",
       "      <td>'I love feeling affectionate for the one I lov...</td>\n",
       "      <td>'They paint without numbers</td>\n",
       "      <td>'Newton's Universal Gravity Law. I mean seriou...</td>\n",
       "      <td>'I got 593.  From what I've read about the Enn...</td>\n",
       "    </tr>\n",
       "    <tr>\n",
       "      <td>1</td>\n",
       "      <td>51 :o</td>\n",
       "      <td>I'm still completely in AWE and I'm AMAZED tha...</td>\n",
       "      <td>That's another silly misconception. That appro...</td>\n",
       "      <td>Sex can be boring if it's in the same position...</td>\n",
       "      <td>Any other ESFJs originally mistype as an NFP? ...</td>\n",
       "      <td>I am currently reading 'Artemis Fowl: The Eter...</td>\n",
       "      <td>I'm here! Although, I'm quite the terrible EST...</td>\n",
       "      <td>ESTPs are generally well liked. If you get hat...</td>\n",
       "      <td>http://41.media.tumblr.com/tumblr_lfouy03PMA1q...</td>\n",
       "      <td>Literature... I'd suggest 'Everyday Zen' by Ch...</td>\n",
       "      <td>Dear ENTJ sub,   Long time no see.  Sincerely,...</td>\n",
       "      <td>Of course, to which I say I know; that's my bl...</td>\n",
       "      <td>Kind of an update on my past post above. Whate...</td>\n",
       "      <td>I'd guess at istp too</td>\n",
       "      <td>Well, if money and time was no object, I would...</td>\n",
       "      <td>GTFO FEELER!</td>\n",
       "    </tr>\n",
       "    <tr>\n",
       "      <td>2</td>\n",
       "      <td>I went through a break up some months ago. We ...</td>\n",
       "      <td>Thanks, everyone. I'm struggling with being se...</td>\n",
       "      <td>But guys... he REALLY wants to go on a super-d...</td>\n",
       "      <td>Giving new meaning to 'Game' theory.</td>\n",
       "      <td>Hello again. Thanks for all your help. I know ...</td>\n",
       "      <td>Hi all, if you've got some spare time and why ...</td>\n",
       "      <td>Yikes. I do not want power...</td>\n",
       "      <td>I often come off to people with the opposite o...</td>\n",
       "      <td>enfp and intj moments  https://www.youtube.com...</td>\n",
       "      <td>Being emotional doesn't automatically make som...</td>\n",
       "      <td>None of them. All other types hurt in deep exi...</td>\n",
       "      <td>Does being absolutely positive that you and yo...</td>\n",
       "      <td>It feels weird being in love for the first tim...</td>\n",
       "      <td>My best bud is ESFP, very funny, entertaining ...</td>\n",
       "      <td>http://www.oglaf.com/media/comic/failsafe.jpg</td>\n",
       "      <td>A lot of the stuff that you read in the INTP d...</td>\n",
       "    </tr>\n",
       "    <tr>\n",
       "      <td>3</td>\n",
       "      <td>ENFJ Puns so many puns.</td>\n",
       "      <td>My husband works an extra job each year to pay...</td>\n",
       "      <td>Never mind. Just go on permanent vacation.</td>\n",
       "      <td>Hello *ENTP Grin*  That's all it takes. Than w...</td>\n",
       "      <td>Of the J functions, I'd say it would be: Fi&gt;Ti...</td>\n",
       "      <td>BABYMETAL are the best band of this decade  ht...</td>\n",
       "      <td>Thank you SO SO much. This is what I had plann...</td>\n",
       "      <td>Ask her what you are to her.</td>\n",
       "      <td>What has been the most life-changing experienc...</td>\n",
       "      <td>I'm a Ch'an Buddhist, so it's a daily thing fo...</td>\n",
       "      <td>Probably a sliding scale that depends on indiv...</td>\n",
       "      <td>No, I didn't; thank you for a link!</td>\n",
       "      <td>Unsure if i completely understand the question...</td>\n",
       "      <td>I used to smoke weed alot, everyday from morni...</td>\n",
       "      <td>I'm still laughing! xD  http://www.youtube.com...</td>\n",
       "      <td>Don't worry about it.  You are trying to make ...</td>\n",
       "    </tr>\n",
       "    <tr>\n",
       "      <td>4</td>\n",
       "      <td>Well I personally don't go that much for attra...</td>\n",
       "      <td>He said that it's not like he's asking me to d...</td>\n",
       "      <td>Two months? I wouldn't be crazy about the idea...</td>\n",
       "      <td>This + Lack of Balance and Hand Eye Coordination.</td>\n",
       "      <td>The ESFJs on this site are lovely. I'm general...</td>\n",
       "      <td>Banned for being a fire hazard.</td>\n",
       "      <td>Hi</td>\n",
       "      <td>I'm a euphonium player and a writer</td>\n",
       "      <td>http://www.youtube.com/watch?v=vXZeYwwRDw8   h...</td>\n",
       "      <td>Glad to know I'm not the only one. I meditate,...</td>\n",
       "      <td>Draco Malfoy also. I'd say he's either 358 or ...</td>\n",
       "      <td>So-called Ti-Si loop (and it can stem from any...</td>\n",
       "      <td>Not often, but I tend to lose it more when it ...</td>\n",
       "      <td>Jimi Hendrix - The Wind Cries Mary.  After all...</td>\n",
       "      <td>workaround is working for me, and I'm using FF...</td>\n",
       "      <td>My mother-in-law is an ESTJ.  She is the epito...</td>\n",
       "    </tr>\n",
       "  </tbody>\n",
       "</table>\n",
       "</div>"
      ],
      "text/plain": [
       "                                                ENFJ  \\\n",
       "0       'https://www.youtube.com/watch?v=PLAaiKvHvZs   \n",
       "1                                              51 :o   \n",
       "2  I went through a break up some months ago. We ...   \n",
       "3                            ENFJ Puns so many puns.   \n",
       "4  Well I personally don't go that much for attra...   \n",
       "\n",
       "                                                ENFP  \\\n",
       "0  'He doesn't want to go on the trip without me,...   \n",
       "1  I'm still completely in AWE and I'm AMAZED tha...   \n",
       "2  Thanks, everyone. I'm struggling with being se...   \n",
       "3  My husband works an extra job each year to pay...   \n",
       "4  He said that it's not like he's asking me to d...   \n",
       "\n",
       "                                                ENTJ  \\\n",
       "0                                     'You're fired.   \n",
       "1  That's another silly misconception. That appro...   \n",
       "2  But guys... he REALLY wants to go on a super-d...   \n",
       "3         Never mind. Just go on permanent vacation.   \n",
       "4  Two months? I wouldn't be crazy about the idea...   \n",
       "\n",
       "                                                ENTP  \\\n",
       "0  'I'm finding the lack of me in these posts ver...   \n",
       "1  Sex can be boring if it's in the same position...   \n",
       "2               Giving new meaning to 'Game' theory.   \n",
       "3  Hello *ENTP Grin*  That's all it takes. Than w...   \n",
       "4  This + Lack of Balance and Hand Eye Coordination.   \n",
       "\n",
       "                                                ESFJ  \\\n",
       "0                                          'Why not?   \n",
       "1  Any other ESFJs originally mistype as an NFP? ...   \n",
       "2  Hello again. Thanks for all your help. I know ...   \n",
       "3  Of the J functions, I'd say it would be: Fi>Ti...   \n",
       "4  The ESFJs on this site are lovely. I'm general...   \n",
       "\n",
       "                                                ESFP  \\\n",
       "0            'Edit: I forgot what board this was on.   \n",
       "1  I am currently reading 'Artemis Fowl: The Eter...   \n",
       "2  Hi all, if you've got some spare time and why ...   \n",
       "3  BABYMETAL are the best band of this decade  ht...   \n",
       "4                    Banned for being a fire hazard.   \n",
       "\n",
       "                                                ESTJ  \\\n",
       "0                           this is such a catch 22    \n",
       "1  I'm here! Although, I'm quite the terrible EST...   \n",
       "2                      Yikes. I do not want power...   \n",
       "3  Thank you SO SO much. This is what I had plann...   \n",
       "4                                                 Hi   \n",
       "\n",
       "                                                ESTP  \\\n",
       "0              Splinter Cell Blacklist for Xbox 360.   \n",
       "1  ESTPs are generally well liked. If you get hat...   \n",
       "2  I often come off to people with the opposite o...   \n",
       "3                       Ask her what you are to her.   \n",
       "4                I'm a euphonium player and a writer   \n",
       "\n",
       "                                                INFJ  \\\n",
       "0        'http://www.youtube.com/watch?v=qsXHcwe3krw   \n",
       "1  http://41.media.tumblr.com/tumblr_lfouy03PMA1q...   \n",
       "2  enfp and intj moments  https://www.youtube.com...   \n",
       "3  What has been the most life-changing experienc...   \n",
       "4  http://www.youtube.com/watch?v=vXZeYwwRDw8   h...   \n",
       "\n",
       "                                                INFP  \\\n",
       "0  'I think we do agree. I personally don't consi...   \n",
       "1  Literature... I'd suggest 'Everyday Zen' by Ch...   \n",
       "2  Being emotional doesn't automatically make som...   \n",
       "3  I'm a Ch'an Buddhist, so it's a daily thing fo...   \n",
       "4  Glad to know I'm not the only one. I meditate,...   \n",
       "\n",
       "                                                INTJ  \\\n",
       "0  'Dear INTP,   I enjoyed our conversation the o...   \n",
       "1  Dear ENTJ sub,   Long time no see.  Sincerely,...   \n",
       "2  None of them. All other types hurt in deep exi...   \n",
       "3  Probably a sliding scale that depends on indiv...   \n",
       "4  Draco Malfoy also. I'd say he's either 358 or ...   \n",
       "\n",
       "                                                INTP  \\\n",
       "0  'Good one  _____   https://www.youtube.com/wat...   \n",
       "1  Of course, to which I say I know; that's my bl...   \n",
       "2  Does being absolutely positive that you and yo...   \n",
       "3                No, I didn't; thank you for a link!   \n",
       "4  So-called Ti-Si loop (and it can stem from any...   \n",
       "\n",
       "                                                ISFJ  \\\n",
       "0  'I love feeling affectionate for the one I lov...   \n",
       "1  Kind of an update on my past post above. Whate...   \n",
       "2  It feels weird being in love for the first tim...   \n",
       "3  Unsure if i completely understand the question...   \n",
       "4  Not often, but I tend to lose it more when it ...   \n",
       "\n",
       "                                                ISFP  \\\n",
       "0                        'They paint without numbers   \n",
       "1                              I'd guess at istp too   \n",
       "2  My best bud is ESFP, very funny, entertaining ...   \n",
       "3  I used to smoke weed alot, everyday from morni...   \n",
       "4  Jimi Hendrix - The Wind Cries Mary.  After all...   \n",
       "\n",
       "                                                ISTJ  \\\n",
       "0  'Newton's Universal Gravity Law. I mean seriou...   \n",
       "1  Well, if money and time was no object, I would...   \n",
       "2      http://www.oglaf.com/media/comic/failsafe.jpg   \n",
       "3  I'm still laughing! xD  http://www.youtube.com...   \n",
       "4  workaround is working for me, and I'm using FF...   \n",
       "\n",
       "                                                ISTP  \n",
       "0  'I got 593.  From what I've read about the Enn...  \n",
       "1                                       GTFO FEELER!  \n",
       "2  A lot of the stuff that you read in the INTP d...  \n",
       "3  Don't worry about it.  You are trying to make ...  \n",
       "4  My mother-in-law is an ESTJ.  She is the epito...  "
      ]
     },
     "execution_count": 16,
     "metadata": {},
     "output_type": "execute_result"
    }
   ],
   "source": [
    "allPost.head()"
   ]
  },
  {
   "cell_type": "code",
   "execution_count": 17,
   "metadata": {},
   "outputs": [
    {
     "data": {
      "text/plain": [
       "(9288, 16)"
      ]
     },
     "execution_count": 17,
     "metadata": {},
     "output_type": "execute_result"
    }
   ],
   "source": [
    "allPost.shape #display no. of rows,column in dataset"
   ]
  },
  {
   "cell_type": "code",
   "execution_count": 18,
   "metadata": {},
   "outputs": [
    {
     "data": {
      "text/plain": [
       "9288"
      ]
     },
     "execution_count": 18,
     "metadata": {},
     "output_type": "execute_result"
    }
   ],
   "source": [
    "allPost.shape[0] #no. of rows"
   ]
  },
  {
   "cell_type": "code",
   "execution_count": 19,
   "metadata": {},
   "outputs": [
    {
     "data": {
      "text/plain": [
       "16"
      ]
     },
     "execution_count": 19,
     "metadata": {},
     "output_type": "execute_result"
    }
   ],
   "source": [
    "allPost.shape[1] #no. of column"
   ]
  },
  {
   "cell_type": "code",
   "execution_count": 20,
   "metadata": {},
   "outputs": [
    {
     "data": {
      "text/plain": [
       "148608"
      ]
     },
     "execution_count": 20,
     "metadata": {},
     "output_type": "execute_result"
    }
   ],
   "source": [
    "totalElements=allPost.shape[0]*allPost.shape[1]\n",
    "totalElements"
   ]
  },
  {
   "cell_type": "code",
   "execution_count": 21,
   "metadata": {},
   "outputs": [
    {
     "data": {
      "text/plain": [
       "148608"
      ]
     },
     "execution_count": 21,
     "metadata": {},
     "output_type": "execute_result"
    }
   ],
   "source": [
    "totalElements=np.size(allPost) #same work as above\n",
    "totalElements"
   ]
  },
  {
   "cell_type": "code",
   "execution_count": 22,
   "metadata": {},
   "outputs": [
    {
     "data": {
      "text/html": [
       "<div>\n",
       "<style scoped>\n",
       "    .dataframe tbody tr th:only-of-type {\n",
       "        vertical-align: middle;\n",
       "    }\n",
       "\n",
       "    .dataframe tbody tr th {\n",
       "        vertical-align: top;\n",
       "    }\n",
       "\n",
       "    .dataframe thead th {\n",
       "        text-align: right;\n",
       "    }\n",
       "</style>\n",
       "<table border=\"1\" class=\"dataframe\">\n",
       "  <thead>\n",
       "    <tr style=\"text-align: right;\">\n",
       "      <th></th>\n",
       "      <th>ENFJ</th>\n",
       "      <th>ENFP</th>\n",
       "      <th>ENTJ</th>\n",
       "      <th>ENTP</th>\n",
       "      <th>ESFJ</th>\n",
       "      <th>ESFP</th>\n",
       "      <th>ESTJ</th>\n",
       "      <th>ESTP</th>\n",
       "      <th>INFJ</th>\n",
       "      <th>INFP</th>\n",
       "      <th>INTJ</th>\n",
       "      <th>INTP</th>\n",
       "      <th>ISFJ</th>\n",
       "      <th>ISFP</th>\n",
       "      <th>ISTJ</th>\n",
       "      <th>ISTP</th>\n",
       "    </tr>\n",
       "  </thead>\n",
       "  <tbody>\n",
       "    <tr>\n",
       "      <td>0</td>\n",
       "      <td>'https://www.youtube.com/watch?v=PLAaiKvHvZs</td>\n",
       "      <td>'He doesn't want to go on the trip without me,...</td>\n",
       "      <td>'You're fired.</td>\n",
       "      <td>'I'm finding the lack of me in these posts ver...</td>\n",
       "      <td>'Why not?</td>\n",
       "      <td>'Edit: I forgot what board this was on.</td>\n",
       "      <td>this is such a catch 22</td>\n",
       "      <td>Splinter Cell Blacklist for Xbox 360.</td>\n",
       "      <td>'http://www.youtube.com/watch?v=qsXHcwe3krw</td>\n",
       "      <td>'I think we do agree. I personally don't consi...</td>\n",
       "      <td>'Dear INTP,   I enjoyed our conversation the o...</td>\n",
       "      <td>'Good one  _____   https://www.youtube.com/wat...</td>\n",
       "      <td>'I love feeling affectionate for the one I lov...</td>\n",
       "      <td>'They paint without numbers</td>\n",
       "      <td>'Newton's Universal Gravity Law. I mean seriou...</td>\n",
       "      <td>'I got 593.  From what I've read about the Enn...</td>\n",
       "    </tr>\n",
       "    <tr>\n",
       "      <td>1</td>\n",
       "      <td>51 :o</td>\n",
       "      <td>I'm still completely in AWE and I'm AMAZED tha...</td>\n",
       "      <td>That's another silly misconception. That appro...</td>\n",
       "      <td>Sex can be boring if it's in the same position...</td>\n",
       "      <td>Any other ESFJs originally mistype as an NFP? ...</td>\n",
       "      <td>I am currently reading 'Artemis Fowl: The Eter...</td>\n",
       "      <td>I'm here! Although, I'm quite the terrible EST...</td>\n",
       "      <td>ESTPs are generally well liked. If you get hat...</td>\n",
       "      <td>http://41.media.tumblr.com/tumblr_lfouy03PMA1q...</td>\n",
       "      <td>Literature... I'd suggest 'Everyday Zen' by Ch...</td>\n",
       "      <td>Dear ENTJ sub,   Long time no see.  Sincerely,...</td>\n",
       "      <td>Of course, to which I say I know; that's my bl...</td>\n",
       "      <td>Kind of an update on my past post above. Whate...</td>\n",
       "      <td>I'd guess at istp too</td>\n",
       "      <td>Well, if money and time was no object, I would...</td>\n",
       "      <td>GTFO FEELER!</td>\n",
       "    </tr>\n",
       "    <tr>\n",
       "      <td>2</td>\n",
       "      <td>I went through a break up some months ago. We ...</td>\n",
       "      <td>Thanks, everyone. I'm struggling with being se...</td>\n",
       "      <td>But guys... he REALLY wants to go on a super-d...</td>\n",
       "      <td>Giving new meaning to 'Game' theory.</td>\n",
       "      <td>Hello again. Thanks for all your help. I know ...</td>\n",
       "      <td>Hi all, if you've got some spare time and why ...</td>\n",
       "      <td>Yikes. I do not want power...</td>\n",
       "      <td>I often come off to people with the opposite o...</td>\n",
       "      <td>enfp and intj moments  https://www.youtube.com...</td>\n",
       "      <td>Being emotional doesn't automatically make som...</td>\n",
       "      <td>None of them. All other types hurt in deep exi...</td>\n",
       "      <td>Does being absolutely positive that you and yo...</td>\n",
       "      <td>It feels weird being in love for the first tim...</td>\n",
       "      <td>My best bud is ESFP, very funny, entertaining ...</td>\n",
       "      <td>http://www.oglaf.com/media/comic/failsafe.jpg</td>\n",
       "      <td>A lot of the stuff that you read in the INTP d...</td>\n",
       "    </tr>\n",
       "    <tr>\n",
       "      <td>3</td>\n",
       "      <td>ENFJ Puns so many puns.</td>\n",
       "      <td>My husband works an extra job each year to pay...</td>\n",
       "      <td>Never mind. Just go on permanent vacation.</td>\n",
       "      <td>Hello *ENTP Grin*  That's all it takes. Than w...</td>\n",
       "      <td>Of the J functions, I'd say it would be: Fi&gt;Ti...</td>\n",
       "      <td>BABYMETAL are the best band of this decade  ht...</td>\n",
       "      <td>Thank you SO SO much. This is what I had plann...</td>\n",
       "      <td>Ask her what you are to her.</td>\n",
       "      <td>What has been the most life-changing experienc...</td>\n",
       "      <td>I'm a Ch'an Buddhist, so it's a daily thing fo...</td>\n",
       "      <td>Probably a sliding scale that depends on indiv...</td>\n",
       "      <td>No, I didn't; thank you for a link!</td>\n",
       "      <td>Unsure if i completely understand the question...</td>\n",
       "      <td>I used to smoke weed alot, everyday from morni...</td>\n",
       "      <td>I'm still laughing! xD  http://www.youtube.com...</td>\n",
       "      <td>Don't worry about it.  You are trying to make ...</td>\n",
       "    </tr>\n",
       "    <tr>\n",
       "      <td>4</td>\n",
       "      <td>Well I personally don't go that much for attra...</td>\n",
       "      <td>He said that it's not like he's asking me to d...</td>\n",
       "      <td>Two months? I wouldn't be crazy about the idea...</td>\n",
       "      <td>This + Lack of Balance and Hand Eye Coordination.</td>\n",
       "      <td>The ESFJs on this site are lovely. I'm general...</td>\n",
       "      <td>Banned for being a fire hazard.</td>\n",
       "      <td>Hi</td>\n",
       "      <td>I'm a euphonium player and a writer</td>\n",
       "      <td>http://www.youtube.com/watch?v=vXZeYwwRDw8   h...</td>\n",
       "      <td>Glad to know I'm not the only one. I meditate,...</td>\n",
       "      <td>Draco Malfoy also. I'd say he's either 358 or ...</td>\n",
       "      <td>So-called Ti-Si loop (and it can stem from any...</td>\n",
       "      <td>Not often, but I tend to lose it more when it ...</td>\n",
       "      <td>Jimi Hendrix - The Wind Cries Mary.  After all...</td>\n",
       "      <td>workaround is working for me, and I'm using FF...</td>\n",
       "      <td>My mother-in-law is an ESTJ.  She is the epito...</td>\n",
       "    </tr>\n",
       "  </tbody>\n",
       "</table>\n",
       "</div>"
      ],
      "text/plain": [
       "                                                ENFJ  \\\n",
       "0       'https://www.youtube.com/watch?v=PLAaiKvHvZs   \n",
       "1                                              51 :o   \n",
       "2  I went through a break up some months ago. We ...   \n",
       "3                            ENFJ Puns so many puns.   \n",
       "4  Well I personally don't go that much for attra...   \n",
       "\n",
       "                                                ENFP  \\\n",
       "0  'He doesn't want to go on the trip without me,...   \n",
       "1  I'm still completely in AWE and I'm AMAZED tha...   \n",
       "2  Thanks, everyone. I'm struggling with being se...   \n",
       "3  My husband works an extra job each year to pay...   \n",
       "4  He said that it's not like he's asking me to d...   \n",
       "\n",
       "                                                ENTJ  \\\n",
       "0                                     'You're fired.   \n",
       "1  That's another silly misconception. That appro...   \n",
       "2  But guys... he REALLY wants to go on a super-d...   \n",
       "3         Never mind. Just go on permanent vacation.   \n",
       "4  Two months? I wouldn't be crazy about the idea...   \n",
       "\n",
       "                                                ENTP  \\\n",
       "0  'I'm finding the lack of me in these posts ver...   \n",
       "1  Sex can be boring if it's in the same position...   \n",
       "2               Giving new meaning to 'Game' theory.   \n",
       "3  Hello *ENTP Grin*  That's all it takes. Than w...   \n",
       "4  This + Lack of Balance and Hand Eye Coordination.   \n",
       "\n",
       "                                                ESFJ  \\\n",
       "0                                          'Why not?   \n",
       "1  Any other ESFJs originally mistype as an NFP? ...   \n",
       "2  Hello again. Thanks for all your help. I know ...   \n",
       "3  Of the J functions, I'd say it would be: Fi>Ti...   \n",
       "4  The ESFJs on this site are lovely. I'm general...   \n",
       "\n",
       "                                                ESFP  \\\n",
       "0            'Edit: I forgot what board this was on.   \n",
       "1  I am currently reading 'Artemis Fowl: The Eter...   \n",
       "2  Hi all, if you've got some spare time and why ...   \n",
       "3  BABYMETAL are the best band of this decade  ht...   \n",
       "4                    Banned for being a fire hazard.   \n",
       "\n",
       "                                                ESTJ  \\\n",
       "0                           this is such a catch 22    \n",
       "1  I'm here! Although, I'm quite the terrible EST...   \n",
       "2                      Yikes. I do not want power...   \n",
       "3  Thank you SO SO much. This is what I had plann...   \n",
       "4                                                 Hi   \n",
       "\n",
       "                                                ESTP  \\\n",
       "0              Splinter Cell Blacklist for Xbox 360.   \n",
       "1  ESTPs are generally well liked. If you get hat...   \n",
       "2  I often come off to people with the opposite o...   \n",
       "3                       Ask her what you are to her.   \n",
       "4                I'm a euphonium player and a writer   \n",
       "\n",
       "                                                INFJ  \\\n",
       "0        'http://www.youtube.com/watch?v=qsXHcwe3krw   \n",
       "1  http://41.media.tumblr.com/tumblr_lfouy03PMA1q...   \n",
       "2  enfp and intj moments  https://www.youtube.com...   \n",
       "3  What has been the most life-changing experienc...   \n",
       "4  http://www.youtube.com/watch?v=vXZeYwwRDw8   h...   \n",
       "\n",
       "                                                INFP  \\\n",
       "0  'I think we do agree. I personally don't consi...   \n",
       "1  Literature... I'd suggest 'Everyday Zen' by Ch...   \n",
       "2  Being emotional doesn't automatically make som...   \n",
       "3  I'm a Ch'an Buddhist, so it's a daily thing fo...   \n",
       "4  Glad to know I'm not the only one. I meditate,...   \n",
       "\n",
       "                                                INTJ  \\\n",
       "0  'Dear INTP,   I enjoyed our conversation the o...   \n",
       "1  Dear ENTJ sub,   Long time no see.  Sincerely,...   \n",
       "2  None of them. All other types hurt in deep exi...   \n",
       "3  Probably a sliding scale that depends on indiv...   \n",
       "4  Draco Malfoy also. I'd say he's either 358 or ...   \n",
       "\n",
       "                                                INTP  \\\n",
       "0  'Good one  _____   https://www.youtube.com/wat...   \n",
       "1  Of course, to which I say I know; that's my bl...   \n",
       "2  Does being absolutely positive that you and yo...   \n",
       "3                No, I didn't; thank you for a link!   \n",
       "4  So-called Ti-Si loop (and it can stem from any...   \n",
       "\n",
       "                                                ISFJ  \\\n",
       "0  'I love feeling affectionate for the one I lov...   \n",
       "1  Kind of an update on my past post above. Whate...   \n",
       "2  It feels weird being in love for the first tim...   \n",
       "3  Unsure if i completely understand the question...   \n",
       "4  Not often, but I tend to lose it more when it ...   \n",
       "\n",
       "                                                ISFP  \\\n",
       "0                        'They paint without numbers   \n",
       "1                              I'd guess at istp too   \n",
       "2  My best bud is ESFP, very funny, entertaining ...   \n",
       "3  I used to smoke weed alot, everyday from morni...   \n",
       "4  Jimi Hendrix - The Wind Cries Mary.  After all...   \n",
       "\n",
       "                                                ISTJ  \\\n",
       "0  'Newton's Universal Gravity Law. I mean seriou...   \n",
       "1  Well, if money and time was no object, I would...   \n",
       "2      http://www.oglaf.com/media/comic/failsafe.jpg   \n",
       "3  I'm still laughing! xD  http://www.youtube.com...   \n",
       "4  workaround is working for me, and I'm using FF...   \n",
       "\n",
       "                                                ISTP  \n",
       "0  'I got 593.  From what I've read about the Enn...  \n",
       "1                                       GTFO FEELER!  \n",
       "2  A lot of the stuff that you read in the INTP d...  \n",
       "3  Don't worry about it.  You are trying to make ...  \n",
       "4  My mother-in-law is an ESTJ.  She is the epito...  "
      ]
     },
     "execution_count": 22,
     "metadata": {},
     "output_type": "execute_result"
    }
   ],
   "source": [
    "allPosts=pd.read_csv('mbtiPost.csv')\n",
    "allPosts.head()"
   ]
  },
  {
   "cell_type": "code",
   "execution_count": 23,
   "metadata": {},
   "outputs": [
    {
     "data": {
      "text/plain": [
       "ENFJ    True\n",
       "ENFP    True\n",
       "ENTJ    True\n",
       "ENTP    True\n",
       "ESFJ    True\n",
       "ESFP    True\n",
       "ESTJ    True\n",
       "ESTP    True\n",
       "INFJ    True\n",
       "INFP    True\n",
       "INTJ    True\n",
       "INTP    True\n",
       "ISFJ    True\n",
       "ISFP    True\n",
       "ISTJ    True\n",
       "ISTP    True\n",
       "dtype: bool"
      ]
     },
     "execution_count": 23,
     "metadata": {},
     "output_type": "execute_result"
    }
   ],
   "source": [
    "allPosts.isnull().any()"
   ]
  },
  {
   "cell_type": "code",
   "execution_count": 24,
   "metadata": {},
   "outputs": [
    {
     "data": {
      "text/plain": [
       "ENFJ    False\n",
       "ENFP    False\n",
       "ENTJ    False\n",
       "ENTP    False\n",
       "ESFJ    False\n",
       "ESFP    False\n",
       "ESTJ    False\n",
       "ESTP    False\n",
       "INFJ    False\n",
       "INFP    False\n",
       "INTJ    False\n",
       "INTP    False\n",
       "ISFJ    False\n",
       "ISFP    False\n",
       "ISTJ    False\n",
       "ISTP    False\n",
       "dtype: bool"
      ]
     },
     "execution_count": 24,
     "metadata": {},
     "output_type": "execute_result"
    }
   ],
   "source": [
    "allPost_withoutnull = allPosts.fillna('-') #dropna was dropping all the rows with any column as null making it to 245 rows\n",
    "allPost_withoutnull.isnull().any()"
   ]
  },
  {
   "cell_type": "code",
   "execution_count": 25,
   "metadata": {},
   "outputs": [
    {
     "data": {
      "text/plain": [
       "(9288, 16)"
      ]
     },
     "execution_count": 25,
     "metadata": {},
     "output_type": "execute_result"
    }
   ],
   "source": [
    "allPost_withoutnull.shape"
   ]
  },
  {
   "cell_type": "code",
   "execution_count": 26,
   "metadata": {},
   "outputs": [],
   "source": [
    "allPost_withoutnull.to_csv('mbtiPost_withoutnull.csv',index=False)"
   ]
  },
  {
   "cell_type": "code",
   "execution_count": 27,
   "metadata": {},
   "outputs": [
    {
     "data": {
      "text/html": [
       "<div>\n",
       "<style scoped>\n",
       "    .dataframe tbody tr th:only-of-type {\n",
       "        vertical-align: middle;\n",
       "    }\n",
       "\n",
       "    .dataframe tbody tr th {\n",
       "        vertical-align: top;\n",
       "    }\n",
       "\n",
       "    .dataframe thead th {\n",
       "        text-align: right;\n",
       "    }\n",
       "</style>\n",
       "<table border=\"1\" class=\"dataframe\">\n",
       "  <thead>\n",
       "    <tr style=\"text-align: right;\">\n",
       "      <th></th>\n",
       "      <th>ENFJ</th>\n",
       "      <th>ENFP</th>\n",
       "      <th>ENTJ</th>\n",
       "      <th>ENTP</th>\n",
       "      <th>ESFJ</th>\n",
       "      <th>ESFP</th>\n",
       "      <th>ESTJ</th>\n",
       "      <th>ESTP</th>\n",
       "      <th>INFJ</th>\n",
       "      <th>INFP</th>\n",
       "      <th>INTJ</th>\n",
       "      <th>INTP</th>\n",
       "      <th>ISFJ</th>\n",
       "      <th>ISFP</th>\n",
       "      <th>ISTJ</th>\n",
       "      <th>ISTP</th>\n",
       "    </tr>\n",
       "  </thead>\n",
       "  <tbody>\n",
       "    <tr>\n",
       "      <td>0</td>\n",
       "      <td>'-</td>\n",
       "      <td>'He doesn't want to go on the trip without me,...</td>\n",
       "      <td>'You're fired.</td>\n",
       "      <td>'I'm finding the lack of me in these posts ver...</td>\n",
       "      <td>'Why not?</td>\n",
       "      <td>'Edit: I forgot what board this was on.</td>\n",
       "      <td>this is such a catch 22</td>\n",
       "      <td>Splinter Cell Blacklist for Xbox 360.</td>\n",
       "      <td>'-</td>\n",
       "      <td>'I think we do agree. I personally don't consi...</td>\n",
       "      <td>'Dear INTP,   I enjoyed our conversation the o...</td>\n",
       "      <td>'Good one  _____   -</td>\n",
       "      <td>'I love feeling affectionate for the one I lov...</td>\n",
       "      <td>'They paint without numbers</td>\n",
       "      <td>'Newton's Universal Gravity Law. I mean seriou...</td>\n",
       "      <td>'I got 593.  From what I've read about the Enn...</td>\n",
       "    </tr>\n",
       "    <tr>\n",
       "      <td>1</td>\n",
       "      <td>51 :o</td>\n",
       "      <td>I'm still completely in AWE and I'm AMAZED tha...</td>\n",
       "      <td>That's another silly misconception. That appro...</td>\n",
       "      <td>Sex can be boring if it's in the same position...</td>\n",
       "      <td>Any other ESFJs originally mistype as an NFP? ...</td>\n",
       "      <td>I am currently reading 'Artemis Fowl: The Eter...</td>\n",
       "      <td>I'm here! Although, I'm quite the terrible EST...</td>\n",
       "      <td>ESTPs are generally well liked. If you get hat...</td>\n",
       "      <td>http://41.media.tumblr.com/tumblr_lfouy03PMA1q...</td>\n",
       "      <td>Literature... I'd suggest 'Everyday Zen' by Ch...</td>\n",
       "      <td>Dear ENTJ sub,   Long time no see.  Sincerely,...</td>\n",
       "      <td>Of course, to which I say I know; that's my bl...</td>\n",
       "      <td>Kind of an update on my past post above. Whate...</td>\n",
       "      <td>I'd guess at istp too</td>\n",
       "      <td>Well, if money and time was no object, I would...</td>\n",
       "      <td>GTFO FEELER!</td>\n",
       "    </tr>\n",
       "    <tr>\n",
       "      <td>2</td>\n",
       "      <td>I went through a break up some months ago. We ...</td>\n",
       "      <td>Thanks, everyone. I'm struggling with being se...</td>\n",
       "      <td>But guys... he REALLY wants to go on a super-d...</td>\n",
       "      <td>Giving new meaning to 'Game' theory.</td>\n",
       "      <td>Hello again. Thanks for all your help. I know ...</td>\n",
       "      <td>Hi all, if you've got some spare time and why ...</td>\n",
       "      <td>Yikes. I do not want power...</td>\n",
       "      <td>I often come off to people with the opposite o...</td>\n",
       "      <td>enfp and intj moments  -  sportscenter not top...</td>\n",
       "      <td>Being emotional doesn't automatically make som...</td>\n",
       "      <td>None of them. All other types hurt in deep exi...</td>\n",
       "      <td>Does being absolutely positive that you and yo...</td>\n",
       "      <td>It feels weird being in love for the first tim...</td>\n",
       "      <td>My best bud is ESFP, very funny, entertaining ...</td>\n",
       "      <td>-</td>\n",
       "      <td>A lot of the stuff that you read in the INTP d...</td>\n",
       "    </tr>\n",
       "    <tr>\n",
       "      <td>3</td>\n",
       "      <td>ENFJ Puns so many puns.</td>\n",
       "      <td>My husband works an extra job each year to pay...</td>\n",
       "      <td>Never mind. Just go on permanent vacation.</td>\n",
       "      <td>Hello *ENTP Grin*  That's all it takes. Than w...</td>\n",
       "      <td>Of the J functions, I'd say it would be: Fi&gt;Ti...</td>\n",
       "      <td>BABYMETAL are the best band of this decade  -</td>\n",
       "      <td>Thank you SO SO much. This is what I had plann...</td>\n",
       "      <td>Ask her what you are to her.</td>\n",
       "      <td>What has been the most life-changing experienc...</td>\n",
       "      <td>I'm a Ch'an Buddhist, so it's a daily thing fo...</td>\n",
       "      <td>Probably a sliding scale that depends on indiv...</td>\n",
       "      <td>No, I didn't; thank you for a link!</td>\n",
       "      <td>Unsure if i completely understand the question...</td>\n",
       "      <td>I used to smoke weed alot, everyday from morni...</td>\n",
       "      <td>I'm still laughing! xD  -  -</td>\n",
       "      <td>Don't worry about it.  You are trying to make ...</td>\n",
       "    </tr>\n",
       "    <tr>\n",
       "      <td>4</td>\n",
       "      <td>Well I personally don't go that much for attra...</td>\n",
       "      <td>He said that it's not like he's asking me to d...</td>\n",
       "      <td>Two months? I wouldn't be crazy about the idea...</td>\n",
       "      <td>This + Lack of Balance and Hand Eye Coordination.</td>\n",
       "      <td>The ESFJs on this site are lovely. I'm general...</td>\n",
       "      <td>Banned for being a fire hazard.</td>\n",
       "      <td>Hi</td>\n",
       "      <td>I'm a euphonium player and a writer</td>\n",
       "      <td>-   -  On repeat for most of today.</td>\n",
       "      <td>Glad to know I'm not the only one. I meditate,...</td>\n",
       "      <td>Draco Malfoy also. I'd say he's either 358 or ...</td>\n",
       "      <td>So-called Ti-Si loop (and it can stem from any...</td>\n",
       "      <td>Not often, but I tend to lose it more when it ...</td>\n",
       "      <td>Jimi Hendrix - The Wind Cries Mary.  After all...</td>\n",
       "      <td>workaround is working for me, and I'm using FF...</td>\n",
       "      <td>My mother-in-law is an ESTJ.  She is the epito...</td>\n",
       "    </tr>\n",
       "  </tbody>\n",
       "</table>\n",
       "</div>"
      ],
      "text/plain": [
       "                                                ENFJ  \\\n",
       "0                                                 '-   \n",
       "1                                              51 :o   \n",
       "2  I went through a break up some months ago. We ...   \n",
       "3                            ENFJ Puns so many puns.   \n",
       "4  Well I personally don't go that much for attra...   \n",
       "\n",
       "                                                ENFP  \\\n",
       "0  'He doesn't want to go on the trip without me,...   \n",
       "1  I'm still completely in AWE and I'm AMAZED tha...   \n",
       "2  Thanks, everyone. I'm struggling with being se...   \n",
       "3  My husband works an extra job each year to pay...   \n",
       "4  He said that it's not like he's asking me to d...   \n",
       "\n",
       "                                                ENTJ  \\\n",
       "0                                     'You're fired.   \n",
       "1  That's another silly misconception. That appro...   \n",
       "2  But guys... he REALLY wants to go on a super-d...   \n",
       "3         Never mind. Just go on permanent vacation.   \n",
       "4  Two months? I wouldn't be crazy about the idea...   \n",
       "\n",
       "                                                ENTP  \\\n",
       "0  'I'm finding the lack of me in these posts ver...   \n",
       "1  Sex can be boring if it's in the same position...   \n",
       "2               Giving new meaning to 'Game' theory.   \n",
       "3  Hello *ENTP Grin*  That's all it takes. Than w...   \n",
       "4  This + Lack of Balance and Hand Eye Coordination.   \n",
       "\n",
       "                                                ESFJ  \\\n",
       "0                                          'Why not?   \n",
       "1  Any other ESFJs originally mistype as an NFP? ...   \n",
       "2  Hello again. Thanks for all your help. I know ...   \n",
       "3  Of the J functions, I'd say it would be: Fi>Ti...   \n",
       "4  The ESFJs on this site are lovely. I'm general...   \n",
       "\n",
       "                                                ESFP  \\\n",
       "0            'Edit: I forgot what board this was on.   \n",
       "1  I am currently reading 'Artemis Fowl: The Eter...   \n",
       "2  Hi all, if you've got some spare time and why ...   \n",
       "3      BABYMETAL are the best band of this decade  -   \n",
       "4                    Banned for being a fire hazard.   \n",
       "\n",
       "                                                ESTJ  \\\n",
       "0                           this is such a catch 22    \n",
       "1  I'm here! Although, I'm quite the terrible EST...   \n",
       "2                      Yikes. I do not want power...   \n",
       "3  Thank you SO SO much. This is what I had plann...   \n",
       "4                                                 Hi   \n",
       "\n",
       "                                                ESTP  \\\n",
       "0              Splinter Cell Blacklist for Xbox 360.   \n",
       "1  ESTPs are generally well liked. If you get hat...   \n",
       "2  I often come off to people with the opposite o...   \n",
       "3                       Ask her what you are to her.   \n",
       "4                I'm a euphonium player and a writer   \n",
       "\n",
       "                                                INFJ  \\\n",
       "0                                                 '-   \n",
       "1  http://41.media.tumblr.com/tumblr_lfouy03PMA1q...   \n",
       "2  enfp and intj moments  -  sportscenter not top...   \n",
       "3  What has been the most life-changing experienc...   \n",
       "4                -   -  On repeat for most of today.   \n",
       "\n",
       "                                                INFP  \\\n",
       "0  'I think we do agree. I personally don't consi...   \n",
       "1  Literature... I'd suggest 'Everyday Zen' by Ch...   \n",
       "2  Being emotional doesn't automatically make som...   \n",
       "3  I'm a Ch'an Buddhist, so it's a daily thing fo...   \n",
       "4  Glad to know I'm not the only one. I meditate,...   \n",
       "\n",
       "                                                INTJ  \\\n",
       "0  'Dear INTP,   I enjoyed our conversation the o...   \n",
       "1  Dear ENTJ sub,   Long time no see.  Sincerely,...   \n",
       "2  None of them. All other types hurt in deep exi...   \n",
       "3  Probably a sliding scale that depends on indiv...   \n",
       "4  Draco Malfoy also. I'd say he's either 358 or ...   \n",
       "\n",
       "                                                INTP  \\\n",
       "0                               'Good one  _____   -   \n",
       "1  Of course, to which I say I know; that's my bl...   \n",
       "2  Does being absolutely positive that you and yo...   \n",
       "3                No, I didn't; thank you for a link!   \n",
       "4  So-called Ti-Si loop (and it can stem from any...   \n",
       "\n",
       "                                                ISFJ  \\\n",
       "0  'I love feeling affectionate for the one I lov...   \n",
       "1  Kind of an update on my past post above. Whate...   \n",
       "2  It feels weird being in love for the first tim...   \n",
       "3  Unsure if i completely understand the question...   \n",
       "4  Not often, but I tend to lose it more when it ...   \n",
       "\n",
       "                                                ISFP  \\\n",
       "0                        'They paint without numbers   \n",
       "1                              I'd guess at istp too   \n",
       "2  My best bud is ESFP, very funny, entertaining ...   \n",
       "3  I used to smoke weed alot, everyday from morni...   \n",
       "4  Jimi Hendrix - The Wind Cries Mary.  After all...   \n",
       "\n",
       "                                                ISTJ  \\\n",
       "0  'Newton's Universal Gravity Law. I mean seriou...   \n",
       "1  Well, if money and time was no object, I would...   \n",
       "2                                                  -   \n",
       "3                       I'm still laughing! xD  -  -   \n",
       "4  workaround is working for me, and I'm using FF...   \n",
       "\n",
       "                                                ISTP  \n",
       "0  'I got 593.  From what I've read about the Enn...  \n",
       "1                                       GTFO FEELER!  \n",
       "2  A lot of the stuff that you read in the INTP d...  \n",
       "3  Don't worry about it.  You are trying to make ...  \n",
       "4  My mother-in-law is an ESTJ.  She is the epito...  "
      ]
     },
     "execution_count": 27,
     "metadata": {},
     "output_type": "execute_result"
    }
   ],
   "source": [
    "for j in types:\n",
    "    allPost_withoutnull[j]=allPost_withoutnull[j].str.replace('https?://(i\\.)?(www\\.)?(\\w+)(\\.\\w+)(\\/)(\\w+)(\\S+)','-',case=False)\n",
    "    #replacing the urls by '-'\n",
    "allPost_withoutnull.head() "
   ]
  },
  {
   "cell_type": "code",
   "execution_count": 28,
   "metadata": {},
   "outputs": [
    {
     "data": {
      "text/html": [
       "<div>\n",
       "<style scoped>\n",
       "    .dataframe tbody tr th:only-of-type {\n",
       "        vertical-align: middle;\n",
       "    }\n",
       "\n",
       "    .dataframe tbody tr th {\n",
       "        vertical-align: top;\n",
       "    }\n",
       "\n",
       "    .dataframe thead th {\n",
       "        text-align: right;\n",
       "    }\n",
       "</style>\n",
       "<table border=\"1\" class=\"dataframe\">\n",
       "  <thead>\n",
       "    <tr style=\"text-align: right;\">\n",
       "      <th></th>\n",
       "      <th>ENFJ</th>\n",
       "      <th>ENFP</th>\n",
       "      <th>ENTJ</th>\n",
       "      <th>ENTP</th>\n",
       "      <th>ESFJ</th>\n",
       "      <th>ESFP</th>\n",
       "      <th>ESTJ</th>\n",
       "      <th>ESTP</th>\n",
       "      <th>INFJ</th>\n",
       "      <th>INFP</th>\n",
       "      <th>INTJ</th>\n",
       "      <th>INTP</th>\n",
       "      <th>ISFJ</th>\n",
       "      <th>ISFP</th>\n",
       "      <th>ISTJ</th>\n",
       "      <th>ISTP</th>\n",
       "    </tr>\n",
       "  </thead>\n",
       "  <tbody>\n",
       "    <tr>\n",
       "      <td>0</td>\n",
       "      <td>'-</td>\n",
       "      <td>'He doesn't want to go on the trip without me,...</td>\n",
       "      <td>'You're fired.</td>\n",
       "      <td>'I'm finding the lack of me in these posts ver...</td>\n",
       "      <td>'Why not?</td>\n",
       "      <td>'Edit: I forgot what board this was on.</td>\n",
       "      <td>this is such a catch 22</td>\n",
       "      <td>Splinter Cell Blacklist for Xbox 360.</td>\n",
       "      <td>'-</td>\n",
       "      <td>'I think we do agree. I personally don't consi...</td>\n",
       "      <td>'Dear INTP,   I enjoyed our conversation the o...</td>\n",
       "      <td>'Good one  _____   -</td>\n",
       "      <td>'I love feeling affectionate for the one I lov...</td>\n",
       "      <td>'They paint without numbers</td>\n",
       "      <td>'Newton's Universal Gravity Law. I mean seriou...</td>\n",
       "      <td>'I got 593.  From what I've read about the Enn...</td>\n",
       "    </tr>\n",
       "    <tr>\n",
       "      <td>1</td>\n",
       "      <td>51 :o</td>\n",
       "      <td>I'm still completely in AWE and I'm AMAZED tha...</td>\n",
       "      <td>That's another silly misconception. That appro...</td>\n",
       "      <td>Sex can be boring if it's in the same position...</td>\n",
       "      <td>Any other ESFJs originally mistype as an NFP? ...</td>\n",
       "      <td>I am currently reading 'Artemis Fowl: The Eter...</td>\n",
       "      <td>I'm here! Although, I'm quite the terrible EST...</td>\n",
       "      <td>ESTPs are generally well liked. If you get hat...</td>\n",
       "      <td>-</td>\n",
       "      <td>Literature... I'd suggest 'Everyday Zen' by Ch...</td>\n",
       "      <td>Dear ENTJ sub,   Long time no see.  Sincerely,...</td>\n",
       "      <td>Of course, to which I say I know; that's my bl...</td>\n",
       "      <td>Kind of an update on my past post above. Whate...</td>\n",
       "      <td>I'd guess at istp too</td>\n",
       "      <td>Well, if money and time was no object, I would...</td>\n",
       "      <td>GTFO FEELER!</td>\n",
       "    </tr>\n",
       "    <tr>\n",
       "      <td>2</td>\n",
       "      <td>I went through a break up some months ago. We ...</td>\n",
       "      <td>Thanks, everyone. I'm struggling with being se...</td>\n",
       "      <td>But guys... he REALLY wants to go on a super-d...</td>\n",
       "      <td>Giving new meaning to 'Game' theory.</td>\n",
       "      <td>Hello again. Thanks for all your help. I know ...</td>\n",
       "      <td>Hi all, if you've got some spare time and why ...</td>\n",
       "      <td>Yikes. I do not want power...</td>\n",
       "      <td>I often come off to people with the opposite o...</td>\n",
       "      <td>enfp and intj moments  -  sportscenter not top...</td>\n",
       "      <td>Being emotional doesn't automatically make som...</td>\n",
       "      <td>None of them. All other types hurt in deep exi...</td>\n",
       "      <td>Does being absolutely positive that you and yo...</td>\n",
       "      <td>It feels weird being in love for the first tim...</td>\n",
       "      <td>My best bud is ESFP, very funny, entertaining ...</td>\n",
       "      <td>-</td>\n",
       "      <td>A lot of the stuff that you read in the INTP d...</td>\n",
       "    </tr>\n",
       "    <tr>\n",
       "      <td>3</td>\n",
       "      <td>ENFJ Puns so many puns.</td>\n",
       "      <td>My husband works an extra job each year to pay...</td>\n",
       "      <td>Never mind. Just go on permanent vacation.</td>\n",
       "      <td>Hello *ENTP Grin*  That's all it takes. Than w...</td>\n",
       "      <td>Of the J functions, I'd say it would be: Fi&gt;Ti...</td>\n",
       "      <td>BABYMETAL are the best band of this decade  -</td>\n",
       "      <td>Thank you SO SO much. This is what I had plann...</td>\n",
       "      <td>Ask her what you are to her.</td>\n",
       "      <td>What has been the most life-changing experienc...</td>\n",
       "      <td>I'm a Ch'an Buddhist, so it's a daily thing fo...</td>\n",
       "      <td>Probably a sliding scale that depends on indiv...</td>\n",
       "      <td>No, I didn't; thank you for a link!</td>\n",
       "      <td>Unsure if i completely understand the question...</td>\n",
       "      <td>I used to smoke weed alot, everyday from morni...</td>\n",
       "      <td>I'm still laughing! xD  -  -</td>\n",
       "      <td>Don't worry about it.  You are trying to make ...</td>\n",
       "    </tr>\n",
       "    <tr>\n",
       "      <td>4</td>\n",
       "      <td>Well I personally don't go that much for attra...</td>\n",
       "      <td>He said that it's not like he's asking me to d...</td>\n",
       "      <td>Two months? I wouldn't be crazy about the idea...</td>\n",
       "      <td>This + Lack of Balance and Hand Eye Coordination.</td>\n",
       "      <td>The ESFJs on this site are lovely. I'm general...</td>\n",
       "      <td>Banned for being a fire hazard.</td>\n",
       "      <td>Hi</td>\n",
       "      <td>I'm a euphonium player and a writer</td>\n",
       "      <td>-   -  On repeat for most of today.</td>\n",
       "      <td>Glad to know I'm not the only one. I meditate,...</td>\n",
       "      <td>Draco Malfoy also. I'd say he's either 358 or ...</td>\n",
       "      <td>So-called Ti-Si loop (and it can stem from any...</td>\n",
       "      <td>Not often, but I tend to lose it more when it ...</td>\n",
       "      <td>Jimi Hendrix - The Wind Cries Mary.  After all...</td>\n",
       "      <td>workaround is working for me, and I'm using FF...</td>\n",
       "      <td>My mother-in-law is an ESTJ.  She is the epito...</td>\n",
       "    </tr>\n",
       "  </tbody>\n",
       "</table>\n",
       "</div>"
      ],
      "text/plain": [
       "                                                ENFJ  \\\n",
       "0                                                 '-   \n",
       "1                                              51 :o   \n",
       "2  I went through a break up some months ago. We ...   \n",
       "3                            ENFJ Puns so many puns.   \n",
       "4  Well I personally don't go that much for attra...   \n",
       "\n",
       "                                                ENFP  \\\n",
       "0  'He doesn't want to go on the trip without me,...   \n",
       "1  I'm still completely in AWE and I'm AMAZED tha...   \n",
       "2  Thanks, everyone. I'm struggling with being se...   \n",
       "3  My husband works an extra job each year to pay...   \n",
       "4  He said that it's not like he's asking me to d...   \n",
       "\n",
       "                                                ENTJ  \\\n",
       "0                                     'You're fired.   \n",
       "1  That's another silly misconception. That appro...   \n",
       "2  But guys... he REALLY wants to go on a super-d...   \n",
       "3         Never mind. Just go on permanent vacation.   \n",
       "4  Two months? I wouldn't be crazy about the idea...   \n",
       "\n",
       "                                                ENTP  \\\n",
       "0  'I'm finding the lack of me in these posts ver...   \n",
       "1  Sex can be boring if it's in the same position...   \n",
       "2               Giving new meaning to 'Game' theory.   \n",
       "3  Hello *ENTP Grin*  That's all it takes. Than w...   \n",
       "4  This + Lack of Balance and Hand Eye Coordination.   \n",
       "\n",
       "                                                ESFJ  \\\n",
       "0                                          'Why not?   \n",
       "1  Any other ESFJs originally mistype as an NFP? ...   \n",
       "2  Hello again. Thanks for all your help. I know ...   \n",
       "3  Of the J functions, I'd say it would be: Fi>Ti...   \n",
       "4  The ESFJs on this site are lovely. I'm general...   \n",
       "\n",
       "                                                ESFP  \\\n",
       "0            'Edit: I forgot what board this was on.   \n",
       "1  I am currently reading 'Artemis Fowl: The Eter...   \n",
       "2  Hi all, if you've got some spare time and why ...   \n",
       "3      BABYMETAL are the best band of this decade  -   \n",
       "4                    Banned for being a fire hazard.   \n",
       "\n",
       "                                                ESTJ  \\\n",
       "0                           this is such a catch 22    \n",
       "1  I'm here! Although, I'm quite the terrible EST...   \n",
       "2                      Yikes. I do not want power...   \n",
       "3  Thank you SO SO much. This is what I had plann...   \n",
       "4                                                 Hi   \n",
       "\n",
       "                                                ESTP  \\\n",
       "0              Splinter Cell Blacklist for Xbox 360.   \n",
       "1  ESTPs are generally well liked. If you get hat...   \n",
       "2  I often come off to people with the opposite o...   \n",
       "3                       Ask her what you are to her.   \n",
       "4                I'm a euphonium player and a writer   \n",
       "\n",
       "                                                INFJ  \\\n",
       "0                                                 '-   \n",
       "1                                                  -   \n",
       "2  enfp and intj moments  -  sportscenter not top...   \n",
       "3  What has been the most life-changing experienc...   \n",
       "4                -   -  On repeat for most of today.   \n",
       "\n",
       "                                                INFP  \\\n",
       "0  'I think we do agree. I personally don't consi...   \n",
       "1  Literature... I'd suggest 'Everyday Zen' by Ch...   \n",
       "2  Being emotional doesn't automatically make som...   \n",
       "3  I'm a Ch'an Buddhist, so it's a daily thing fo...   \n",
       "4  Glad to know I'm not the only one. I meditate,...   \n",
       "\n",
       "                                                INTJ  \\\n",
       "0  'Dear INTP,   I enjoyed our conversation the o...   \n",
       "1  Dear ENTJ sub,   Long time no see.  Sincerely,...   \n",
       "2  None of them. All other types hurt in deep exi...   \n",
       "3  Probably a sliding scale that depends on indiv...   \n",
       "4  Draco Malfoy also. I'd say he's either 358 or ...   \n",
       "\n",
       "                                                INTP  \\\n",
       "0                               'Good one  _____   -   \n",
       "1  Of course, to which I say I know; that's my bl...   \n",
       "2  Does being absolutely positive that you and yo...   \n",
       "3                No, I didn't; thank you for a link!   \n",
       "4  So-called Ti-Si loop (and it can stem from any...   \n",
       "\n",
       "                                                ISFJ  \\\n",
       "0  'I love feeling affectionate for the one I lov...   \n",
       "1  Kind of an update on my past post above. Whate...   \n",
       "2  It feels weird being in love for the first tim...   \n",
       "3  Unsure if i completely understand the question...   \n",
       "4  Not often, but I tend to lose it more when it ...   \n",
       "\n",
       "                                                ISFP  \\\n",
       "0                        'They paint without numbers   \n",
       "1                              I'd guess at istp too   \n",
       "2  My best bud is ESFP, very funny, entertaining ...   \n",
       "3  I used to smoke weed alot, everyday from morni...   \n",
       "4  Jimi Hendrix - The Wind Cries Mary.  After all...   \n",
       "\n",
       "                                                ISTJ  \\\n",
       "0  'Newton's Universal Gravity Law. I mean seriou...   \n",
       "1  Well, if money and time was no object, I would...   \n",
       "2                                                  -   \n",
       "3                       I'm still laughing! xD  -  -   \n",
       "4  workaround is working for me, and I'm using FF...   \n",
       "\n",
       "                                                ISTP  \n",
       "0  'I got 593.  From what I've read about the Enn...  \n",
       "1                                       GTFO FEELER!  \n",
       "2  A lot of the stuff that you read in the INTP d...  \n",
       "3  Don't worry about it.  You are trying to make ...  \n",
       "4  My mother-in-law is an ESTJ.  She is the epito...  "
      ]
     },
     "execution_count": 28,
     "metadata": {},
     "output_type": "execute_result"
    }
   ],
   "source": [
    "for j in types:\n",
    "   allPost_withoutnull[j]=allPost_withoutnull[j].str.replace('https?://(\\w+\\.)?(\\S+.)','-',case=False)\n",
    "allPost_withoutnull.head()  "
   ]
  },
  {
   "cell_type": "code",
   "execution_count": 29,
   "metadata": {},
   "outputs": [],
   "source": [
    "Filtereddata = pd.DataFrame(allPost_withoutnull)\n",
    "Filtereddata.to_csv('Finalmbtifiltered.csv', index=False)"
   ]
  },
  {
   "cell_type": "code",
   "execution_count": 30,
   "metadata": {},
   "outputs": [
    {
     "data": {
      "text/html": [
       "<div>\n",
       "<style scoped>\n",
       "    .dataframe tbody tr th:only-of-type {\n",
       "        vertical-align: middle;\n",
       "    }\n",
       "\n",
       "    .dataframe tbody tr th {\n",
       "        vertical-align: top;\n",
       "    }\n",
       "\n",
       "    .dataframe thead th {\n",
       "        text-align: right;\n",
       "    }\n",
       "</style>\n",
       "<table border=\"1\" class=\"dataframe\">\n",
       "  <thead>\n",
       "    <tr style=\"text-align: right;\">\n",
       "      <th></th>\n",
       "      <th>ENFJ</th>\n",
       "      <th>ENFP</th>\n",
       "      <th>ENTJ</th>\n",
       "      <th>ENTP</th>\n",
       "      <th>ESFJ</th>\n",
       "      <th>ESFP</th>\n",
       "      <th>ESTJ</th>\n",
       "      <th>ESTP</th>\n",
       "      <th>INFJ</th>\n",
       "      <th>INFP</th>\n",
       "      <th>INTJ</th>\n",
       "      <th>INTP</th>\n",
       "      <th>ISFJ</th>\n",
       "      <th>ISFP</th>\n",
       "      <th>ISTJ</th>\n",
       "      <th>ISTP</th>\n",
       "    </tr>\n",
       "  </thead>\n",
       "  <tbody>\n",
       "    <tr>\n",
       "      <td>0</td>\n",
       "      <td>'-</td>\n",
       "      <td>'He doesn't want to go on the trip without me,...</td>\n",
       "      <td>'You're fired.</td>\n",
       "      <td>'I'm finding the lack of me in these posts ver...</td>\n",
       "      <td>'Why not?</td>\n",
       "      <td>'Edit: I forgot what board this was on.</td>\n",
       "      <td>this is such a catch 22</td>\n",
       "      <td>Splinter Cell Blacklist for Xbox 360.</td>\n",
       "      <td>'-</td>\n",
       "      <td>'I think we do agree. I personally don't consi...</td>\n",
       "      <td>'Dear INTP,   I enjoyed our conversation the o...</td>\n",
       "      <td>'Good one  _____   -</td>\n",
       "      <td>'I love feeling affectionate for the one I lov...</td>\n",
       "      <td>'They paint without numbers</td>\n",
       "      <td>'Newton's Universal Gravity Law. I mean seriou...</td>\n",
       "      <td>'I got 593.  From what I've read about the Enn...</td>\n",
       "    </tr>\n",
       "    <tr>\n",
       "      <td>1</td>\n",
       "      <td>51 :o</td>\n",
       "      <td>I'm still completely in AWE and I'm AMAZED tha...</td>\n",
       "      <td>That's another silly misconception. That appro...</td>\n",
       "      <td>Sex can be boring if it's in the same position...</td>\n",
       "      <td>Any other ESFJs originally mistype as an NFP? ...</td>\n",
       "      <td>I am currently reading 'Artemis Fowl: The Eter...</td>\n",
       "      <td>I'm here! Although, I'm quite the terrible EST...</td>\n",
       "      <td>ESTPs are generally well liked. If you get hat...</td>\n",
       "      <td>-</td>\n",
       "      <td>Literature... I'd suggest 'Everyday Zen' by Ch...</td>\n",
       "      <td>Dear ENTJ sub,   Long time no see.  Sincerely,...</td>\n",
       "      <td>Of course, to which I say I know; that's my bl...</td>\n",
       "      <td>Kind of an update on my past post above. Whate...</td>\n",
       "      <td>I'd guess at istp too</td>\n",
       "      <td>Well, if money and time was no object, I would...</td>\n",
       "      <td>GTFO FEELER!</td>\n",
       "    </tr>\n",
       "    <tr>\n",
       "      <td>2</td>\n",
       "      <td>I went through a break up some months ago. We ...</td>\n",
       "      <td>Thanks, everyone. I'm struggling with being se...</td>\n",
       "      <td>But guys... he REALLY wants to go on a super-d...</td>\n",
       "      <td>Giving new meaning to 'Game' theory.</td>\n",
       "      <td>Hello again. Thanks for all your help. I know ...</td>\n",
       "      <td>Hi all, if you've got some spare time and why ...</td>\n",
       "      <td>Yikes. I do not want power...</td>\n",
       "      <td>I often come off to people with the opposite o...</td>\n",
       "      <td>enfp and intj moments  -  sportscenter not top...</td>\n",
       "      <td>Being emotional doesn't automatically make som...</td>\n",
       "      <td>None of them. All other types hurt in deep exi...</td>\n",
       "      <td>Does being absolutely positive that you and yo...</td>\n",
       "      <td>It feels weird being in love for the first tim...</td>\n",
       "      <td>My best bud is ESFP, very funny, entertaining ...</td>\n",
       "      <td>-</td>\n",
       "      <td>A lot of the stuff that you read in the INTP d...</td>\n",
       "    </tr>\n",
       "    <tr>\n",
       "      <td>3</td>\n",
       "      <td>ENFJ Puns so many puns.</td>\n",
       "      <td>My husband works an extra job each year to pay...</td>\n",
       "      <td>Never mind. Just go on permanent vacation.</td>\n",
       "      <td>Hello *ENTP Grin*  That's all it takes. Than w...</td>\n",
       "      <td>Of the J functions, I'd say it would be: Fi&gt;Ti...</td>\n",
       "      <td>BABYMETAL are the best band of this decade  -</td>\n",
       "      <td>Thank you SO SO much. This is what I had plann...</td>\n",
       "      <td>Ask her what you are to her.</td>\n",
       "      <td>What has been the most life-changing experienc...</td>\n",
       "      <td>I'm a Ch'an Buddhist, so it's a daily thing fo...</td>\n",
       "      <td>Probably a sliding scale that depends on indiv...</td>\n",
       "      <td>No, I didn't; thank you for a link!</td>\n",
       "      <td>Unsure if i completely understand the question...</td>\n",
       "      <td>I used to smoke weed alot, everyday from morni...</td>\n",
       "      <td>I'm still laughing! xD  -  -</td>\n",
       "      <td>Don't worry about it.  You are trying to make ...</td>\n",
       "    </tr>\n",
       "    <tr>\n",
       "      <td>4</td>\n",
       "      <td>Well I personally don't go that much for attra...</td>\n",
       "      <td>He said that it's not like he's asking me to d...</td>\n",
       "      <td>Two months? I wouldn't be crazy about the idea...</td>\n",
       "      <td>This + Lack of Balance and Hand Eye Coordination.</td>\n",
       "      <td>The ESFJs on this site are lovely. I'm general...</td>\n",
       "      <td>Banned for being a fire hazard.</td>\n",
       "      <td>Hi</td>\n",
       "      <td>I'm a euphonium player and a writer</td>\n",
       "      <td>-   -  On repeat for most of today.</td>\n",
       "      <td>Glad to know I'm not the only one. I meditate,...</td>\n",
       "      <td>Draco Malfoy also. I'd say he's either 358 or ...</td>\n",
       "      <td>So-called Ti-Si loop (and it can stem from any...</td>\n",
       "      <td>Not often, but I tend to lose it more when it ...</td>\n",
       "      <td>Jimi Hendrix - The Wind Cries Mary.  After all...</td>\n",
       "      <td>workaround is working for me, and I'm using FF...</td>\n",
       "      <td>My mother-in-law is an ESTJ.  She is the epito...</td>\n",
       "    </tr>\n",
       "  </tbody>\n",
       "</table>\n",
       "</div>"
      ],
      "text/plain": [
       "                                                ENFJ  \\\n",
       "0                                                 '-   \n",
       "1                                              51 :o   \n",
       "2  I went through a break up some months ago. We ...   \n",
       "3                            ENFJ Puns so many puns.   \n",
       "4  Well I personally don't go that much for attra...   \n",
       "\n",
       "                                                ENFP  \\\n",
       "0  'He doesn't want to go on the trip without me,...   \n",
       "1  I'm still completely in AWE and I'm AMAZED tha...   \n",
       "2  Thanks, everyone. I'm struggling with being se...   \n",
       "3  My husband works an extra job each year to pay...   \n",
       "4  He said that it's not like he's asking me to d...   \n",
       "\n",
       "                                                ENTJ  \\\n",
       "0                                     'You're fired.   \n",
       "1  That's another silly misconception. That appro...   \n",
       "2  But guys... he REALLY wants to go on a super-d...   \n",
       "3         Never mind. Just go on permanent vacation.   \n",
       "4  Two months? I wouldn't be crazy about the idea...   \n",
       "\n",
       "                                                ENTP  \\\n",
       "0  'I'm finding the lack of me in these posts ver...   \n",
       "1  Sex can be boring if it's in the same position...   \n",
       "2               Giving new meaning to 'Game' theory.   \n",
       "3  Hello *ENTP Grin*  That's all it takes. Than w...   \n",
       "4  This + Lack of Balance and Hand Eye Coordination.   \n",
       "\n",
       "                                                ESFJ  \\\n",
       "0                                          'Why not?   \n",
       "1  Any other ESFJs originally mistype as an NFP? ...   \n",
       "2  Hello again. Thanks for all your help. I know ...   \n",
       "3  Of the J functions, I'd say it would be: Fi>Ti...   \n",
       "4  The ESFJs on this site are lovely. I'm general...   \n",
       "\n",
       "                                                ESFP  \\\n",
       "0            'Edit: I forgot what board this was on.   \n",
       "1  I am currently reading 'Artemis Fowl: The Eter...   \n",
       "2  Hi all, if you've got some spare time and why ...   \n",
       "3      BABYMETAL are the best band of this decade  -   \n",
       "4                    Banned for being a fire hazard.   \n",
       "\n",
       "                                                ESTJ  \\\n",
       "0                           this is such a catch 22    \n",
       "1  I'm here! Although, I'm quite the terrible EST...   \n",
       "2                      Yikes. I do not want power...   \n",
       "3  Thank you SO SO much. This is what I had plann...   \n",
       "4                                                 Hi   \n",
       "\n",
       "                                                ESTP  \\\n",
       "0              Splinter Cell Blacklist for Xbox 360.   \n",
       "1  ESTPs are generally well liked. If you get hat...   \n",
       "2  I often come off to people with the opposite o...   \n",
       "3                       Ask her what you are to her.   \n",
       "4                I'm a euphonium player and a writer   \n",
       "\n",
       "                                                INFJ  \\\n",
       "0                                                 '-   \n",
       "1                                                  -   \n",
       "2  enfp and intj moments  -  sportscenter not top...   \n",
       "3  What has been the most life-changing experienc...   \n",
       "4                -   -  On repeat for most of today.   \n",
       "\n",
       "                                                INFP  \\\n",
       "0  'I think we do agree. I personally don't consi...   \n",
       "1  Literature... I'd suggest 'Everyday Zen' by Ch...   \n",
       "2  Being emotional doesn't automatically make som...   \n",
       "3  I'm a Ch'an Buddhist, so it's a daily thing fo...   \n",
       "4  Glad to know I'm not the only one. I meditate,...   \n",
       "\n",
       "                                                INTJ  \\\n",
       "0  'Dear INTP,   I enjoyed our conversation the o...   \n",
       "1  Dear ENTJ sub,   Long time no see.  Sincerely,...   \n",
       "2  None of them. All other types hurt in deep exi...   \n",
       "3  Probably a sliding scale that depends on indiv...   \n",
       "4  Draco Malfoy also. I'd say he's either 358 or ...   \n",
       "\n",
       "                                                INTP  \\\n",
       "0                               'Good one  _____   -   \n",
       "1  Of course, to which I say I know; that's my bl...   \n",
       "2  Does being absolutely positive that you and yo...   \n",
       "3                No, I didn't; thank you for a link!   \n",
       "4  So-called Ti-Si loop (and it can stem from any...   \n",
       "\n",
       "                                                ISFJ  \\\n",
       "0  'I love feeling affectionate for the one I lov...   \n",
       "1  Kind of an update on my past post above. Whate...   \n",
       "2  It feels weird being in love for the first tim...   \n",
       "3  Unsure if i completely understand the question...   \n",
       "4  Not often, but I tend to lose it more when it ...   \n",
       "\n",
       "                                                ISFP  \\\n",
       "0                        'They paint without numbers   \n",
       "1                              I'd guess at istp too   \n",
       "2  My best bud is ESFP, very funny, entertaining ...   \n",
       "3  I used to smoke weed alot, everyday from morni...   \n",
       "4  Jimi Hendrix - The Wind Cries Mary.  After all...   \n",
       "\n",
       "                                                ISTJ  \\\n",
       "0  'Newton's Universal Gravity Law. I mean seriou...   \n",
       "1  Well, if money and time was no object, I would...   \n",
       "2                                                  -   \n",
       "3                       I'm still laughing! xD  -  -   \n",
       "4  workaround is working for me, and I'm using FF...   \n",
       "\n",
       "                                                ISTP  \n",
       "0  'I got 593.  From what I've read about the Enn...  \n",
       "1                                       GTFO FEELER!  \n",
       "2  A lot of the stuff that you read in the INTP d...  \n",
       "3  Don't worry about it.  You are trying to make ...  \n",
       "4  My mother-in-law is an ESTJ.  She is the epito...  "
      ]
     },
     "execution_count": 30,
     "metadata": {},
     "output_type": "execute_result"
    }
   ],
   "source": [
    "newdataset=pd.read_csv('Finalmbtifiltered.csv')\n",
    "newdataset.head()"
   ]
  },
  {
   "cell_type": "code",
   "execution_count": 31,
   "metadata": {},
   "outputs": [
    {
     "data": {
      "text/plain": [
       "ENFJ    False\n",
       "ENFP    False\n",
       "ENTJ    False\n",
       "ENTP    False\n",
       "ESFJ    False\n",
       "ESFP    False\n",
       "ESTJ    False\n",
       "ESTP    False\n",
       "INFJ    False\n",
       "INFP    False\n",
       "INTJ    False\n",
       "INTP    False\n",
       "ISFJ    False\n",
       "ISFP    False\n",
       "ISTJ    False\n",
       "ISTP    False\n",
       "dtype: bool"
      ]
     },
     "execution_count": 31,
     "metadata": {},
     "output_type": "execute_result"
    }
   ],
   "source": [
    "newdataset.isnull().any()"
   ]
  },
  {
   "cell_type": "code",
   "execution_count": 32,
   "metadata": {},
   "outputs": [
    {
     "data": {
      "text/plain": [
       "(9288, 16)"
      ]
     },
     "execution_count": 32,
     "metadata": {},
     "output_type": "execute_result"
    }
   ],
   "source": [
    "newdataset.shape"
   ]
  },
  {
   "cell_type": "markdown",
   "metadata": {},
   "source": [
    "Tokenization"
   ]
  },
  {
   "cell_type": "code",
   "execution_count": 33,
   "metadata": {},
   "outputs": [],
   "source": [
    "useless_words = nltk.corpus.stopwords.words(\"english\") + list(string.punctuation)\n",
    "def build_bag_of_words_features_filtered(words):\n",
    "    words = nltk.word_tokenize(words)\n",
    "    return {\n",
    "        word:1 for word in words \\\n",
    "        if not word in useless_words}"
   ]
  },
  {
   "cell_type": "markdown",
   "metadata": {},
   "source": [
    "building bag of words "
   ]
  },
  {
   "cell_type": "code",
   "execution_count": 34,
   "metadata": {},
   "outputs": [
    {
     "data": {
      "text/plain": [
       "{'Dear': 1,\n",
       " 'ENTJ': 1,\n",
       " 'sub': 1,\n",
       " 'Long': 1,\n",
       " 'time': 1,\n",
       " 'see': 1,\n",
       " 'Sincerely': 1,\n",
       " 'Alpha': 1}"
      ]
     },
     "execution_count": 34,
     "metadata": {},
     "output_type": "execute_result"
    }
   ],
   "source": [
    "build_bag_of_words_features_filtered(newdataset['INTJ'].iloc[1])"
   ]
  },
  {
   "cell_type": "code",
   "execution_count": 35,
   "metadata": {},
   "outputs": [],
   "source": [
    "features=[]\n",
    "for j in types:\n",
    "    temp1 = newdataset[j]\n",
    "    temp1 = temp1.dropna() #not all the personality types have same number of files\n",
    "    features += [[(build_bag_of_words_features_filtered(i), j) \\\n",
    "    for i in temp1]]"
   ]
  },
  {
   "cell_type": "markdown",
   "metadata": {},
   "source": [
    "Splitting dataset into 80%training,20%test"
   ]
  },
  {
   "cell_type": "code",
   "execution_count": 36,
   "metadata": {},
   "outputs": [],
   "source": [
    "#80%training,20%test\n",
    "split=[]\n",
    "for i in range(16):\n",
    "    split += [len(features[i]) * 0.8]\n",
    "split = np.array(split,dtype = int)"
   ]
  },
  {
   "cell_type": "code",
   "execution_count": 37,
   "metadata": {},
   "outputs": [
    {
     "data": {
      "text/plain": [
       "array([7430, 7430, 7430, 7430, 7430, 7430, 7430, 7430, 7430, 7430, 7430,\n",
       "       7430, 7430, 7430, 7430, 7430])"
      ]
     },
     "execution_count": 37,
     "metadata": {},
     "output_type": "execute_result"
    }
   ],
   "source": [
    "split"
   ]
  },
  {
   "cell_type": "markdown",
   "metadata": {},
   "source": [
    "Data for training"
   ]
  },
  {
   "cell_type": "code",
   "execution_count": 40,
   "metadata": {},
   "outputs": [],
   "source": [
    "#data for training\n",
    "train=[]\n",
    "for i in range(16):\n",
    "    train += features[i][:split[i]]"
   ]
  },
  {
   "cell_type": "markdown",
   "metadata": {},
   "source": [
    "Training model using Naiive Bayes classifier"
   ]
  },
  {
   "cell_type": "code",
   "execution_count": 41,
   "metadata": {},
   "outputs": [],
   "source": [
    "#training the model\n",
    "sentiment_classifier = NaiveBayesClassifier.train(train)"
   ]
  },
  {
   "cell_type": "markdown",
   "metadata": {},
   "source": [
    "Testing Model on the basis of accuracy"
   ]
  },
  {
   "cell_type": "code",
   "execution_count": 43,
   "metadata": {},
   "outputs": [
    {
     "data": {
      "text/plain": [
       "45.0664535666218"
      ]
     },
     "execution_count": 43,
     "metadata": {},
     "output_type": "execute_result"
    }
   ],
   "source": [
    "#testing model for accuracy\n",
    "nltk.classify.util.accuracy(sentiment_classifier, train)*100"
   ]
  },
  {
   "cell_type": "markdown",
   "metadata": {},
   "source": [
    "Creating Test data"
   ]
  },
  {
   "cell_type": "code",
   "execution_count": 44,
   "metadata": {},
   "outputs": [],
   "source": [
    "#creating test data\n",
    "test=[]\n",
    "for i in range(16):\n",
    "    test += features[i][split[i]:]"
   ]
  },
  {
   "cell_type": "code",
   "execution_count": 45,
   "metadata": {},
   "outputs": [
    {
     "data": {
      "text/plain": [
       "10.441334768568353"
      ]
     },
     "execution_count": 45,
     "metadata": {},
     "output_type": "execute_result"
    }
   ],
   "source": [
    "#testing the model on test dataset\n",
    "nltk.classify.util.accuracy(sentiment_classifier, test)*100"
   ]
  },
  {
   "cell_type": "markdown",
   "metadata": {},
   "source": [
    "# Our model accuracy for complete mbti dataset is approx 10% which is bad."
   ]
  },
  {
   "cell_type": "markdown",
   "metadata": {},
   "source": [
    "Hence, instead of selecting all 16 types of personalities as a unique feature I explored the dataset further and decided to simplify it.\n",
    "\n",
    "The Myers Briggs Type Indicator (or MBTI for short) is a personality type system that divides everyone into 16 distinct personality types across 4 axis:\n",
    "\n",
    "    Introversion (I) – Extroversion (E)\n",
    "    Intuition (N) – Sensing (S)\n",
    "    Thinking (T) – Feeling (F)\n",
    "    Judging (J) – Perceiving (P)\n",
    "\n",
    "    We will use this and create 4 classifyers to classify the person\n"
   ]
  },
  {
   "cell_type": "code",
   "execution_count": 46,
   "metadata": {},
   "outputs": [
    {
     "data": {
      "text/html": [
       "<div>\n",
       "<style scoped>\n",
       "    .dataframe tbody tr th:only-of-type {\n",
       "        vertical-align: middle;\n",
       "    }\n",
       "\n",
       "    .dataframe tbody tr th {\n",
       "        vertical-align: top;\n",
       "    }\n",
       "\n",
       "    .dataframe thead th {\n",
       "        text-align: right;\n",
       "    }\n",
       "</style>\n",
       "<table border=\"1\" class=\"dataframe\">\n",
       "  <thead>\n",
       "    <tr style=\"text-align: right;\">\n",
       "      <th></th>\n",
       "      <th>ENFJ</th>\n",
       "      <th>ENFP</th>\n",
       "      <th>ENTJ</th>\n",
       "      <th>ENTP</th>\n",
       "      <th>ESFJ</th>\n",
       "      <th>ESFP</th>\n",
       "      <th>ESTJ</th>\n",
       "      <th>ESTP</th>\n",
       "      <th>INFJ</th>\n",
       "      <th>INFP</th>\n",
       "      <th>INTJ</th>\n",
       "      <th>INTP</th>\n",
       "      <th>ISFJ</th>\n",
       "      <th>ISFP</th>\n",
       "      <th>ISTJ</th>\n",
       "      <th>ISTP</th>\n",
       "    </tr>\n",
       "  </thead>\n",
       "  <tbody>\n",
       "    <tr>\n",
       "      <td>0</td>\n",
       "      <td>'-</td>\n",
       "      <td>'He doesn't want to go on the trip without me,...</td>\n",
       "      <td>'You're fired.</td>\n",
       "      <td>'I'm finding the lack of me in these posts ver...</td>\n",
       "      <td>'Why not?</td>\n",
       "      <td>'Edit: I forgot what board this was on.</td>\n",
       "      <td>this is such a catch 22</td>\n",
       "      <td>Splinter Cell Blacklist for Xbox 360.</td>\n",
       "      <td>'-</td>\n",
       "      <td>'I think we do agree. I personally don't consi...</td>\n",
       "      <td>'Dear INTP,   I enjoyed our conversation the o...</td>\n",
       "      <td>'Good one  _____   -</td>\n",
       "      <td>'I love feeling affectionate for the one I lov...</td>\n",
       "      <td>'They paint without numbers</td>\n",
       "      <td>'Newton's Universal Gravity Law. I mean seriou...</td>\n",
       "      <td>'I got 593.  From what I've read about the Enn...</td>\n",
       "    </tr>\n",
       "    <tr>\n",
       "      <td>1</td>\n",
       "      <td>51 :o</td>\n",
       "      <td>I'm still completely in AWE and I'm AMAZED tha...</td>\n",
       "      <td>That's another silly misconception. That appro...</td>\n",
       "      <td>Sex can be boring if it's in the same position...</td>\n",
       "      <td>Any other ESFJs originally mistype as an NFP? ...</td>\n",
       "      <td>I am currently reading 'Artemis Fowl: The Eter...</td>\n",
       "      <td>I'm here! Although, I'm quite the terrible EST...</td>\n",
       "      <td>ESTPs are generally well liked. If you get hat...</td>\n",
       "      <td>-</td>\n",
       "      <td>Literature... I'd suggest 'Everyday Zen' by Ch...</td>\n",
       "      <td>Dear ENTJ sub,   Long time no see.  Sincerely,...</td>\n",
       "      <td>Of course, to which I say I know; that's my bl...</td>\n",
       "      <td>Kind of an update on my past post above. Whate...</td>\n",
       "      <td>I'd guess at istp too</td>\n",
       "      <td>Well, if money and time was no object, I would...</td>\n",
       "      <td>GTFO FEELER!</td>\n",
       "    </tr>\n",
       "    <tr>\n",
       "      <td>2</td>\n",
       "      <td>I went through a break up some months ago. We ...</td>\n",
       "      <td>Thanks, everyone. I'm struggling with being se...</td>\n",
       "      <td>But guys... he REALLY wants to go on a super-d...</td>\n",
       "      <td>Giving new meaning to 'Game' theory.</td>\n",
       "      <td>Hello again. Thanks for all your help. I know ...</td>\n",
       "      <td>Hi all, if you've got some spare time and why ...</td>\n",
       "      <td>Yikes. I do not want power...</td>\n",
       "      <td>I often come off to people with the opposite o...</td>\n",
       "      <td>enfp and intj moments  -  sportscenter not top...</td>\n",
       "      <td>Being emotional doesn't automatically make som...</td>\n",
       "      <td>None of them. All other types hurt in deep exi...</td>\n",
       "      <td>Does being absolutely positive that you and yo...</td>\n",
       "      <td>It feels weird being in love for the first tim...</td>\n",
       "      <td>My best bud is ESFP, very funny, entertaining ...</td>\n",
       "      <td>-</td>\n",
       "      <td>A lot of the stuff that you read in the INTP d...</td>\n",
       "    </tr>\n",
       "    <tr>\n",
       "      <td>3</td>\n",
       "      <td>ENFJ Puns so many puns.</td>\n",
       "      <td>My husband works an extra job each year to pay...</td>\n",
       "      <td>Never mind. Just go on permanent vacation.</td>\n",
       "      <td>Hello *ENTP Grin*  That's all it takes. Than w...</td>\n",
       "      <td>Of the J functions, I'd say it would be: Fi&gt;Ti...</td>\n",
       "      <td>BABYMETAL are the best band of this decade  -</td>\n",
       "      <td>Thank you SO SO much. This is what I had plann...</td>\n",
       "      <td>Ask her what you are to her.</td>\n",
       "      <td>What has been the most life-changing experienc...</td>\n",
       "      <td>I'm a Ch'an Buddhist, so it's a daily thing fo...</td>\n",
       "      <td>Probably a sliding scale that depends on indiv...</td>\n",
       "      <td>No, I didn't; thank you for a link!</td>\n",
       "      <td>Unsure if i completely understand the question...</td>\n",
       "      <td>I used to smoke weed alot, everyday from morni...</td>\n",
       "      <td>I'm still laughing! xD  -  -</td>\n",
       "      <td>Don't worry about it.  You are trying to make ...</td>\n",
       "    </tr>\n",
       "    <tr>\n",
       "      <td>4</td>\n",
       "      <td>Well I personally don't go that much for attra...</td>\n",
       "      <td>He said that it's not like he's asking me to d...</td>\n",
       "      <td>Two months? I wouldn't be crazy about the idea...</td>\n",
       "      <td>This + Lack of Balance and Hand Eye Coordination.</td>\n",
       "      <td>The ESFJs on this site are lovely. I'm general...</td>\n",
       "      <td>Banned for being a fire hazard.</td>\n",
       "      <td>Hi</td>\n",
       "      <td>I'm a euphonium player and a writer</td>\n",
       "      <td>-   -  On repeat for most of today.</td>\n",
       "      <td>Glad to know I'm not the only one. I meditate,...</td>\n",
       "      <td>Draco Malfoy also. I'd say he's either 358 or ...</td>\n",
       "      <td>So-called Ti-Si loop (and it can stem from any...</td>\n",
       "      <td>Not often, but I tend to lose it more when it ...</td>\n",
       "      <td>Jimi Hendrix - The Wind Cries Mary.  After all...</td>\n",
       "      <td>workaround is working for me, and I'm using FF...</td>\n",
       "      <td>My mother-in-law is an ESTJ.  She is the epito...</td>\n",
       "    </tr>\n",
       "    <tr>\n",
       "      <td>...</td>\n",
       "      <td>...</td>\n",
       "      <td>...</td>\n",
       "      <td>...</td>\n",
       "      <td>...</td>\n",
       "      <td>...</td>\n",
       "      <td>...</td>\n",
       "      <td>...</td>\n",
       "      <td>...</td>\n",
       "      <td>...</td>\n",
       "      <td>...</td>\n",
       "      <td>...</td>\n",
       "      <td>...</td>\n",
       "      <td>...</td>\n",
       "      <td>...</td>\n",
       "      <td>...</td>\n",
       "      <td>...</td>\n",
       "    </tr>\n",
       "    <tr>\n",
       "      <td>9283</td>\n",
       "      <td>I am VERY particular. And I have not dated cer...</td>\n",
       "      <td>'Very true.  The thing is to recognize and ove...</td>\n",
       "      <td>Um, totally off ROFL. I am female, 30, no opin...</td>\n",
       "      <td>Actually I was none of these labels of alpha o...</td>\n",
       "      <td>-</td>\n",
       "      <td>-</td>\n",
       "      <td>-</td>\n",
       "      <td>-</td>\n",
       "      <td>'So, hey everyone, me again. :happy:  I want t...</td>\n",
       "      <td>Fantastic, I've avoided having to make my own ...</td>\n",
       "      <td>Arwen - Lord of the Rings  Her faithfulness, r...</td>\n",
       "      <td>i love romance. i love the idea of inside joke...</td>\n",
       "      <td>-</td>\n",
       "      <td>If it still serves a meaningful purpose, I don...</td>\n",
       "      <td>Everything points to ISTJ for me, but then som...</td>\n",
       "      <td>Group One I tend to be sociable, but sometimes...</td>\n",
       "    </tr>\n",
       "    <tr>\n",
       "      <td>9284</td>\n",
       "      <td>Could you not tell the guy was INTP?  Is that ...</td>\n",
       "      <td>i'm not real sure it's a great idea to date un...</td>\n",
       "      <td>Hahah that's hilarious</td>\n",
       "      <td>Double post, dammit. &gt;_&lt;</td>\n",
       "      <td>-</td>\n",
       "      <td>-</td>\n",
       "      <td>-</td>\n",
       "      <td>-</td>\n",
       "      <td>Put these all together, and you have a fair id...</td>\n",
       "      <td>I suppose in some respect, I used to be that w...</td>\n",
       "      <td>I'm taking this path myself right now, and I'm...</td>\n",
       "      <td>so not fair for those of us who are insecure a...</td>\n",
       "      <td>-</td>\n",
       "      <td>LOL I'm glad I could remind you of that. But y...</td>\n",
       "      <td>I think ESFJ is possible</td>\n",
       "      <td>-</td>\n",
       "    </tr>\n",
       "    <tr>\n",
       "      <td>9285</td>\n",
       "      <td>I cannot speak for all ENFJ's, but I am hard-w...</td>\n",
       "      <td>Watch some comedies, kids are joyful and make ...</td>\n",
       "      <td>-  40%Social (so) Your dominant instinctual va...</td>\n",
       "      <td>Radicalism 83 Socialism 100 Tenderness 71.875 ...</td>\n",
       "      <td>-</td>\n",
       "      <td>-</td>\n",
       "      <td>-</td>\n",
       "      <td>-</td>\n",
       "      <td>I need to let go of my tendency to take too la...</td>\n",
       "      <td>I only know one in real life, but personally, ...</td>\n",
       "      <td>If only! My life would be so much more ruthles...</td>\n",
       "      <td>i hadn't heard of this, but i feel it's true i...</td>\n",
       "      <td>-</td>\n",
       "      <td>LOL. Thanks for making my day...INTPs are so f...</td>\n",
       "      <td>I disagree that Brandon is an INTJ. He cares a...</td>\n",
       "      <td>I'm trying to think... my first two detentions...</td>\n",
       "    </tr>\n",
       "    <tr>\n",
       "      <td>9286</td>\n",
       "      <td>Of course you do not see the point of the vide...</td>\n",
       "      <td>Meditation is great! Read up on TFT and EFT ta...</td>\n",
       "      <td>ENTJ - idunno...</td>\n",
       "      <td>Quoted for astonishing truth.  One thing thoug...</td>\n",
       "      <td>-</td>\n",
       "      <td>-</td>\n",
       "      <td>-</td>\n",
       "      <td>-</td>\n",
       "      <td>Hello, and welcome to the forum!!! :D There's ...</td>\n",
       "      <td>Am I evil? is a question I've asked myself tim...</td>\n",
       "      <td>I don't know, maybe because I'm a Jungian mutt...</td>\n",
       "      <td>that's funny to me because i saved my chat log...</td>\n",
       "      <td>-</td>\n",
       "      <td>That's fair I guess, but you're still trying t...</td>\n",
       "      <td>I thought so, but I don't think she rambles as...</td>\n",
       "      <td>I think you can.  You should never let your pe...</td>\n",
       "    </tr>\n",
       "    <tr>\n",
       "      <td>9287</td>\n",
       "      <td>The types fit because the way they use their c...</td>\n",
       "      <td>2 Physical Touch   7 Quality Time   7 Words of...</td>\n",
       "      <td>I miscarried recently and was quite distraught...</td>\n",
       "      <td>Sure. I was taken aback by what I saw (and pre...</td>\n",
       "      <td>-</td>\n",
       "      <td>-</td>\n",
       "      <td>-</td>\n",
       "      <td>-</td>\n",
       "      <td>Oh that's just cruel. :D I'm going to go and G...</td>\n",
       "      <td>I've yet to meet an ENFJ in real life but you ...</td>\n",
       "      <td>I do not watch TV, period. I haven't since 200...</td>\n",
       "      <td>wow. i just fell in love with myself  lol</td>\n",
       "      <td>-</td>\n",
       "      <td>A lot of your responses seemed to indicate a p...</td>\n",
       "      <td>Cmart animalfromthesea you are both probably r...</td>\n",
       "      <td>I think it's just a part of human nature to ca...</td>\n",
       "    </tr>\n",
       "  </tbody>\n",
       "</table>\n",
       "<p>9288 rows × 16 columns</p>\n",
       "</div>"
      ],
      "text/plain": [
       "                                                   ENFJ  \\\n",
       "0                                                    '-   \n",
       "1                                                 51 :o   \n",
       "2     I went through a break up some months ago. We ...   \n",
       "3                               ENFJ Puns so many puns.   \n",
       "4     Well I personally don't go that much for attra...   \n",
       "...                                                 ...   \n",
       "9283  I am VERY particular. And I have not dated cer...   \n",
       "9284  Could you not tell the guy was INTP?  Is that ...   \n",
       "9285  I cannot speak for all ENFJ's, but I am hard-w...   \n",
       "9286  Of course you do not see the point of the vide...   \n",
       "9287  The types fit because the way they use their c...   \n",
       "\n",
       "                                                   ENFP  \\\n",
       "0     'He doesn't want to go on the trip without me,...   \n",
       "1     I'm still completely in AWE and I'm AMAZED tha...   \n",
       "2     Thanks, everyone. I'm struggling with being se...   \n",
       "3     My husband works an extra job each year to pay...   \n",
       "4     He said that it's not like he's asking me to d...   \n",
       "...                                                 ...   \n",
       "9283  'Very true.  The thing is to recognize and ove...   \n",
       "9284  i'm not real sure it's a great idea to date un...   \n",
       "9285  Watch some comedies, kids are joyful and make ...   \n",
       "9286  Meditation is great! Read up on TFT and EFT ta...   \n",
       "9287  2 Physical Touch   7 Quality Time   7 Words of...   \n",
       "\n",
       "                                                   ENTJ  \\\n",
       "0                                        'You're fired.   \n",
       "1     That's another silly misconception. That appro...   \n",
       "2     But guys... he REALLY wants to go on a super-d...   \n",
       "3            Never mind. Just go on permanent vacation.   \n",
       "4     Two months? I wouldn't be crazy about the idea...   \n",
       "...                                                 ...   \n",
       "9283  Um, totally off ROFL. I am female, 30, no opin...   \n",
       "9284                             Hahah that's hilarious   \n",
       "9285  -  40%Social (so) Your dominant instinctual va...   \n",
       "9286                                   ENTJ - idunno...   \n",
       "9287  I miscarried recently and was quite distraught...   \n",
       "\n",
       "                                                   ENTP  \\\n",
       "0     'I'm finding the lack of me in these posts ver...   \n",
       "1     Sex can be boring if it's in the same position...   \n",
       "2                  Giving new meaning to 'Game' theory.   \n",
       "3     Hello *ENTP Grin*  That's all it takes. Than w...   \n",
       "4     This + Lack of Balance and Hand Eye Coordination.   \n",
       "...                                                 ...   \n",
       "9283  Actually I was none of these labels of alpha o...   \n",
       "9284                           Double post, dammit. >_<   \n",
       "9285  Radicalism 83 Socialism 100 Tenderness 71.875 ...   \n",
       "9286  Quoted for astonishing truth.  One thing thoug...   \n",
       "9287  Sure. I was taken aback by what I saw (and pre...   \n",
       "\n",
       "                                                   ESFJ  \\\n",
       "0                                             'Why not?   \n",
       "1     Any other ESFJs originally mistype as an NFP? ...   \n",
       "2     Hello again. Thanks for all your help. I know ...   \n",
       "3     Of the J functions, I'd say it would be: Fi>Ti...   \n",
       "4     The ESFJs on this site are lovely. I'm general...   \n",
       "...                                                 ...   \n",
       "9283                                                  -   \n",
       "9284                                                  -   \n",
       "9285                                                  -   \n",
       "9286                                                  -   \n",
       "9287                                                  -   \n",
       "\n",
       "                                                   ESFP  \\\n",
       "0               'Edit: I forgot what board this was on.   \n",
       "1     I am currently reading 'Artemis Fowl: The Eter...   \n",
       "2     Hi all, if you've got some spare time and why ...   \n",
       "3         BABYMETAL are the best band of this decade  -   \n",
       "4                       Banned for being a fire hazard.   \n",
       "...                                                 ...   \n",
       "9283                                                  -   \n",
       "9284                                                  -   \n",
       "9285                                                  -   \n",
       "9286                                                  -   \n",
       "9287                                                  -   \n",
       "\n",
       "                                                   ESTJ  \\\n",
       "0                              this is such a catch 22    \n",
       "1     I'm here! Although, I'm quite the terrible EST...   \n",
       "2                         Yikes. I do not want power...   \n",
       "3     Thank you SO SO much. This is what I had plann...   \n",
       "4                                                    Hi   \n",
       "...                                                 ...   \n",
       "9283                                                  -   \n",
       "9284                                                  -   \n",
       "9285                                                  -   \n",
       "9286                                                  -   \n",
       "9287                                                  -   \n",
       "\n",
       "                                                   ESTP  \\\n",
       "0                 Splinter Cell Blacklist for Xbox 360.   \n",
       "1     ESTPs are generally well liked. If you get hat...   \n",
       "2     I often come off to people with the opposite o...   \n",
       "3                          Ask her what you are to her.   \n",
       "4                   I'm a euphonium player and a writer   \n",
       "...                                                 ...   \n",
       "9283                                                  -   \n",
       "9284                                                  -   \n",
       "9285                                                  -   \n",
       "9286                                                  -   \n",
       "9287                                                  -   \n",
       "\n",
       "                                                   INFJ  \\\n",
       "0                                                    '-   \n",
       "1                                                     -   \n",
       "2     enfp and intj moments  -  sportscenter not top...   \n",
       "3     What has been the most life-changing experienc...   \n",
       "4                   -   -  On repeat for most of today.   \n",
       "...                                                 ...   \n",
       "9283  'So, hey everyone, me again. :happy:  I want t...   \n",
       "9284  Put these all together, and you have a fair id...   \n",
       "9285  I need to let go of my tendency to take too la...   \n",
       "9286  Hello, and welcome to the forum!!! :D There's ...   \n",
       "9287  Oh that's just cruel. :D I'm going to go and G...   \n",
       "\n",
       "                                                   INFP  \\\n",
       "0     'I think we do agree. I personally don't consi...   \n",
       "1     Literature... I'd suggest 'Everyday Zen' by Ch...   \n",
       "2     Being emotional doesn't automatically make som...   \n",
       "3     I'm a Ch'an Buddhist, so it's a daily thing fo...   \n",
       "4     Glad to know I'm not the only one. I meditate,...   \n",
       "...                                                 ...   \n",
       "9283  Fantastic, I've avoided having to make my own ...   \n",
       "9284  I suppose in some respect, I used to be that w...   \n",
       "9285  I only know one in real life, but personally, ...   \n",
       "9286  Am I evil? is a question I've asked myself tim...   \n",
       "9287  I've yet to meet an ENFJ in real life but you ...   \n",
       "\n",
       "                                                   INTJ  \\\n",
       "0     'Dear INTP,   I enjoyed our conversation the o...   \n",
       "1     Dear ENTJ sub,   Long time no see.  Sincerely,...   \n",
       "2     None of them. All other types hurt in deep exi...   \n",
       "3     Probably a sliding scale that depends on indiv...   \n",
       "4     Draco Malfoy also. I'd say he's either 358 or ...   \n",
       "...                                                 ...   \n",
       "9283  Arwen - Lord of the Rings  Her faithfulness, r...   \n",
       "9284  I'm taking this path myself right now, and I'm...   \n",
       "9285  If only! My life would be so much more ruthles...   \n",
       "9286  I don't know, maybe because I'm a Jungian mutt...   \n",
       "9287  I do not watch TV, period. I haven't since 200...   \n",
       "\n",
       "                                                   INTP  \\\n",
       "0                                  'Good one  _____   -   \n",
       "1     Of course, to which I say I know; that's my bl...   \n",
       "2     Does being absolutely positive that you and yo...   \n",
       "3                   No, I didn't; thank you for a link!   \n",
       "4     So-called Ti-Si loop (and it can stem from any...   \n",
       "...                                                 ...   \n",
       "9283  i love romance. i love the idea of inside joke...   \n",
       "9284  so not fair for those of us who are insecure a...   \n",
       "9285  i hadn't heard of this, but i feel it's true i...   \n",
       "9286  that's funny to me because i saved my chat log...   \n",
       "9287          wow. i just fell in love with myself  lol   \n",
       "\n",
       "                                                   ISFJ  \\\n",
       "0     'I love feeling affectionate for the one I lov...   \n",
       "1     Kind of an update on my past post above. Whate...   \n",
       "2     It feels weird being in love for the first tim...   \n",
       "3     Unsure if i completely understand the question...   \n",
       "4     Not often, but I tend to lose it more when it ...   \n",
       "...                                                 ...   \n",
       "9283                                                  -   \n",
       "9284                                                  -   \n",
       "9285                                                  -   \n",
       "9286                                                  -   \n",
       "9287                                                  -   \n",
       "\n",
       "                                                   ISFP  \\\n",
       "0                           'They paint without numbers   \n",
       "1                                 I'd guess at istp too   \n",
       "2     My best bud is ESFP, very funny, entertaining ...   \n",
       "3     I used to smoke weed alot, everyday from morni...   \n",
       "4     Jimi Hendrix - The Wind Cries Mary.  After all...   \n",
       "...                                                 ...   \n",
       "9283  If it still serves a meaningful purpose, I don...   \n",
       "9284  LOL I'm glad I could remind you of that. But y...   \n",
       "9285  LOL. Thanks for making my day...INTPs are so f...   \n",
       "9286  That's fair I guess, but you're still trying t...   \n",
       "9287  A lot of your responses seemed to indicate a p...   \n",
       "\n",
       "                                                   ISTJ  \\\n",
       "0     'Newton's Universal Gravity Law. I mean seriou...   \n",
       "1     Well, if money and time was no object, I would...   \n",
       "2                                                     -   \n",
       "3                          I'm still laughing! xD  -  -   \n",
       "4     workaround is working for me, and I'm using FF...   \n",
       "...                                                 ...   \n",
       "9283  Everything points to ISTJ for me, but then som...   \n",
       "9284                           I think ESFJ is possible   \n",
       "9285  I disagree that Brandon is an INTJ. He cares a...   \n",
       "9286  I thought so, but I don't think she rambles as...   \n",
       "9287  Cmart animalfromthesea you are both probably r...   \n",
       "\n",
       "                                                   ISTP  \n",
       "0     'I got 593.  From what I've read about the Enn...  \n",
       "1                                          GTFO FEELER!  \n",
       "2     A lot of the stuff that you read in the INTP d...  \n",
       "3     Don't worry about it.  You are trying to make ...  \n",
       "4     My mother-in-law is an ESTJ.  She is the epito...  \n",
       "...                                                 ...  \n",
       "9283  Group One I tend to be sociable, but sometimes...  \n",
       "9284                                                  -  \n",
       "9285  I'm trying to think... my first two detentions...  \n",
       "9286  I think you can.  You should never let your pe...  \n",
       "9287  I think it's just a part of human nature to ca...  \n",
       "\n",
       "[9288 rows x 16 columns]"
      ]
     },
     "execution_count": 46,
     "metadata": {},
     "output_type": "execute_result"
    }
   ],
   "source": [
    "#creating copy\n",
    "newdataset_copy=newdataset.copy()\n",
    "newdataset_copy"
   ]
  },
  {
   "cell_type": "markdown",
   "metadata": {},
   "source": [
    "# CLASSES WE HAVE :\n",
    "class 1 : I/E - Introvert/Extrovert\n",
    "\n",
    "\n",
    "class 2 : N/S - Intuition/Sensitive\n",
    "\n",
    "\n",
    "class 3 : T/F - Thinking/Feeling\n",
    "\n",
    "\n",
    "class 4 : J/P - Judging/Perceiving\n",
    "\n"
   ]
  },
  {
   "cell_type": "markdown",
   "metadata": {},
   "source": [
    "# Creating a classifier for class 1 :I/E- Introversion (I) and Extroversion (E)"
   ]
  },
  {
   "cell_type": "code",
   "execution_count": 47,
   "metadata": {},
   "outputs": [],
   "source": [
    "# Features for the bag of words model\n",
    "features=[]\n",
    "for j in types:\n",
    "    temp1 = newdataset_copy[j]\n",
    "    temp1 = temp1.dropna() #not all the personality types have same number of files\n",
    "    if('I' in j):\n",
    "        features += [[(build_bag_of_words_features_filtered(i), 'introvert') \\\n",
    "        for i in temp1]]\n",
    "    if('E' in j):\n",
    "        features += [[(build_bag_of_words_features_filtered(i), 'extrovert') \\\n",
    "        for i in temp1]]"
   ]
  },
  {
   "cell_type": "code",
   "execution_count": 48,
   "metadata": {},
   "outputs": [],
   "source": [
    "#data for training\n",
    "train=[]\n",
    "for i in range(16):\n",
    "    train += features[i][:split[i]]"
   ]
  },
  {
   "cell_type": "code",
   "execution_count": 49,
   "metadata": {},
   "outputs": [],
   "source": [
    "#training the model\n",
    "IntroExtro = NaiveBayesClassifier.train(train)"
   ]
  },
  {
   "cell_type": "code",
   "execution_count": 50,
   "metadata": {},
   "outputs": [
    {
     "data": {
      "text/plain": [
       "52.84656796769852"
      ]
     },
     "execution_count": 50,
     "metadata": {},
     "output_type": "execute_result"
    }
   ],
   "source": [
    "#Testing the model on the dataset it was trained for accuracy\n",
    "nltk.classify.util.accuracy(IntroExtro, train)*100"
   ]
  },
  {
   "cell_type": "code",
   "execution_count": 51,
   "metadata": {},
   "outputs": [],
   "source": [
    "#Creating the test data\n",
    "test=[]\n",
    "for i in range(16):\n",
    "    test += features[i][split[i]:]"
   ]
  },
  {
   "cell_type": "code",
   "execution_count": 52,
   "metadata": {},
   "outputs": [
    {
     "data": {
      "text/plain": [
       "49.781350914962324"
      ]
     },
     "execution_count": 52,
     "metadata": {},
     "output_type": "execute_result"
    }
   ],
   "source": [
    "#Testing the model on the test dataset which it has never seen before\n",
    "\n",
    "nltk.classify.util.accuracy(IntroExtro, test)*100"
   ]
  },
  {
   "cell_type": "markdown",
   "metadata": {},
   "source": [
    "accuracy improved to 50% , doing same thing for other traits.Accuracy for class 1(I/E) = 50%"
   ]
  },
  {
   "cell_type": "markdown",
   "metadata": {},
   "source": [
    "# creating classifier for class 2 : N/S - Intuition(N)/Sensitive(S)"
   ]
  },
  {
   "cell_type": "code",
   "execution_count": 53,
   "metadata": {},
   "outputs": [],
   "source": [
    "# Features for the bag of words model\n",
    "features=[]\n",
    "for j in types:\n",
    "    temp1 = newdataset_copy[j]\n",
    "    temp1 = temp1.dropna() #not all the personality types have same number of files\n",
    "    if('N' in j):\n",
    "        features += [[(build_bag_of_words_features_filtered(i), 'Intuition') \\\n",
    "        for i in temp1]]\n",
    "    if('E' in j):\n",
    "        features += [[(build_bag_of_words_features_filtered(i), 'Sensing') \\\n",
    "        for i in temp1]]"
   ]
  },
  {
   "cell_type": "code",
   "execution_count": 54,
   "metadata": {},
   "outputs": [
    {
     "data": {
      "text/plain": [
       "66.48384925975775"
      ]
     },
     "execution_count": 54,
     "metadata": {},
     "output_type": "execute_result"
    }
   ],
   "source": [
    "#Data for training\n",
    "train=[]\n",
    "for i in range(16):\n",
    "    train += features[i][:split[i]]\n",
    "\n",
    "    #Training the model\n",
    "IntuitionSensing = NaiveBayesClassifier.train(train)\n",
    "\n",
    "#Testing the model on the dataset it was trained for accuracy\n",
    "nltk.classify.util.accuracy(IntuitionSensing, train)*100\n"
   ]
  },
  {
   "cell_type": "code",
   "execution_count": 55,
   "metadata": {},
   "outputs": [
    {
     "data": {
      "text/plain": [
       "73.90339074273412"
      ]
     },
     "execution_count": 55,
     "metadata": {},
     "output_type": "execute_result"
    }
   ],
   "source": [
    "#Creating the test data\n",
    "test=[]\n",
    "for i in range(16):\n",
    "    test += features[i][split[i]:]\n",
    "\n",
    "#Testing the model on the test dataset which it has never seen before\n",
    "nltk.classify.util.accuracy(IntuitionSensing, test)*100"
   ]
  },
  {
   "cell_type": "markdown",
   "metadata": {},
   "source": [
    "accuracy for class 2 (N/S) = 73% ."
   ]
  },
  {
   "cell_type": "markdown",
   "metadata": {},
   "source": [
    "# creating classifier for class 3 : T/F - Thinking(T)/Feeling(F)"
   ]
  },
  {
   "cell_type": "code",
   "execution_count": 56,
   "metadata": {},
   "outputs": [
    {
     "data": {
      "text/plain": [
       "73.07957604306864"
      ]
     },
     "execution_count": 56,
     "metadata": {},
     "output_type": "execute_result"
    }
   ],
   "source": [
    "# Features for the bag of words model\n",
    "features=[]\n",
    "for j in types:\n",
    "    temp1 = newdataset_copy[j]\n",
    "    temp1 = temp1.dropna() #not all the personality types have same number of files\n",
    "    if('T' in j):\n",
    "        features += [[(build_bag_of_words_features_filtered(i), 'Thinking') \\\n",
    "        for i in temp1]]\n",
    "    if('F' in j):\n",
    "        features += [[(build_bag_of_words_features_filtered(i), 'Feeling') \\\n",
    "        for i in temp1]]\n",
    "\n",
    "#Data for training\n",
    "train=[]\n",
    "for i in range(16):\n",
    "    train += features[i][:split[i]]\n",
    "\n",
    "#Training the model\n",
    "ThinkingFeeling = NaiveBayesClassifier.train(train)\n",
    "\n",
    "#Testing the model on the dataset it was trained for accuracy\n",
    "nltk.classify.util.accuracy(ThinkingFeeling, train)*100"
   ]
  },
  {
   "cell_type": "code",
   "execution_count": 57,
   "metadata": {},
   "outputs": [
    {
     "data": {
      "text/plain": [
       "55.701695371367066"
      ]
     },
     "execution_count": 57,
     "metadata": {},
     "output_type": "execute_result"
    }
   ],
   "source": [
    "#Creating the test data\n",
    "test=[]\n",
    "for i in range(16):\n",
    "    test += features[i][split[i]:]\n",
    "\n",
    "#Testing the model on the test dataset which it has never seen before\n",
    "nltk.classify.util.accuracy(ThinkingFeeling, test)*100"
   ]
  },
  {
   "cell_type": "markdown",
   "metadata": {},
   "source": [
    "accuracy for class3(T/F) is 55%"
   ]
  },
  {
   "cell_type": "markdown",
   "metadata": {},
   "source": [
    "#  creating classifier for class 4 : J/P - Judging(J)/Perceiving(P)"
   ]
  },
  {
   "cell_type": "code",
   "execution_count": 58,
   "metadata": {},
   "outputs": [
    {
     "data": {
      "text/plain": [
       "72.17698519515477"
      ]
     },
     "execution_count": 58,
     "metadata": {},
     "output_type": "execute_result"
    }
   ],
   "source": [
    "# Features for the bag of words model\n",
    "features=[]\n",
    "for j in types:\n",
    "    temp1 = newdataset_copy[j]\n",
    "    temp1 = temp1.dropna() #not all the personality types have same number of files\n",
    "    if('J' in j):\n",
    "        features += [[(build_bag_of_words_features_filtered(i), 'Judging') \\\n",
    "        for i in temp1]]\n",
    "    if('P' in j):\n",
    "        features += [[(build_bag_of_words_features_filtered(i), 'Percieving') \\\n",
    "        for i in temp1]]\n",
    "\n",
    "#Data for training\n",
    "train=[]\n",
    "for i in range(16):\n",
    "    train += features[i][:split[i]]\n",
    "\n",
    "#Training the model\n",
    "JudgingPercieiving = NaiveBayesClassifier.train(train)\n",
    "\n",
    "#Testing the model on the dataset it was trained for accuracy\n",
    "nltk.classify.util.accuracy(JudgingPercieiving, train)*100"
   ]
  },
  {
   "cell_type": "code",
   "execution_count": 59,
   "metadata": {},
   "outputs": [
    {
     "data": {
      "text/plain": [
       "51.342168998923576"
      ]
     },
     "execution_count": 59,
     "metadata": {},
     "output_type": "execute_result"
    }
   ],
   "source": [
    "#Creating the test data\n",
    "test=[]\n",
    "for i in range(16):\n",
    "    test += features[i][split[i]:]\n",
    "\n",
    "#Testing the model on the test dataset which it has never seen before\n",
    "nltk.classify.util.accuracy(JudgingPercieiving, test)*100"
   ]
  },
  {
   "cell_type": "markdown",
   "metadata": {},
   "source": [
    "accuracy for class4(J/P) = 51%"
   ]
  },
  {
   "cell_type": "markdown",
   "metadata": {},
   "source": [
    "# Summarizing the results of the models"
   ]
  },
  {
   "cell_type": "code",
   "execution_count": 60,
   "metadata": {},
   "outputs": [
    {
     "data": {
      "text/html": [
       "<div>\n",
       "<style scoped>\n",
       "    .dataframe tbody tr th:only-of-type {\n",
       "        vertical-align: middle;\n",
       "    }\n",
       "\n",
       "    .dataframe tbody tr th {\n",
       "        vertical-align: top;\n",
       "    }\n",
       "\n",
       "    .dataframe thead th {\n",
       "        text-align: right;\n",
       "    }\n",
       "</style>\n",
       "<table border=\"1\" class=\"dataframe\">\n",
       "  <thead>\n",
       "    <tr style=\"text-align: right;\">\n",
       "      <th></th>\n",
       "      <th>Introvert - Extrovert</th>\n",
       "      <th>Intuition - Sensing</th>\n",
       "      <th>Thinking - Feeling</th>\n",
       "      <th>Judging - Percieiving</th>\n",
       "    </tr>\n",
       "  </thead>\n",
       "  <tbody>\n",
       "    <tr>\n",
       "      <td>train</td>\n",
       "      <td>52.846568</td>\n",
       "      <td>66.483849</td>\n",
       "      <td>73.079576</td>\n",
       "      <td>72.176985</td>\n",
       "    </tr>\n",
       "    <tr>\n",
       "      <td>test</td>\n",
       "      <td>49.781351</td>\n",
       "      <td>73.903391</td>\n",
       "      <td>55.701695</td>\n",
       "      <td>51.342169</td>\n",
       "    </tr>\n",
       "  </tbody>\n",
       "</table>\n",
       "</div>"
      ],
      "text/plain": [
       "       Introvert - Extrovert  Intuition - Sensing  Thinking - Feeling  \\\n",
       "train              52.846568            66.483849           73.079576   \n",
       "test               49.781351            73.903391           55.701695   \n",
       "\n",
       "       Judging - Percieiving  \n",
       "train              72.176985  \n",
       "test               51.342169  "
      ]
     },
     "execution_count": 60,
     "metadata": {},
     "output_type": "execute_result"
    }
   ],
   "source": [
    "temp = {'train' : [52.84656796769852,66.48384925975775,73.07957604306864,72.17698519515477\n",
    "], 'test' : [49.781350914962324,73.90339074273412,55.701695371367066,51.342168998923576]}\n",
    "results = pd.DataFrame.from_dict(temp, orient='index', columns=['Introvert - Extrovert', 'Intuition - Sensing', 'Thinking - Feeling', 'Judging - Percieiving'])\n",
    "results"
   ]
  },
  {
   "cell_type": "code",
   "execution_count": 61,
   "metadata": {},
   "outputs": [
    {
     "data": {
      "text/plain": [
       "Text(0.5, 1.0, 'Total posts for each personality type')"
      ]
     },
     "execution_count": 61,
     "metadata": {},
     "output_type": "execute_result"
    },
    {
     "data": {
      "image/png": "[encoded data removed]",
      "text/plain": [
       "<Figure size 864x432 with 1 Axes>"
      ]
     },
     "metadata": {
      "needs_background": "light"
     },
     "output_type": "display_data"
    }
   ],
   "source": [
    "plt.figure(figsize = (12,6))\n",
    "\n",
    "plt.bar(np.array(results.columns), height = results.loc['train'],)\n",
    "plt.xlabel('Personality types', size = 14)\n",
    "plt.ylabel('Number of posts available', size = 14)\n",
    "plt.title('Total posts for each personality type')"
   ]
  },
  {
   "cell_type": "code",
   "execution_count": 62,
   "metadata": {},
   "outputs": [
    {
     "data": {
      "image/png": "[encoded data removed]",
      "text/plain": [
       "<Figure size 864x432 with 1 Axes>"
      ]
     },
     "metadata": {
      "needs_background": "light"
     },
     "output_type": "display_data"
    }
   ],
   "source": [
    "labels = np.array(results.columns)\n",
    "\n",
    "training = results.loc['train']\n",
    "ind = np.arange(4)\n",
    "width = 0.4\n",
    "fig = plt.figure()\n",
    "ax = fig.add_subplot(111)\n",
    "rects1 = ax.bar(ind, training, width, color='royalblue')\n",
    "\n",
    "testing = results.loc['test']\n",
    "rects2 = ax.bar(ind+width, testing, width, color='seagreen')\n",
    "\n",
    "fig.set_size_inches(12, 6)\n",
    "fig.savefig('Results.png', dpi=200)\n",
    "\n",
    "ax.set_xlabel('Model Classifying Trait', size = 18)\n",
    "ax.set_ylabel('Accuracy Percent (%)', size = 18)\n",
    "ax.set_xticks(ind + width / 2)\n",
    "ax.set_xticklabels(labels)\n",
    "ax.legend((rects1[0], rects2[0]), ('Tested on a known dataframe', 'Tested on an unknown dataframe'))\n",
    "plt.show()"
   ]
  },
  {
   "cell_type": "markdown",
   "metadata": {},
   "source": [
    "# Testing the model\n",
    "\n",
    "Predicting famous personalities personality type based on their social media post.\n"
   ]
  },
  {
   "cell_type": "code",
   "execution_count": 63,
   "metadata": {},
   "outputs": [],
   "source": [
    "#Defining a functions that inputs the writings, tokenizes them and then predicts the output based on our earlier classifiers\n",
    "def MBTI(input):\n",
    "    tokenize = build_bag_of_words_features_filtered(input)\n",
    "    ie = IntroExtro.classify(tokenize)\n",
    "    Is = IntuitionSensing.classify(tokenize)\n",
    "    tf = ThinkingFeeling.classify(tokenize)\n",
    "    jp = JudgingPercieiving.classify(tokenize)\n",
    "    \n",
    "    mbt = ''\n",
    "    \n",
    "    if(ie == 'introvert'):\n",
    "        mbt+='I'\n",
    "    if(ie == 'extrovert'):\n",
    "        mbt+='E'\n",
    "    if(Is == 'Intuition'):\n",
    "        mbt+='N'\n",
    "    if(Is == 'Sensing'):\n",
    "        mbt+='S'\n",
    "    if(tf == 'Thinking'):\n",
    "        mbt+='T'\n",
    "    if(tf == 'Feeling'):\n",
    "        mbt+='F'\n",
    "    if(jp == 'Judging'):\n",
    "        mbt+='J'\n",
    "    if(jp == 'Percieving'):\n",
    "        mbt+='P'\n",
    "    return(mbt)"
   ]
  },
  {
   "cell_type": "markdown",
   "metadata": {},
   "source": [
    "Building another functions that takes all the posts as input and outputs the graph showing percentage of each trait seen in each posts and sums up displaying your personality as the graph title\n",
    "\n",
    "Note: The input should be an array of your posts\n"
   ]
  },
  {
   "cell_type": "code",
   "execution_count": 64,
   "metadata": {},
   "outputs": [],
   "source": [
    "def tellmemyMBTI(input, name, traasits=[]):\n",
    "    a = []\n",
    "    trait1 = pd.DataFrame([0,0,0,0],['I','N','T','J'],['count'])\n",
    "    trait2 = pd.DataFrame([0,0,0,0],['E','S','F','P'],['count'])\n",
    "    for i in input:\n",
    "        a += [MBTI(i)]\n",
    "    for i in a:\n",
    "        for j in ['I','N','T','J']:\n",
    "            if(j in i):\n",
    "                trait1.loc[j]+=1                \n",
    "        for j in ['E','S','F','P']:\n",
    "            if(j in i):\n",
    "                trait2.loc[j]+=1 \n",
    "    trait1 = trait1.T\n",
    "    trait1 = trait1*100/len(input)\n",
    "    trait2 = trait2.T\n",
    "    trait2 = trait2*100/len(input)\n",
    "    \n",
    "    \n",
    "    #Finding the personality\n",
    "    YourTrait = ''\n",
    "    for i,j in zip(trait1,trait2):\n",
    "        temp = max(trait1[i][0],trait2[j][0])\n",
    "        if(trait1[i][0]==temp):\n",
    "            YourTrait += i  \n",
    "        if(trait2[j][0]==temp):\n",
    "            YourTrait += j\n",
    "    traasits +=[YourTrait] \n",
    "    \n",
    "    #Plotting\n",
    "    \n",
    "    labels = np.array(results.columns)\n",
    "\n",
    "    intj = trait1.loc['count']\n",
    "    ind = np.arange(4)\n",
    "    width = 0.4\n",
    "    fig = plt.figure()\n",
    "    ax = fig.add_subplot(111)\n",
    "    rects1 = ax.bar(ind, intj, width, color='royalblue')\n",
    "\n",
    "    esfp = trait2.loc['count']\n",
    "    rects2 = ax.bar(ind+width, esfp, width, color='seagreen')\n",
    "\n",
    "    fig.set_size_inches(10, 7)\n",
    "    \n",
    "    \n",
    "\n",
    "    ax.set_xlabel('Finding the MBTI Trait', size = 18)\n",
    "    ax.set_ylabel('Trait Percent (%)', size = 18)\n",
    "    ax.set_xticks(ind + width / 2)\n",
    "    ax.set_xticklabels(labels)\n",
    "    ax.set_yticks(np.arange(0,105, step= 10))\n",
    "    ax.set_title('Your Personality is '+YourTrait,size = 20)\n",
    "    plt.grid(True)\n",
    "    \n",
    "    \n",
    "    fig.savefig(name+'.png', dpi=200)\n",
    "    \n",
    "    plt.show()\n",
    "    return(traasits)"
   ]
  },
  {
   "cell_type": "markdown",
   "metadata": {},
   "source": [
    "Importing social media posts from a text file\n",
    "I copied all my answer from their social media (i broke down the paragraphs as separate posts separated by |||)"
   ]
  },
  {
   "cell_type": "markdown",
   "metadata": {},
   "source": [
    "Personality :Mr.Barack Obama"
   ]
  },
  {
   "cell_type": "code",
   "execution_count": 65,
   "metadata": {},
   "outputs": [],
   "source": [
    "My_writings = open(\"BarackObama.txt\")\n",
    "my_writing = My_writings.readlines()\n",
    "#my_writing"
   ]
  },
  {
   "cell_type": "code",
   "execution_count": 66,
   "metadata": {},
   "outputs": [
    {
     "data": {
      "text/plain": [
       "6"
      ]
     },
     "execution_count": 66,
     "metadata": {},
     "output_type": "execute_result"
    }
   ],
   "source": [
    "my_posts = my_writing[0].split('|||')\n",
    "len(my_posts)\n",
    "#my_posts"
   ]
  },
  {
   "cell_type": "code",
   "execution_count": 67,
   "metadata": {},
   "outputs": [
    {
     "data": {
      "image/png": "[encoded data removed]",
      "text/plain": [
       "<Figure size 720x504 with 1 Axes>"
      ]
     },
     "metadata": {
      "needs_background": "light"
     },
     "output_type": "display_data"
    }
   ],
   "source": [
    "#predicting personality\n",
    "trait=tellmemyMBTI(my_posts, 'Barack Obama')"
   ]
  },
  {
   "cell_type": "markdown",
   "metadata": {},
   "source": [
    "Barack Obama's personality typpe is ENFJ.Our model predicts it as INFJ which is pretty good prediction according to 50% accuracy of our model."
   ]
  },
  {
   "cell_type": "markdown",
   "metadata": {},
   "source": [
    "Personality : Mrs. Michelle Obama"
   ]
  },
  {
   "cell_type": "code",
   "execution_count": 78,
   "metadata": {},
   "outputs": [],
   "source": [
    "My_writings = open(\"michelleObama.txt\",\"r\",encoding='utf-8')#to remove encoding format errors\n",
    "my_writing = My_writings.readlines()\n",
    "#my_writing"
   ]
  },
  {
   "cell_type": "code",
   "execution_count": 69,
   "metadata": {},
   "outputs": [
    {
     "data": {
      "text/plain": [
       "7"
      ]
     },
     "execution_count": 69,
     "metadata": {},
     "output_type": "execute_result"
    }
   ],
   "source": [
    "my_posts = my_writing[0].split('|||')\n",
    "len(my_posts)\n",
    "#my_posts"
   ]
  },
  {
   "cell_type": "code",
   "execution_count": 70,
   "metadata": {},
   "outputs": [
    {
     "data": {
      "image/png": "[encoded data removed]",
      "text/plain": [
       "<Figure size 720x504 with 1 Axes>"
      ]
     },
     "metadata": {
      "needs_background": "light"
     },
     "output_type": "display_data"
    }
   ],
   "source": [
    "#predicting personality\n",
    "trait=tellmemyMBTI(my_posts, 'Michelle Obama')"
   ]
  },
  {
   "cell_type": "markdown",
   "metadata": {},
   "source": [
    "Michelle Obama's personality type is INTJ.My model predicts ist as INFP."
   ]
  },
  {
   "cell_type": "markdown",
   "metadata": {},
   "source": [
    "Personality :Mr. Rishabh Kaushal (Our Professor)"
   ]
  },
  {
   "cell_type": "code",
   "execution_count": 71,
   "metadata": {},
   "outputs": [],
   "source": [
    "My_writings = open(\"TESTDATA.txt\")\n",
    "my_writing = My_writings.readlines()\n",
    "#my_writing"
   ]
  },
  {
   "cell_type": "code",
   "execution_count": 72,
   "metadata": {},
   "outputs": [
    {
     "data": {
      "text/plain": [
       "10"
      ]
     },
     "execution_count": 72,
     "metadata": {},
     "output_type": "execute_result"
    }
   ],
   "source": [
    "my_posts = my_writing[0].split('|||')\n",
    "len(my_posts)\n",
    "#my_posts"
   ]
  },
  {
   "cell_type": "code",
   "execution_count": 73,
   "metadata": {},
   "outputs": [
    {
     "data": {
      "image/png": "[encoded data removed]",
      "text/plain": [
       "<Figure size 720x504 with 1 Axes>"
      ]
     },
     "metadata": {
      "needs_background": "light"
     },
     "output_type": "display_data"
    }
   ],
   "source": [
    "#predicting personality\n",
    "trait=tellmemyMBTI(my_posts, 'TEST DATA')"
   ]
  },
  {
   "cell_type": "markdown",
   "metadata": {},
   "source": [
    "# TEST DATA ABOVE"
   ]
  },
  {
   "cell_type": "markdown",
   "metadata": {},
   "source": [
    "Test data personality type is INTJ according to our model.Test data is our Professor's(Rishabh sir)."
   ]
  },
  {
   "cell_type": "markdown",
   "metadata": {},
   "source": [
    "Checking my friend's personality type based on his quora profile."
   ]
  },
  {
   "cell_type": "code",
   "execution_count": 75,
   "metadata": {},
   "outputs": [],
   "source": [
    "My_writings = open(\"ASHU.txt\")\n",
    "my_writing = My_writings.readlines()\n",
    "#my_writing"
   ]
  },
  {
   "cell_type": "code",
   "execution_count": 76,
   "metadata": {},
   "outputs": [
    {
     "data": {
      "text/plain": [
       "13"
      ]
     },
     "execution_count": 76,
     "metadata": {},
     "output_type": "execute_result"
    }
   ],
   "source": [
    "my_posts = my_writing[0].split('|||')\n",
    "len(my_posts)\n",
    "#my_posts"
   ]
  },
  {
   "cell_type": "code",
   "execution_count": 77,
   "metadata": {},
   "outputs": [
    {
     "data": {
      "image/png": "[encoded data removed]",
      "text/plain": [
       "<Figure size 720x504 with 1 Axes>"
      ]
     },
     "metadata": {
      "needs_background": "light"
     },
     "output_type": "display_data"
    }
   ],
   "source": [
    "#predicting personality\n",
    "trait=tellmemyMBTI(my_posts, 'ASHU')"
   ]
  },
  {
   "cell_type": "markdown",
   "metadata": {},
   "source": [
    "My friend's Personality type according to 16personalities.com is ENFP . My model tells INTP as his type, which is a good prediction according to 50% accuracy of my model.Data taken from quora : https://www.quora.com/profile/Ashutosh-Trivedi-10?q=ashu"
   ]
  },
  {
   "cell_type": "markdown",
   "metadata": {},
   "source": [
    "Checking my personality type"
   ]
  },
  {
   "cell_type": "code",
   "execution_count": 79,
   "metadata": {},
   "outputs": [],
   "source": [
    "My_writings = open(\"BHAVANA.txt\",\"r\",encoding='utf-8')#to remove utf unicode error.\n",
    "my_writing = My_writings.readlines()\n",
    "#my_writing"
   ]
  },
  {
   "cell_type": "code",
   "execution_count": 80,
   "metadata": {},
   "outputs": [
    {
     "data": {
      "text/plain": [
       "9"
      ]
     },
     "execution_count": 80,
     "metadata": {},
     "output_type": "execute_result"
    }
   ],
   "source": [
    "my_posts = my_writing[0].split('|||')\n",
    "len(my_posts)\n",
    "#my_posts"
   ]
  },
  {
   "cell_type": "code",
   "execution_count": 81,
   "metadata": {},
   "outputs": [
    {
     "data": {
      "image/png": "[encoded data removed]",
      "text/plain": [
       "<Figure size 720x504 with 1 Axes>"
      ]
     },
     "metadata": {
      "needs_background": "light"
     },
     "output_type": "display_data"
    }
   ],
   "source": [
    "#predicting personality\n",
    "trait=tellmemyMBTI(my_posts, 'BHAVANA')"
   ]
  },
  {
   "cell_type": "markdown",
   "metadata": {},
   "source": [
    "My personality type is ISFJ. My model predicts it as INTJ.Data taken from Quora-https://www.quora.com/profile/Bhavana-Sinha/answers"
   ]
  },
  {
   "cell_type": "markdown",
   "metadata": {},
   "source": [
    "There is slight difference between the personality predicted by the model and the personality predicted by 16personalities.com.This might be because 1)we have not scraped the profile but have copied few posts of the user into the test file.2)We are using Naiive Bayes classifier whose accuracy is 50%.\n",
    "so according to the accuracy of the model,we are getting a good result."
   ]
  },
  {
   "cell_type": "code",
   "execution_count": null,
   "metadata": {},
   "outputs": [],
   "source": []
  }
 ],
 "metadata": {
  "kernelspec": {
   "display_name": "Python 3",
   "language": "python",
   "name": "python3"
  },
  "language_info": {
   "codemirror_mode": {
    "name": "ipython",
    "version": 3
   },
   "file_extension": ".py",
   "mimetype": "text/x-python",
   "name": "python",
   "nbconvert_exporter": "python",
   "pygments_lexer": "ipython3",
   "version": "3.7.4"
  }
 },
 "nbformat": 4,
 "nbformat_minor": 2
}
