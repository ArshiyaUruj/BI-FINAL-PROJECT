{
 "cells": [
  {
   "cell_type": "code",
   "execution_count": 1,
   "metadata": {},
   "outputs": [],
   "source": [
    "import pandas as pd\n",
    "import numpy as np\n",
    "import matplotlib.pyplot as plt\n",
    "import nltk\n",
    "import string\n",
    "from nltk.classify import NaiveBayesClassifier"
   ]
  },
  {
   "cell_type": "code",
   "execution_count": 2,
   "metadata": {},
   "outputs": [
    {
     "data": {
      "text/html": [
       "<div>\n",
       "<style scoped>\n",
       "    .dataframe tbody tr th:only-of-type {\n",
       "        vertical-align: middle;\n",
       "    }\n",
       "\n",
       "    .dataframe tbody tr th {\n",
       "        vertical-align: top;\n",
       "    }\n",
       "\n",
       "    .dataframe thead th {\n",
       "        text-align: right;\n",
       "    }\n",
       "</style>\n",
       "<table border=\"1\" class=\"dataframe\">\n",
       "  <thead>\n",
       "    <tr style=\"text-align: right;\">\n",
       "      <th></th>\n",
       "      <th>type</th>\n",
       "      <th>posts</th>\n",
       "    </tr>\n",
       "  </thead>\n",
       "  <tbody>\n",
       "    <tr>\n",
       "      <td>8670</td>\n",
       "      <td>ISFP</td>\n",
       "      <td>'https://www.youtube.com/watch?v=t8edHB_h908||...</td>\n",
       "    </tr>\n",
       "    <tr>\n",
       "      <td>8671</td>\n",
       "      <td>ENFP</td>\n",
       "      <td>'So...if this thread already exists someplace ...</td>\n",
       "    </tr>\n",
       "    <tr>\n",
       "      <td>8672</td>\n",
       "      <td>INTP</td>\n",
       "      <td>'So many questions when i do these things.  I ...</td>\n",
       "    </tr>\n",
       "    <tr>\n",
       "      <td>8673</td>\n",
       "      <td>INFP</td>\n",
       "      <td>'I am very conflicted right now when it comes ...</td>\n",
       "    </tr>\n",
       "    <tr>\n",
       "      <td>8674</td>\n",
       "      <td>INFP</td>\n",
       "      <td>'It has been too long since I have been on per...</td>\n",
       "    </tr>\n",
       "  </tbody>\n",
       "</table>\n",
       "</div>"
      ],
      "text/plain": [
       "      type                                              posts\n",
       "8670  ISFP  'https://www.youtube.com/watch?v=t8edHB_h908||...\n",
       "8671  ENFP  'So...if this thread already exists someplace ...\n",
       "8672  INTP  'So many questions when i do these things.  I ...\n",
       "8673  INFP  'I am very conflicted right now when it comes ...\n",
       "8674  INFP  'It has been too long since I have been on per..."
      ]
     },
     "execution_count": 2,
     "metadata": {},
     "output_type": "execute_result"
    }
   ],
   "source": [
    "ds=pd.read_csv(\"mbti_1.csv\")\n",
    "ds.tail()"
   ]
  },
  {
   "cell_type": "code",
   "execution_count": 3,
   "metadata": {},
   "outputs": [
    {
     "data": {
      "text/plain": [
       "(8675, 2)"
      ]
     },
     "execution_count": 3,
     "metadata": {},
     "output_type": "execute_result"
    }
   ],
   "source": [
    "ds.shape # counting no. of rows, columns in dataset"
   ]
  },
  {
   "cell_type": "code",
   "execution_count": 4,
   "metadata": {},
   "outputs": [
    {
     "data": {
      "text/plain": [
       "type     False\n",
       "posts    False\n",
       "dtype: bool"
      ]
     },
     "execution_count": 4,
     "metadata": {},
     "output_type": "execute_result"
    }
   ],
   "source": [
    "ds.isnull().any() #checking for null values in dataset"
   ]
  },
  {
   "cell_type": "code",
   "execution_count": 5,
   "metadata": {},
   "outputs": [
    {
     "data": {
      "text/plain": [
       "[\"'http://www.youtube.com/watch?v=qsXHcwe3krw\",\n",
       " 'http://41.media.tumblr.com/tumblr_lfouy03PMA1qa1rooo1_500.jpg',\n",
       " 'enfp and intj moments  https://www.youtube.com/watch?v=iz7lE1g4XM4  sportscenter not top ten plays  https://www.youtube.com/watch?v=uCdfze1etec  pranks',\n",
       " 'What has been the most life-changing experience in your life?',\n",
       " 'http://www.youtube.com/watch?v=vXZeYwwRDw8   http://www.youtube.com/watch?v=u8ejam5DP3E  On repeat for most of today.',\n",
       " 'May the PerC Experience immerse you.',\n",
       " 'The last thing my INFJ friend posted on his facebook before committing suicide the next day. Rest in peace~   http://vimeo.com/22842206',\n",
       " \"Hello ENFJ7. Sorry to hear of your distress. It's only natural for a relationship to not be perfection all the time in every moment of existence. Try to figure the hard times as times of growth, as...\",\n",
       " '84389  84390  http://wallpaperpassion.com/upload/23700/friendship-boy-and-girl-wallpaper.jpg  http://assets.dornob.com/wp-content/uploads/2010/04/round-home-design.jpg ...',\n",
       " 'Welcome and stuff.',\n",
       " 'http://playeressence.com/wp-content/uploads/2013/08/RED-red-the-pokemon-master-32560474-450-338.jpg  Game. Set. Match.',\n",
       " \"Prozac, wellbrutin, at least thirty minutes of moving your legs (and I don't mean moving them while sitting in your same desk chair), weed in moderation (maybe try edibles as a healthier alternative...\",\n",
       " \"Basically come up with three items you've determined that each type (or whichever types you want to do) would more than likely use, given each types' cognitive functions and whatnot, when left by...\",\n",
       " 'All things in moderation.  Sims is indeed a video game, and a good one at that. Note: a good one at that is somewhat subjective in that I am not completely promoting the death of any given Sim...',\n",
       " 'Dear ENFP:  What were your favorite video games growing up and what are your now, current favorite video games? :cool:',\n",
       " 'https://www.youtube.com/watch?v=QyPqT8umzmY',\n",
       " 'It appears to be too late. :sad:',\n",
       " \"There's someone out there for everyone.\",\n",
       " 'Wait... I thought confidence was a good thing.',\n",
       " \"I just cherish the time of solitude b/c i revel within my inner world more whereas most other time i'd be workin... just enjoy the me time while you can. Don't worry, people will always be around to...\",\n",
       " \"Yo entp ladies... if you're into a complimentary personality,well, hey.\",\n",
       " '... when your main social outlet is xbox live conversations and even then you verbally fatigue quickly.',\n",
       " 'http://www.youtube.com/watch?v=gDhy7rdfm14  I really dig the part from 1:46 to 2:50',\n",
       " 'http://www.youtube.com/watch?v=msqXffgh7b8',\n",
       " 'Banned because this thread requires it of me.',\n",
       " 'Get high in backyard, roast and eat marshmellows in backyard while conversing over something intellectual, followed by massages and kisses.',\n",
       " 'http://www.youtube.com/watch?v=Mw7eoU3BMbE',\n",
       " 'http://www.youtube.com/watch?v=4V2uYORhQOk',\n",
       " 'http://www.youtube.com/watch?v=SlVmgFQQ0TI',\n",
       " \"Banned for too many b's in that sentence. How could you! Think of the B!\",\n",
       " 'Banned for watching movies in the corner with the dunces.',\n",
       " 'Banned because Health class clearly taught you nothing about peer pressure.',\n",
       " 'Banned for a whole host of reasons!',\n",
       " 'http://www.youtube.com/watch?v=IRcrv41hgz4',\n",
       " \"1) Two baby deer on left and right munching on a beetle in the middle.  2) Using their own blood, two cavemen diary today's latest happenings on their designated cave diary wall.  3) I see it as...\",\n",
       " 'a pokemon world  an infj society  everyone becomes an optimist',\n",
       " '49142',\n",
       " 'http://www.youtube.com/watch?v=ZRCEq_JFeFM',\n",
       " 'http://discovermagazine.com/2012/jul-aug/20-things-you-didnt-know-about-deserts/desert.jpg',\n",
       " 'http://oyster.ignimgs.com/mediawiki/apis.ign.com/pokemon-silver-version/d/dd/Ditto.gif',\n",
       " 'http://www.serebii.net/potw-dp/Scizor.jpg',\n",
       " \"Not all artists are artists because they draw. It's the idea that counts in forming something of your own... like a signature.\",\n",
       " \"Welcome to the robot ranks, person who downed my self-esteem cuz I'm not an avid signature artist like herself. :proud:\",\n",
       " 'Banned for taking all the room under my bed. Ya gotta learn to share with the roaches.',\n",
       " 'http://www.youtube.com/watch?v=w8IgImn57aQ',\n",
       " 'Banned for being too much of a thundering, grumbling kind of storm... yep.',\n",
       " \"Ahh... old high school music I haven't heard in ages.   http://www.youtube.com/watch?v=dcCRUPCdB1w\",\n",
       " \"I failed a public speaking class a few years ago and I've sort of learned what I could do better were I to be in that position again. A big part of my failure was just overloading myself with too...\",\n",
       " \"I like this person's mentality. He's a confirmed INTJ by the way. http://www.youtube.com/watch?v=hGKLI-GEc6M\",\n",
       " \"Move to the Denver area and start a new life for myself.'\"]"
      ]
     },
     "execution_count": 5,
     "metadata": {},
     "output_type": "execute_result"
    }
   ],
   "source": [
    "ds.iloc[0,1].split('|||') #iloc:selecting rows ,[0,1]:selecting 0th row i.e first row and 1st i.e 2nd column from dataset"
   ]
  },
  {
   "cell_type": "code",
   "execution_count": 6,
   "metadata": {},
   "outputs": [
    {
     "data": {
      "text/plain": [
       "50"
      ]
     },
     "execution_count": 6,
     "metadata": {},
     "output_type": "execute_result"
    }
   ],
   "source": [
    "len(ds.iloc[1,1].split('|||')) #counts no. of post in 2nd row -2nd column ie post column"
   ]
  },
  {
   "cell_type": "code",
   "execution_count": 7,
   "metadata": {},
   "outputs": [
    {
     "data": {
      "text/plain": [
       "50"
      ]
     },
     "execution_count": 7,
     "metadata": {},
     "output_type": "execute_result"
    }
   ],
   "source": [
    "len(ds.iloc[2,1].split('|||'))#counts no. of post in 3rdd row -2nd column ie post column"
   ]
  },
  {
   "cell_type": "code",
   "execution_count": 8,
   "metadata": {},
   "outputs": [
    {
     "data": {
      "text/plain": [
       "50"
      ]
     },
     "execution_count": 8,
     "metadata": {},
     "output_type": "execute_result"
    }
   ],
   "source": [
    "len(ds.iloc[0,1].split('|||'))#counts no. of post in 1st row -2nd column ie post column"
   ]
  },
  {
   "cell_type": "code",
   "execution_count": 9,
   "metadata": {},
   "outputs": [
    {
     "data": {
      "text/plain": [
       "50"
      ]
     },
     "execution_count": 9,
     "metadata": {},
     "output_type": "execute_result"
    }
   ],
   "source": [
    "len(ds.iloc[1444,1].split('|||'))#counts no. of post in 1445th row -2nd column ie post column"
   ]
  },
  {
   "cell_type": "code",
   "execution_count": 10,
   "metadata": {},
   "outputs": [
    {
     "data": {
      "text/plain": [
       "array(['ENFJ', 'ENFP', 'ENTJ', 'ENTP', 'ESFJ', 'ESFP', 'ESTJ', 'ESTP',\n",
       "       'INFJ', 'INFP', 'INTJ', 'INTP', 'ISFJ', 'ISFP', 'ISTJ', 'ISTP'],\n",
       "      dtype=object)"
      ]
     },
     "execution_count": 10,
     "metadata": {},
     "output_type": "execute_result"
    }
   ],
   "source": [
    "#From above,we see that each row has 50 posts \n",
    "types=np.unique(np.array(ds['type'])) #displays the unique sorted rows in type column and put it in array\n",
    "types"
   ]
  },
  {
   "cell_type": "code",
   "execution_count": 11,
   "metadata": {},
   "outputs": [
    {
     "data": {
      "text/plain": [
       "0       INFJ\n",
       "1       ENTP\n",
       "2       INTP\n",
       "3       INTJ\n",
       "4       ENTJ\n",
       "        ... \n",
       "8670    ISFP\n",
       "8671    ENFP\n",
       "8672    INTP\n",
       "8673    INFP\n",
       "8674    INFP\n",
       "Name: type, Length: 8675, dtype: object"
      ]
     },
     "execution_count": 11,
     "metadata": {},
     "output_type": "execute_result"
    }
   ],
   "source": [
    "ds['type']"
   ]
  },
  {
   "cell_type": "code",
   "execution_count": 12,
   "metadata": {},
   "outputs": [
    {
     "data": {
      "text/plain": [
       "array(['INFJ', 'ENTP', 'INTP', ..., 'INTP', 'INFP', 'INFP'], dtype=object)"
      ]
     },
     "execution_count": 12,
     "metadata": {},
     "output_type": "execute_result"
    }
   ],
   "source": [
    "np.array(ds['type'])"
   ]
  },
  {
   "cell_type": "code",
   "execution_count": 13,
   "metadata": {},
   "outputs": [
    {
     "data": {
      "text/html": [
       "<div>\n",
       "<style scoped>\n",
       "    .dataframe tbody tr th:only-of-type {\n",
       "        vertical-align: middle;\n",
       "    }\n",
       "\n",
       "    .dataframe tbody tr th {\n",
       "        vertical-align: top;\n",
       "    }\n",
       "\n",
       "    .dataframe thead th {\n",
       "        text-align: right;\n",
       "    }\n",
       "</style>\n",
       "<table border=\"1\" class=\"dataframe\">\n",
       "  <thead>\n",
       "    <tr style=\"text-align: right;\">\n",
       "      <th></th>\n",
       "      <th>posts</th>\n",
       "    </tr>\n",
       "    <tr>\n",
       "      <th>type</th>\n",
       "      <th></th>\n",
       "    </tr>\n",
       "  </thead>\n",
       "  <tbody>\n",
       "    <tr>\n",
       "      <td>ENFJ</td>\n",
       "      <td>9500</td>\n",
       "    </tr>\n",
       "    <tr>\n",
       "      <td>ENFP</td>\n",
       "      <td>33750</td>\n",
       "    </tr>\n",
       "    <tr>\n",
       "      <td>ENTJ</td>\n",
       "      <td>11550</td>\n",
       "    </tr>\n",
       "    <tr>\n",
       "      <td>ENTP</td>\n",
       "      <td>34250</td>\n",
       "    </tr>\n",
       "    <tr>\n",
       "      <td>ESFJ</td>\n",
       "      <td>2100</td>\n",
       "    </tr>\n",
       "    <tr>\n",
       "      <td>ESFP</td>\n",
       "      <td>2400</td>\n",
       "    </tr>\n",
       "    <tr>\n",
       "      <td>ESTJ</td>\n",
       "      <td>1950</td>\n",
       "    </tr>\n",
       "    <tr>\n",
       "      <td>ESTP</td>\n",
       "      <td>4450</td>\n",
       "    </tr>\n",
       "    <tr>\n",
       "      <td>INFJ</td>\n",
       "      <td>73500</td>\n",
       "    </tr>\n",
       "    <tr>\n",
       "      <td>INFP</td>\n",
       "      <td>91600</td>\n",
       "    </tr>\n",
       "    <tr>\n",
       "      <td>INTJ</td>\n",
       "      <td>54550</td>\n",
       "    </tr>\n",
       "    <tr>\n",
       "      <td>INTP</td>\n",
       "      <td>65200</td>\n",
       "    </tr>\n",
       "    <tr>\n",
       "      <td>ISFJ</td>\n",
       "      <td>8300</td>\n",
       "    </tr>\n",
       "    <tr>\n",
       "      <td>ISFP</td>\n",
       "      <td>13550</td>\n",
       "    </tr>\n",
       "    <tr>\n",
       "      <td>ISTJ</td>\n",
       "      <td>10250</td>\n",
       "    </tr>\n",
       "    <tr>\n",
       "      <td>ISTP</td>\n",
       "      <td>16850</td>\n",
       "    </tr>\n",
       "  </tbody>\n",
       "</table>\n",
       "</div>"
      ],
      "text/plain": [
       "      posts\n",
       "type       \n",
       "ENFJ   9500\n",
       "ENFP  33750\n",
       "ENTJ  11550\n",
       "ENTP  34250\n",
       "ESFJ   2100\n",
       "ESFP   2400\n",
       "ESTJ   1950\n",
       "ESTP   4450\n",
       "INFJ  73500\n",
       "INFP  91600\n",
       "INTJ  54550\n",
       "INTP  65200\n",
       "ISFJ   8300\n",
       "ISFP  13550\n",
       "ISTJ  10250\n",
       "ISTP  16850"
      ]
     },
     "execution_count": 13,
     "metadata": {},
     "output_type": "execute_result"
    }
   ],
   "source": [
    "#counting total posts of each type\n",
    "total=ds.groupby(['type']).count()*50\n",
    "total"
   ]
  },
  {
   "cell_type": "code",
   "execution_count": 14,
   "metadata": {},
   "outputs": [],
   "source": [
    "allPost=pd.DataFrame() #put array into 2D data\n",
    "for j in types:\n",
    "    temp1 = ds[ds['type']==j]['posts'] #making type as columns \n",
    "    temp2=[]\n",
    "    for i in temp1:\n",
    "        temp2+=i.split('|||')\n",
    "    temp3=pd.Series(temp2)  #each row is filled in order : creating 1d array i.e data is filled row wise in allPost\n",
    "    allPost[j]=temp3 "
   ]
  },
  {
   "cell_type": "code",
   "execution_count": 15,
   "metadata": {},
   "outputs": [],
   "source": [
    "allPost.to_csv('mbtiPost.csv',index=False)"
   ]
  },
  {
   "cell_type": "code",
   "execution_count": 16,
   "metadata": {},
   "outputs": [
    {
     "data": {
      "text/html": [
       "<div>\n",
       "<style scoped>\n",
       "    .dataframe tbody tr th:only-of-type {\n",
       "        vertical-align: middle;\n",
       "    }\n",
       "\n",
       "    .dataframe tbody tr th {\n",
       "        vertical-align: top;\n",
       "    }\n",
       "\n",
       "    .dataframe thead th {\n",
       "        text-align: right;\n",
       "    }\n",
       "</style>\n",
       "<table border=\"1\" class=\"dataframe\">\n",
       "  <thead>\n",
       "    <tr style=\"text-align: right;\">\n",
       "      <th></th>\n",
       "      <th>ENFJ</th>\n",
       "      <th>ENFP</th>\n",
       "      <th>ENTJ</th>\n",
       "      <th>ENTP</th>\n",
       "      <th>ESFJ</th>\n",
       "      <th>ESFP</th>\n",
       "      <th>ESTJ</th>\n",
       "      <th>ESTP</th>\n",
       "      <th>INFJ</th>\n",
       "      <th>INFP</th>\n",
       "      <th>INTJ</th>\n",
       "      <th>INTP</th>\n",
       "      <th>ISFJ</th>\n",
       "      <th>ISFP</th>\n",
       "      <th>ISTJ</th>\n",
       "      <th>ISTP</th>\n",
       "    </tr>\n",
       "  </thead>\n",
       "  <tbody>\n",
       "    <tr>\n",
       "      <td>0</td>\n",
       "      <td>'https://www.youtube.com/watch?v=PLAaiKvHvZs</td>\n",
       "      <td>'He doesn't want to go on the trip without me,...</td>\n",
       "      <td>'You're fired.</td>\n",
       "      <td>'I'm finding the lack of me in these posts ver...</td>\n",
       "      <td>'Why not?</td>\n",
       "      <td>'Edit: I forgot what board this was on.</td>\n",
       "      <td>this is such a catch 22</td>\n",
       "      <td>Splinter Cell Blacklist for Xbox 360.</td>\n",
       "      <td>'http://www.youtube.com/watch?v=qsXHcwe3krw</td>\n",
       "      <td>'I think we do agree. I personally don't consi...</td>\n",
       "      <td>'Dear INTP,   I enjoyed our conversation the o...</td>\n",
       "      <td>'Good one  _____   https://www.youtube.com/wat...</td>\n",
       "      <td>'I love feeling affectionate for the one I lov...</td>\n",
       "      <td>'They paint without numbers</td>\n",
       "      <td>'Newton's Universal Gravity Law. I mean seriou...</td>\n",
       "      <td>'I got 593.  From what I've read about the Enn...</td>\n",
       "    </tr>\n",
       "    <tr>\n",
       "      <td>1</td>\n",
       "      <td>51 :o</td>\n",
       "      <td>I'm still completely in AWE and I'm AMAZED tha...</td>\n",
       "      <td>That's another silly misconception. That appro...</td>\n",
       "      <td>Sex can be boring if it's in the same position...</td>\n",
       "      <td>Any other ESFJs originally mistype as an NFP? ...</td>\n",
       "      <td>I am currently reading 'Artemis Fowl: The Eter...</td>\n",
       "      <td>I'm here! Although, I'm quite the terrible EST...</td>\n",
       "      <td>ESTPs are generally well liked. If you get hat...</td>\n",
       "      <td>http://41.media.tumblr.com/tumblr_lfouy03PMA1q...</td>\n",
       "      <td>Literature... I'd suggest 'Everyday Zen' by Ch...</td>\n",
       "      <td>Dear ENTJ sub,   Long time no see.  Sincerely,...</td>\n",
       "      <td>Of course, to which I say I know; that's my bl...</td>\n",
       "      <td>Kind of an update on my past post above. Whate...</td>\n",
       "      <td>I'd guess at istp too</td>\n",
       "      <td>Well, if money and time was no object, I would...</td>\n",
       "      <td>GTFO FEELER!</td>\n",
       "    </tr>\n",
       "    <tr>\n",
       "      <td>2</td>\n",
       "      <td>I went through a break up some months ago. We ...</td>\n",
       "      <td>Thanks, everyone. I'm struggling with being se...</td>\n",
       "      <td>But guys... he REALLY wants to go on a super-d...</td>\n",
       "      <td>Giving new meaning to 'Game' theory.</td>\n",
       "      <td>Hello again. Thanks for all your help. I know ...</td>\n",
       "      <td>Hi all, if you've got some spare time and why ...</td>\n",
       "      <td>Yikes. I do not want power...</td>\n",
       "      <td>I often come off to people with the opposite o...</td>\n",
       "      <td>enfp and intj moments  https://www.youtube.com...</td>\n",
       "      <td>Being emotional doesn't automatically make som...</td>\n",
       "      <td>None of them. All other types hurt in deep exi...</td>\n",
       "      <td>Does being absolutely positive that you and yo...</td>\n",
       "      <td>It feels weird being in love for the first tim...</td>\n",
       "      <td>My best bud is ESFP, very funny, entertaining ...</td>\n",
       "      <td>http://www.oglaf.com/media/comic/failsafe.jpg</td>\n",
       "      <td>A lot of the stuff that you read in the INTP d...</td>\n",
       "    </tr>\n",
       "    <tr>\n",
       "      <td>3</td>\n",
       "      <td>ENFJ Puns so many puns.</td>\n",
       "      <td>My husband works an extra job each year to pay...</td>\n",
       "      <td>Never mind. Just go on permanent vacation.</td>\n",
       "      <td>Hello *ENTP Grin*  That's all it takes. Than w...</td>\n",
       "      <td>Of the J functions, I'd say it would be: Fi&gt;Ti...</td>\n",
       "      <td>BABYMETAL are the best band of this decade  ht...</td>\n",
       "      <td>Thank you SO SO much. This is what I had plann...</td>\n",
       "      <td>Ask her what you are to her.</td>\n",
       "      <td>What has been the most life-changing experienc...</td>\n",
       "      <td>I'm a Ch'an Buddhist, so it's a daily thing fo...</td>\n",
       "      <td>Probably a sliding scale that depends on indiv...</td>\n",
       "      <td>No, I didn't; thank you for a link!</td>\n",
       "      <td>Unsure if i completely understand the question...</td>\n",
       "      <td>I used to smoke weed alot, everyday from morni...</td>\n",
       "      <td>I'm still laughing! xD  http://www.youtube.com...</td>\n",
       "      <td>Don't worry about it.  You are trying to make ...</td>\n",
       "    </tr>\n",
       "    <tr>\n",
       "      <td>4</td>\n",
       "      <td>Well I personally don't go that much for attra...</td>\n",
       "      <td>He said that it's not like he's asking me to d...</td>\n",
       "      <td>Two months? I wouldn't be crazy about the idea...</td>\n",
       "      <td>This + Lack of Balance and Hand Eye Coordination.</td>\n",
       "      <td>The ESFJs on this site are lovely. I'm general...</td>\n",
       "      <td>Banned for being a fire hazard.</td>\n",
       "      <td>Hi</td>\n",
       "      <td>I'm a euphonium player and a writer</td>\n",
       "      <td>http://www.youtube.com/watch?v=vXZeYwwRDw8   h...</td>\n",
       "      <td>Glad to know I'm not the only one. I meditate,...</td>\n",
       "      <td>Draco Malfoy also. I'd say he's either 358 or ...</td>\n",
       "      <td>So-called Ti-Si loop (and it can stem from any...</td>\n",
       "      <td>Not often, but I tend to lose it more when it ...</td>\n",
       "      <td>Jimi Hendrix - The Wind Cries Mary.  After all...</td>\n",
       "      <td>workaround is working for me, and I'm using FF...</td>\n",
       "      <td>My mother-in-law is an ESTJ.  She is the epito...</td>\n",
       "    </tr>\n",
       "  </tbody>\n",
       "</table>\n",
       "</div>"
      ],
      "text/plain": [
       "                                                ENFJ  \\\n",
       "0       'https://www.youtube.com/watch?v=PLAaiKvHvZs   \n",
       "1                                              51 :o   \n",
       "2  I went through a break up some months ago. We ...   \n",
       "3                            ENFJ Puns so many puns.   \n",
       "4  Well I personally don't go that much for attra...   \n",
       "\n",
       "                                                ENFP  \\\n",
       "0  'He doesn't want to go on the trip without me,...   \n",
       "1  I'm still completely in AWE and I'm AMAZED tha...   \n",
       "2  Thanks, everyone. I'm struggling with being se...   \n",
       "3  My husband works an extra job each year to pay...   \n",
       "4  He said that it's not like he's asking me to d...   \n",
       "\n",
       "                                                ENTJ  \\\n",
       "0                                     'You're fired.   \n",
       "1  That's another silly misconception. That appro...   \n",
       "2  But guys... he REALLY wants to go on a super-d...   \n",
       "3         Never mind. Just go on permanent vacation.   \n",
       "4  Two months? I wouldn't be crazy about the idea...   \n",
       "\n",
       "                                                ENTP  \\\n",
       "0  'I'm finding the lack of me in these posts ver...   \n",
       "1  Sex can be boring if it's in the same position...   \n",
       "2               Giving new meaning to 'Game' theory.   \n",
       "3  Hello *ENTP Grin*  That's all it takes. Than w...   \n",
       "4  This + Lack of Balance and Hand Eye Coordination.   \n",
       "\n",
       "                                                ESFJ  \\\n",
       "0                                          'Why not?   \n",
       "1  Any other ESFJs originally mistype as an NFP? ...   \n",
       "2  Hello again. Thanks for all your help. I know ...   \n",
       "3  Of the J functions, I'd say it would be: Fi>Ti...   \n",
       "4  The ESFJs on this site are lovely. I'm general...   \n",
       "\n",
       "                                                ESFP  \\\n",
       "0            'Edit: I forgot what board this was on.   \n",
       "1  I am currently reading 'Artemis Fowl: The Eter...   \n",
       "2  Hi all, if you've got some spare time and why ...   \n",
       "3  BABYMETAL are the best band of this decade  ht...   \n",
       "4                    Banned for being a fire hazard.   \n",
       "\n",
       "                                                ESTJ  \\\n",
       "0                           this is such a catch 22    \n",
       "1  I'm here! Although, I'm quite the terrible EST...   \n",
       "2                      Yikes. I do not want power...   \n",
       "3  Thank you SO SO much. This is what I had plann...   \n",
       "4                                                 Hi   \n",
       "\n",
       "                                                ESTP  \\\n",
       "0              Splinter Cell Blacklist for Xbox 360.   \n",
       "1  ESTPs are generally well liked. If you get hat...   \n",
       "2  I often come off to people with the opposite o...   \n",
       "3                       Ask her what you are to her.   \n",
       "4                I'm a euphonium player and a writer   \n",
       "\n",
       "                                                INFJ  \\\n",
       "0        'http://www.youtube.com/watch?v=qsXHcwe3krw   \n",
       "1  http://41.media.tumblr.com/tumblr_lfouy03PMA1q...   \n",
       "2  enfp and intj moments  https://www.youtube.com...   \n",
       "3  What has been the most life-changing experienc...   \n",
       "4  http://www.youtube.com/watch?v=vXZeYwwRDw8   h...   \n",
       "\n",
       "                                                INFP  \\\n",
       "0  'I think we do agree. I personally don't consi...   \n",
       "1  Literature... I'd suggest 'Everyday Zen' by Ch...   \n",
       "2  Being emotional doesn't automatically make som...   \n",
       "3  I'm a Ch'an Buddhist, so it's a daily thing fo...   \n",
       "4  Glad to know I'm not the only one. I meditate,...   \n",
       "\n",
       "                                                INTJ  \\\n",
       "0  'Dear INTP,   I enjoyed our conversation the o...   \n",
       "1  Dear ENTJ sub,   Long time no see.  Sincerely,...   \n",
       "2  None of them. All other types hurt in deep exi...   \n",
       "3  Probably a sliding scale that depends on indiv...   \n",
       "4  Draco Malfoy also. I'd say he's either 358 or ...   \n",
       "\n",
       "                                                INTP  \\\n",
       "0  'Good one  _____   https://www.youtube.com/wat...   \n",
       "1  Of course, to which I say I know; that's my bl...   \n",
       "2  Does being absolutely positive that you and yo...   \n",
       "3                No, I didn't; thank you for a link!   \n",
       "4  So-called Ti-Si loop (and it can stem from any...   \n",
       "\n",
       "                                                ISFJ  \\\n",
       "0  'I love feeling affectionate for the one I lov...   \n",
       "1  Kind of an update on my past post above. Whate...   \n",
       "2  It feels weird being in love for the first tim...   \n",
       "3  Unsure if i completely understand the question...   \n",
       "4  Not often, but I tend to lose it more when it ...   \n",
       "\n",
       "                                                ISFP  \\\n",
       "0                        'They paint without numbers   \n",
       "1                              I'd guess at istp too   \n",
       "2  My best bud is ESFP, very funny, entertaining ...   \n",
       "3  I used to smoke weed alot, everyday from morni...   \n",
       "4  Jimi Hendrix - The Wind Cries Mary.  After all...   \n",
       "\n",
       "                                                ISTJ  \\\n",
       "0  'Newton's Universal Gravity Law. I mean seriou...   \n",
       "1  Well, if money and time was no object, I would...   \n",
       "2      http://www.oglaf.com/media/comic/failsafe.jpg   \n",
       "3  I'm still laughing! xD  http://www.youtube.com...   \n",
       "4  workaround is working for me, and I'm using FF...   \n",
       "\n",
       "                                                ISTP  \n",
       "0  'I got 593.  From what I've read about the Enn...  \n",
       "1                                       GTFO FEELER!  \n",
       "2  A lot of the stuff that you read in the INTP d...  \n",
       "3  Don't worry about it.  You are trying to make ...  \n",
       "4  My mother-in-law is an ESTJ.  She is the epito...  "
      ]
     },
     "execution_count": 16,
     "metadata": {},
     "output_type": "execute_result"
    }
   ],
   "source": [
    "allPost.head()"
   ]
  },
  {
   "cell_type": "code",
   "execution_count": 17,
   "metadata": {},
   "outputs": [
    {
     "data": {
      "text/plain": [
       "(9288, 16)"
      ]
     },
     "execution_count": 17,
     "metadata": {},
     "output_type": "execute_result"
    }
   ],
   "source": [
    "allPost.shape #display no. of rows,column in dataset"
   ]
  },
  {
   "cell_type": "code",
   "execution_count": 18,
   "metadata": {},
   "outputs": [
    {
     "data": {
      "text/plain": [
       "9288"
      ]
     },
     "execution_count": 18,
     "metadata": {},
     "output_type": "execute_result"
    }
   ],
   "source": [
    "allPost.shape[0] #no. of rows"
   ]
  },
  {
   "cell_type": "code",
   "execution_count": 19,
   "metadata": {},
   "outputs": [
    {
     "data": {
      "text/plain": [
       "16"
      ]
     },
     "execution_count": 19,
     "metadata": {},
     "output_type": "execute_result"
    }
   ],
   "source": [
    "allPost.shape[1] #no. of column"
   ]
  },
  {
   "cell_type": "code",
   "execution_count": 20,
   "metadata": {},
   "outputs": [
    {
     "data": {
      "text/plain": [
       "148608"
      ]
     },
     "execution_count": 20,
     "metadata": {},
     "output_type": "execute_result"
    }
   ],
   "source": [
    "totalElements=allPost.shape[0]*allPost.shape[1]\n",
    "totalElements"
   ]
  },
  {
   "cell_type": "code",
   "execution_count": 30,
   "metadata": {},
   "outputs": [
    {
     "data": {
      "text/plain": [
       "27152"
      ]
     },
     "execution_count": 30,
     "metadata": {},
     "output_type": "execute_result"
    }
   ],
   "source": [
    "totalElements=np.size(allPost) #same work as above\n",
    "totalElements"
   ]
  },
  {
   "cell_type": "code",
   "execution_count": 31,
   "metadata": {},
   "outputs": [
    {
     "data": {
      "text/html": [
       "<div>\n",
       "<style scoped>\n",
       "    .dataframe tbody tr th:only-of-type {\n",
       "        vertical-align: middle;\n",
       "    }\n",
       "\n",
       "    .dataframe tbody tr th {\n",
       "        vertical-align: top;\n",
       "    }\n",
       "\n",
       "    .dataframe thead th {\n",
       "        text-align: right;\n",
       "    }\n",
       "</style>\n",
       "<table border=\"1\" class=\"dataframe\">\n",
       "  <thead>\n",
       "    <tr style=\"text-align: right;\">\n",
       "      <th></th>\n",
       "      <th>ENFJ</th>\n",
       "      <th>ENFP</th>\n",
       "      <th>ENTJ</th>\n",
       "      <th>ENTP</th>\n",
       "      <th>ESFJ</th>\n",
       "      <th>ESFP</th>\n",
       "      <th>ESTJ</th>\n",
       "      <th>ESTP</th>\n",
       "      <th>INFJ</th>\n",
       "      <th>INFP</th>\n",
       "      <th>INTJ</th>\n",
       "      <th>INTP</th>\n",
       "      <th>ISFJ</th>\n",
       "      <th>ISFP</th>\n",
       "      <th>ISTJ</th>\n",
       "      <th>ISTP</th>\n",
       "    </tr>\n",
       "  </thead>\n",
       "  <tbody>\n",
       "    <tr>\n",
       "      <td>0</td>\n",
       "      <td>'https://www.youtube.com/watch?v=PLAaiKvHvZs</td>\n",
       "      <td>'He doesn't want to go on the trip without me,...</td>\n",
       "      <td>'You're fired.</td>\n",
       "      <td>'I'm finding the lack of me in these posts ver...</td>\n",
       "      <td>'Why not?</td>\n",
       "      <td>'Edit: I forgot what board this was on.</td>\n",
       "      <td>this is such a catch 22</td>\n",
       "      <td>Splinter Cell Blacklist for Xbox 360.</td>\n",
       "      <td>'http://www.youtube.com/watch?v=qsXHcwe3krw</td>\n",
       "      <td>'I think we do agree. I personally don't consi...</td>\n",
       "      <td>'Dear INTP,   I enjoyed our conversation the o...</td>\n",
       "      <td>'Good one  _____   https://www.youtube.com/wat...</td>\n",
       "      <td>'I love feeling affectionate for the one I lov...</td>\n",
       "      <td>'They paint without numbers</td>\n",
       "      <td>'Newton's Universal Gravity Law. I mean seriou...</td>\n",
       "      <td>'I got 593.  From what I've read about the Enn...</td>\n",
       "    </tr>\n",
       "    <tr>\n",
       "      <td>1</td>\n",
       "      <td>51 :o</td>\n",
       "      <td>I'm still completely in AWE and I'm AMAZED tha...</td>\n",
       "      <td>That's another silly misconception. That appro...</td>\n",
       "      <td>Sex can be boring if it's in the same position...</td>\n",
       "      <td>Any other ESFJs originally mistype as an NFP? ...</td>\n",
       "      <td>I am currently reading 'Artemis Fowl: The Eter...</td>\n",
       "      <td>I'm here! Although, I'm quite the terrible EST...</td>\n",
       "      <td>ESTPs are generally well liked. If you get hat...</td>\n",
       "      <td>http://41.media.tumblr.com/tumblr_lfouy03PMA1q...</td>\n",
       "      <td>Literature... I'd suggest 'Everyday Zen' by Ch...</td>\n",
       "      <td>Dear ENTJ sub,   Long time no see.  Sincerely,...</td>\n",
       "      <td>Of course, to which I say I know; that's my bl...</td>\n",
       "      <td>Kind of an update on my past post above. Whate...</td>\n",
       "      <td>I'd guess at istp too</td>\n",
       "      <td>Well, if money and time was no object, I would...</td>\n",
       "      <td>GTFO FEELER!</td>\n",
       "    </tr>\n",
       "    <tr>\n",
       "      <td>2</td>\n",
       "      <td>I went through a break up some months ago. We ...</td>\n",
       "      <td>Thanks, everyone. I'm struggling with being se...</td>\n",
       "      <td>But guys... he REALLY wants to go on a super-d...</td>\n",
       "      <td>Giving new meaning to 'Game' theory.</td>\n",
       "      <td>Hello again. Thanks for all your help. I know ...</td>\n",
       "      <td>Hi all, if you've got some spare time and why ...</td>\n",
       "      <td>Yikes. I do not want power...</td>\n",
       "      <td>I often come off to people with the opposite o...</td>\n",
       "      <td>enfp and intj moments  https://www.youtube.com...</td>\n",
       "      <td>Being emotional doesn't automatically make som...</td>\n",
       "      <td>None of them. All other types hurt in deep exi...</td>\n",
       "      <td>Does being absolutely positive that you and yo...</td>\n",
       "      <td>It feels weird being in love for the first tim...</td>\n",
       "      <td>My best bud is ESFP, very funny, entertaining ...</td>\n",
       "      <td>http://www.oglaf.com/media/comic/failsafe.jpg</td>\n",
       "      <td>A lot of the stuff that you read in the INTP d...</td>\n",
       "    </tr>\n",
       "    <tr>\n",
       "      <td>3</td>\n",
       "      <td>ENFJ Puns so many puns.</td>\n",
       "      <td>My husband works an extra job each year to pay...</td>\n",
       "      <td>Never mind. Just go on permanent vacation.</td>\n",
       "      <td>Hello *ENTP Grin*  That's all it takes. Than w...</td>\n",
       "      <td>Of the J functions, I'd say it would be: Fi&gt;Ti...</td>\n",
       "      <td>BABYMETAL are the best band of this decade  ht...</td>\n",
       "      <td>Thank you SO SO much. This is what I had plann...</td>\n",
       "      <td>Ask her what you are to her.</td>\n",
       "      <td>What has been the most life-changing experienc...</td>\n",
       "      <td>I'm a Ch'an Buddhist, so it's a daily thing fo...</td>\n",
       "      <td>Probably a sliding scale that depends on indiv...</td>\n",
       "      <td>No, I didn't; thank you for a link!</td>\n",
       "      <td>Unsure if i completely understand the question...</td>\n",
       "      <td>I used to smoke weed alot, everyday from morni...</td>\n",
       "      <td>I'm still laughing! xD  http://www.youtube.com...</td>\n",
       "      <td>Don't worry about it.  You are trying to make ...</td>\n",
       "    </tr>\n",
       "    <tr>\n",
       "      <td>4</td>\n",
       "      <td>Well I personally don't go that much for attra...</td>\n",
       "      <td>He said that it's not like he's asking me to d...</td>\n",
       "      <td>Two months? I wouldn't be crazy about the idea...</td>\n",
       "      <td>This + Lack of Balance and Hand Eye Coordination.</td>\n",
       "      <td>The ESFJs on this site are lovely. I'm general...</td>\n",
       "      <td>Banned for being a fire hazard.</td>\n",
       "      <td>Hi</td>\n",
       "      <td>I'm a euphonium player and a writer</td>\n",
       "      <td>http://www.youtube.com/watch?v=vXZeYwwRDw8   h...</td>\n",
       "      <td>Glad to know I'm not the only one. I meditate,...</td>\n",
       "      <td>Draco Malfoy also. I'd say he's either 358 or ...</td>\n",
       "      <td>So-called Ti-Si loop (and it can stem from any...</td>\n",
       "      <td>Not often, but I tend to lose it more when it ...</td>\n",
       "      <td>Jimi Hendrix - The Wind Cries Mary.  After all...</td>\n",
       "      <td>workaround is working for me, and I'm using FF...</td>\n",
       "      <td>My mother-in-law is an ESTJ.  She is the epito...</td>\n",
       "    </tr>\n",
       "  </tbody>\n",
       "</table>\n",
       "</div>"
      ],
      "text/plain": [
       "                                                ENFJ  \\\n",
       "0       'https://www.youtube.com/watch?v=PLAaiKvHvZs   \n",
       "1                                              51 :o   \n",
       "2  I went through a break up some months ago. We ...   \n",
       "3                            ENFJ Puns so many puns.   \n",
       "4  Well I personally don't go that much for attra...   \n",
       "\n",
       "                                                ENFP  \\\n",
       "0  'He doesn't want to go on the trip without me,...   \n",
       "1  I'm still completely in AWE and I'm AMAZED tha...   \n",
       "2  Thanks, everyone. I'm struggling with being se...   \n",
       "3  My husband works an extra job each year to pay...   \n",
       "4  He said that it's not like he's asking me to d...   \n",
       "\n",
       "                                                ENTJ  \\\n",
       "0                                     'You're fired.   \n",
       "1  That's another silly misconception. That appro...   \n",
       "2  But guys... he REALLY wants to go on a super-d...   \n",
       "3         Never mind. Just go on permanent vacation.   \n",
       "4  Two months? I wouldn't be crazy about the idea...   \n",
       "\n",
       "                                                ENTP  \\\n",
       "0  'I'm finding the lack of me in these posts ver...   \n",
       "1  Sex can be boring if it's in the same position...   \n",
       "2               Giving new meaning to 'Game' theory.   \n",
       "3  Hello *ENTP Grin*  That's all it takes. Than w...   \n",
       "4  This + Lack of Balance and Hand Eye Coordination.   \n",
       "\n",
       "                                                ESFJ  \\\n",
       "0                                          'Why not?   \n",
       "1  Any other ESFJs originally mistype as an NFP? ...   \n",
       "2  Hello again. Thanks for all your help. I know ...   \n",
       "3  Of the J functions, I'd say it would be: Fi>Ti...   \n",
       "4  The ESFJs on this site are lovely. I'm general...   \n",
       "\n",
       "                                                ESFP  \\\n",
       "0            'Edit: I forgot what board this was on.   \n",
       "1  I am currently reading 'Artemis Fowl: The Eter...   \n",
       "2  Hi all, if you've got some spare time and why ...   \n",
       "3  BABYMETAL are the best band of this decade  ht...   \n",
       "4                    Banned for being a fire hazard.   \n",
       "\n",
       "                                                ESTJ  \\\n",
       "0                           this is such a catch 22    \n",
       "1  I'm here! Although, I'm quite the terrible EST...   \n",
       "2                      Yikes. I do not want power...   \n",
       "3  Thank you SO SO much. This is what I had plann...   \n",
       "4                                                 Hi   \n",
       "\n",
       "                                                ESTP  \\\n",
       "0              Splinter Cell Blacklist for Xbox 360.   \n",
       "1  ESTPs are generally well liked. If you get hat...   \n",
       "2  I often come off to people with the opposite o...   \n",
       "3                       Ask her what you are to her.   \n",
       "4                I'm a euphonium player and a writer   \n",
       "\n",
       "                                                INFJ  \\\n",
       "0        'http://www.youtube.com/watch?v=qsXHcwe3krw   \n",
       "1  http://41.media.tumblr.com/tumblr_lfouy03PMA1q...   \n",
       "2  enfp and intj moments  https://www.youtube.com...   \n",
       "3  What has been the most life-changing experienc...   \n",
       "4  http://www.youtube.com/watch?v=vXZeYwwRDw8   h...   \n",
       "\n",
       "                                                INFP  \\\n",
       "0  'I think we do agree. I personally don't consi...   \n",
       "1  Literature... I'd suggest 'Everyday Zen' by Ch...   \n",
       "2  Being emotional doesn't automatically make som...   \n",
       "3  I'm a Ch'an Buddhist, so it's a daily thing fo...   \n",
       "4  Glad to know I'm not the only one. I meditate,...   \n",
       "\n",
       "                                                INTJ  \\\n",
       "0  'Dear INTP,   I enjoyed our conversation the o...   \n",
       "1  Dear ENTJ sub,   Long time no see.  Sincerely,...   \n",
       "2  None of them. All other types hurt in deep exi...   \n",
       "3  Probably a sliding scale that depends on indiv...   \n",
       "4  Draco Malfoy also. I'd say he's either 358 or ...   \n",
       "\n",
       "                                                INTP  \\\n",
       "0  'Good one  _____   https://www.youtube.com/wat...   \n",
       "1  Of course, to which I say I know; that's my bl...   \n",
       "2  Does being absolutely positive that you and yo...   \n",
       "3                No, I didn't; thank you for a link!   \n",
       "4  So-called Ti-Si loop (and it can stem from any...   \n",
       "\n",
       "                                                ISFJ  \\\n",
       "0  'I love feeling affectionate for the one I lov...   \n",
       "1  Kind of an update on my past post above. Whate...   \n",
       "2  It feels weird being in love for the first tim...   \n",
       "3  Unsure if i completely understand the question...   \n",
       "4  Not often, but I tend to lose it more when it ...   \n",
       "\n",
       "                                                ISFP  \\\n",
       "0                        'They paint without numbers   \n",
       "1                              I'd guess at istp too   \n",
       "2  My best bud is ESFP, very funny, entertaining ...   \n",
       "3  I used to smoke weed alot, everyday from morni...   \n",
       "4  Jimi Hendrix - The Wind Cries Mary.  After all...   \n",
       "\n",
       "                                                ISTJ  \\\n",
       "0  'Newton's Universal Gravity Law. I mean seriou...   \n",
       "1  Well, if money and time was no object, I would...   \n",
       "2      http://www.oglaf.com/media/comic/failsafe.jpg   \n",
       "3  I'm still laughing! xD  http://www.youtube.com...   \n",
       "4  workaround is working for me, and I'm using FF...   \n",
       "\n",
       "                                                ISTP  \n",
       "0  'I got 593.  From what I've read about the Enn...  \n",
       "1                                       GTFO FEELER!  \n",
       "2  A lot of the stuff that you read in the INTP d...  \n",
       "3  Don't worry about it.  You are trying to make ...  \n",
       "4  My mother-in-law is an ESTJ.  She is the epito...  "
      ]
     },
     "execution_count": 31,
     "metadata": {},
     "output_type": "execute_result"
    }
   ],
   "source": [
    "allPosts=pd.read_csv('allPost.csv')\n",
    "allPosts.head()"
   ]
  },
  {
   "cell_type": "code",
   "execution_count": 32,
   "metadata": {},
   "outputs": [
    {
     "data": {
      "text/plain": [
       "ENFJ    False\n",
       "ENFP     True\n",
       "ENTJ     True\n",
       "ENTP     True\n",
       "ESFJ     True\n",
       "ESFP     True\n",
       "ESTJ     True\n",
       "ESTP     True\n",
       "INFJ    False\n",
       "INFP     True\n",
       "INTJ     True\n",
       "INTP    False\n",
       "ISFJ     True\n",
       "ISFP    False\n",
       "ISTJ     True\n",
       "ISTP     True\n",
       "dtype: bool"
      ]
     },
     "execution_count": 32,
     "metadata": {},
     "output_type": "execute_result"
    }
   ],
   "source": [
    "allPosts.isnull().any()"
   ]
  },
  {
   "cell_type": "code",
   "execution_count": 33,
   "metadata": {},
   "outputs": [
    {
     "data": {
      "text/plain": [
       "ENFJ    False\n",
       "ENFP    False\n",
       "ENTJ    False\n",
       "ENTP    False\n",
       "ESFJ    False\n",
       "ESFP    False\n",
       "ESTJ    False\n",
       "ESTP    False\n",
       "INFJ    False\n",
       "INFP    False\n",
       "INTJ    False\n",
       "INTP    False\n",
       "ISFJ    False\n",
       "ISFP    False\n",
       "ISTJ    False\n",
       "ISTP    False\n",
       "dtype: bool"
      ]
     },
     "execution_count": 33,
     "metadata": {},
     "output_type": "execute_result"
    }
   ],
   "source": [
    "allPost_withoutnull = allPosts.fillna('-') #dropna was dropping all the rows with any column as null making it to 245 rows\n",
    "allPost_withoutnull.isnull().any()"
   ]
  },
  {
   "cell_type": "code",
   "execution_count": 34,
   "metadata": {},
   "outputs": [
    {
     "data": {
      "text/plain": [
       "(1697, 16)"
      ]
     },
     "execution_count": 34,
     "metadata": {},
     "output_type": "execute_result"
    }
   ],
   "source": [
    "allPost_withoutnull.shape"
   ]
  },
  {
   "cell_type": "code",
   "execution_count": 35,
   "metadata": {},
   "outputs": [],
   "source": [
    "allPost_withoutnull.to_csv('allPost_withoutnull.csv',index=False)"
   ]
  },
  {
   "cell_type": "code",
   "execution_count": 36,
   "metadata": {},
   "outputs": [
    {
     "data": {
      "text/html": [
       "<div>\n",
       "<style scoped>\n",
       "    .dataframe tbody tr th:only-of-type {\n",
       "        vertical-align: middle;\n",
       "    }\n",
       "\n",
       "    .dataframe tbody tr th {\n",
       "        vertical-align: top;\n",
       "    }\n",
       "\n",
       "    .dataframe thead th {\n",
       "        text-align: right;\n",
       "    }\n",
       "</style>\n",
       "<table border=\"1\" class=\"dataframe\">\n",
       "  <thead>\n",
       "    <tr style=\"text-align: right;\">\n",
       "      <th></th>\n",
       "      <th>ENFJ</th>\n",
       "      <th>ENFP</th>\n",
       "      <th>ENTJ</th>\n",
       "      <th>ENTP</th>\n",
       "      <th>ESFJ</th>\n",
       "      <th>ESFP</th>\n",
       "      <th>ESTJ</th>\n",
       "      <th>ESTP</th>\n",
       "      <th>INFJ</th>\n",
       "      <th>INFP</th>\n",
       "      <th>INTJ</th>\n",
       "      <th>INTP</th>\n",
       "      <th>ISFJ</th>\n",
       "      <th>ISFP</th>\n",
       "      <th>ISTJ</th>\n",
       "      <th>ISTP</th>\n",
       "    </tr>\n",
       "  </thead>\n",
       "  <tbody>\n",
       "    <tr>\n",
       "      <td>0</td>\n",
       "      <td>'-</td>\n",
       "      <td>'He doesn't want to go on the trip without me,...</td>\n",
       "      <td>'You're fired.</td>\n",
       "      <td>'I'm finding the lack of me in these posts ver...</td>\n",
       "      <td>'Why not?</td>\n",
       "      <td>'Edit: I forgot what board this was on.</td>\n",
       "      <td>this is such a catch 22</td>\n",
       "      <td>Splinter Cell Blacklist for Xbox 360.</td>\n",
       "      <td>'-</td>\n",
       "      <td>'I think we do agree. I personally don't consi...</td>\n",
       "      <td>'Dear INTP,   I enjoyed our conversation the o...</td>\n",
       "      <td>'Good one  _____   -</td>\n",
       "      <td>'I love feeling affectionate for the one I lov...</td>\n",
       "      <td>'They paint without numbers</td>\n",
       "      <td>'Newton's Universal Gravity Law. I mean seriou...</td>\n",
       "      <td>'I got 593.  From what I've read about the Enn...</td>\n",
       "    </tr>\n",
       "    <tr>\n",
       "      <td>1</td>\n",
       "      <td>51 :o</td>\n",
       "      <td>I'm still completely in AWE and I'm AMAZED tha...</td>\n",
       "      <td>That's another silly misconception. That appro...</td>\n",
       "      <td>Sex can be boring if it's in the same position...</td>\n",
       "      <td>Any other ESFJs originally mistype as an NFP? ...</td>\n",
       "      <td>I am currently reading 'Artemis Fowl: The Eter...</td>\n",
       "      <td>I'm here! Although, I'm quite the terrible EST...</td>\n",
       "      <td>ESTPs are generally well liked. If you get hat...</td>\n",
       "      <td>http://41.media.tumblr.com/tumblr_lfouy03PMA1q...</td>\n",
       "      <td>Literature... I'd suggest 'Everyday Zen' by Ch...</td>\n",
       "      <td>Dear ENTJ sub,   Long time no see.  Sincerely,...</td>\n",
       "      <td>Of course, to which I say I know; that's my bl...</td>\n",
       "      <td>Kind of an update on my past post above. Whate...</td>\n",
       "      <td>I'd guess at istp too</td>\n",
       "      <td>Well, if money and time was no object, I would...</td>\n",
       "      <td>GTFO FEELER!</td>\n",
       "    </tr>\n",
       "    <tr>\n",
       "      <td>2</td>\n",
       "      <td>I went through a break up some months ago. We ...</td>\n",
       "      <td>Thanks, everyone. I'm struggling with being se...</td>\n",
       "      <td>But guys... he REALLY wants to go on a super-d...</td>\n",
       "      <td>Giving new meaning to 'Game' theory.</td>\n",
       "      <td>Hello again. Thanks for all your help. I know ...</td>\n",
       "      <td>Hi all, if you've got some spare time and why ...</td>\n",
       "      <td>Yikes. I do not want power...</td>\n",
       "      <td>I often come off to people with the opposite o...</td>\n",
       "      <td>enfp and intj moments  -  sportscenter not top...</td>\n",
       "      <td>Being emotional doesn't automatically make som...</td>\n",
       "      <td>None of them. All other types hurt in deep exi...</td>\n",
       "      <td>Does being absolutely positive that you and yo...</td>\n",
       "      <td>It feels weird being in love for the first tim...</td>\n",
       "      <td>My best bud is ESFP, very funny, entertaining ...</td>\n",
       "      <td>-</td>\n",
       "      <td>A lot of the stuff that you read in the INTP d...</td>\n",
       "    </tr>\n",
       "    <tr>\n",
       "      <td>3</td>\n",
       "      <td>ENFJ Puns so many puns.</td>\n",
       "      <td>My husband works an extra job each year to pay...</td>\n",
       "      <td>Never mind. Just go on permanent vacation.</td>\n",
       "      <td>Hello *ENTP Grin*  That's all it takes. Than w...</td>\n",
       "      <td>Of the J functions, I'd say it would be: Fi&gt;Ti...</td>\n",
       "      <td>BABYMETAL are the best band of this decade  -</td>\n",
       "      <td>Thank you SO SO much. This is what I had plann...</td>\n",
       "      <td>Ask her what you are to her.</td>\n",
       "      <td>What has been the most life-changing experienc...</td>\n",
       "      <td>I'm a Ch'an Buddhist, so it's a daily thing fo...</td>\n",
       "      <td>Probably a sliding scale that depends on indiv...</td>\n",
       "      <td>No, I didn't; thank you for a link!</td>\n",
       "      <td>Unsure if i completely understand the question...</td>\n",
       "      <td>I used to smoke weed alot, everyday from morni...</td>\n",
       "      <td>I'm still laughing! xD  -  -</td>\n",
       "      <td>Don't worry about it.  You are trying to make ...</td>\n",
       "    </tr>\n",
       "    <tr>\n",
       "      <td>4</td>\n",
       "      <td>Well I personally don't go that much for attra...</td>\n",
       "      <td>He said that it's not like he's asking me to d...</td>\n",
       "      <td>Two months? I wouldn't be crazy about the idea...</td>\n",
       "      <td>This + Lack of Balance and Hand Eye Coordination.</td>\n",
       "      <td>The ESFJs on this site are lovely. I'm general...</td>\n",
       "      <td>Banned for being a fire hazard.</td>\n",
       "      <td>Hi</td>\n",
       "      <td>I'm a euphonium player and a writer</td>\n",
       "      <td>-   -  On repeat for most of today.</td>\n",
       "      <td>Glad to know I'm not the only one. I meditate,...</td>\n",
       "      <td>Draco Malfoy also. I'd say he's either 358 or ...</td>\n",
       "      <td>So-called Ti-Si loop (and it can stem from any...</td>\n",
       "      <td>Not often, but I tend to lose it more when it ...</td>\n",
       "      <td>Jimi Hendrix - The Wind Cries Mary.  After all...</td>\n",
       "      <td>workaround is working for me, and I'm using FF...</td>\n",
       "      <td>My mother-in-law is an ESTJ.  She is the epito...</td>\n",
       "    </tr>\n",
       "  </tbody>\n",
       "</table>\n",
       "</div>"
      ],
      "text/plain": [
       "                                                ENFJ  \\\n",
       "0                                                 '-   \n",
       "1                                              51 :o   \n",
       "2  I went through a break up some months ago. We ...   \n",
       "3                            ENFJ Puns so many puns.   \n",
       "4  Well I personally don't go that much for attra...   \n",
       "\n",
       "                                                ENFP  \\\n",
       "0  'He doesn't want to go on the trip without me,...   \n",
       "1  I'm still completely in AWE and I'm AMAZED tha...   \n",
       "2  Thanks, everyone. I'm struggling with being se...   \n",
       "3  My husband works an extra job each year to pay...   \n",
       "4  He said that it's not like he's asking me to d...   \n",
       "\n",
       "                                                ENTJ  \\\n",
       "0                                     'You're fired.   \n",
       "1  That's another silly misconception. That appro...   \n",
       "2  But guys... he REALLY wants to go on a super-d...   \n",
       "3         Never mind. Just go on permanent vacation.   \n",
       "4  Two months? I wouldn't be crazy about the idea...   \n",
       "\n",
       "                                                ENTP  \\\n",
       "0  'I'm finding the lack of me in these posts ver...   \n",
       "1  Sex can be boring if it's in the same position...   \n",
       "2               Giving new meaning to 'Game' theory.   \n",
       "3  Hello *ENTP Grin*  That's all it takes. Than w...   \n",
       "4  This + Lack of Balance and Hand Eye Coordination.   \n",
       "\n",
       "                                                ESFJ  \\\n",
       "0                                          'Why not?   \n",
       "1  Any other ESFJs originally mistype as an NFP? ...   \n",
       "2  Hello again. Thanks for all your help. I know ...   \n",
       "3  Of the J functions, I'd say it would be: Fi>Ti...   \n",
       "4  The ESFJs on this site are lovely. I'm general...   \n",
       "\n",
       "                                                ESFP  \\\n",
       "0            'Edit: I forgot what board this was on.   \n",
       "1  I am currently reading 'Artemis Fowl: The Eter...   \n",
       "2  Hi all, if you've got some spare time and why ...   \n",
       "3      BABYMETAL are the best band of this decade  -   \n",
       "4                    Banned for being a fire hazard.   \n",
       "\n",
       "                                                ESTJ  \\\n",
       "0                           this is such a catch 22    \n",
       "1  I'm here! Although, I'm quite the terrible EST...   \n",
       "2                      Yikes. I do not want power...   \n",
       "3  Thank you SO SO much. This is what I had plann...   \n",
       "4                                                 Hi   \n",
       "\n",
       "                                                ESTP  \\\n",
       "0              Splinter Cell Blacklist for Xbox 360.   \n",
       "1  ESTPs are generally well liked. If you get hat...   \n",
       "2  I often come off to people with the opposite o...   \n",
       "3                       Ask her what you are to her.   \n",
       "4                I'm a euphonium player and a writer   \n",
       "\n",
       "                                                INFJ  \\\n",
       "0                                                 '-   \n",
       "1  http://41.media.tumblr.com/tumblr_lfouy03PMA1q...   \n",
       "2  enfp and intj moments  -  sportscenter not top...   \n",
       "3  What has been the most life-changing experienc...   \n",
       "4                -   -  On repeat for most of today.   \n",
       "\n",
       "                                                INFP  \\\n",
       "0  'I think we do agree. I personally don't consi...   \n",
       "1  Literature... I'd suggest 'Everyday Zen' by Ch...   \n",
       "2  Being emotional doesn't automatically make som...   \n",
       "3  I'm a Ch'an Buddhist, so it's a daily thing fo...   \n",
       "4  Glad to know I'm not the only one. I meditate,...   \n",
       "\n",
       "                                                INTJ  \\\n",
       "0  'Dear INTP,   I enjoyed our conversation the o...   \n",
       "1  Dear ENTJ sub,   Long time no see.  Sincerely,...   \n",
       "2  None of them. All other types hurt in deep exi...   \n",
       "3  Probably a sliding scale that depends on indiv...   \n",
       "4  Draco Malfoy also. I'd say he's either 358 or ...   \n",
       "\n",
       "                                                INTP  \\\n",
       "0                               'Good one  _____   -   \n",
       "1  Of course, to which I say I know; that's my bl...   \n",
       "2  Does being absolutely positive that you and yo...   \n",
       "3                No, I didn't; thank you for a link!   \n",
       "4  So-called Ti-Si loop (and it can stem from any...   \n",
       "\n",
       "                                                ISFJ  \\\n",
       "0  'I love feeling affectionate for the one I lov...   \n",
       "1  Kind of an update on my past post above. Whate...   \n",
       "2  It feels weird being in love for the first tim...   \n",
       "3  Unsure if i completely understand the question...   \n",
       "4  Not often, but I tend to lose it more when it ...   \n",
       "\n",
       "                                                ISFP  \\\n",
       "0                        'They paint without numbers   \n",
       "1                              I'd guess at istp too   \n",
       "2  My best bud is ESFP, very funny, entertaining ...   \n",
       "3  I used to smoke weed alot, everyday from morni...   \n",
       "4  Jimi Hendrix - The Wind Cries Mary.  After all...   \n",
       "\n",
       "                                                ISTJ  \\\n",
       "0  'Newton's Universal Gravity Law. I mean seriou...   \n",
       "1  Well, if money and time was no object, I would...   \n",
       "2                                                  -   \n",
       "3                       I'm still laughing! xD  -  -   \n",
       "4  workaround is working for me, and I'm using FF...   \n",
       "\n",
       "                                                ISTP  \n",
       "0  'I got 593.  From what I've read about the Enn...  \n",
       "1                                       GTFO FEELER!  \n",
       "2  A lot of the stuff that you read in the INTP d...  \n",
       "3  Don't worry about it.  You are trying to make ...  \n",
       "4  My mother-in-law is an ESTJ.  She is the epito...  "
      ]
     },
     "execution_count": 36,
     "metadata": {},
     "output_type": "execute_result"
    }
   ],
   "source": [
    "for j in types:\n",
    "    allPost_withoutnull[j]=allPost_withoutnull[j].str.replace('https?://(i\\.)?(www\\.)?(\\w+)(\\.\\w+)(\\/)(\\w+)(\\S+)','-',case=False)\n",
    "    #replacing the urls by '-'\n",
    "allPost_withoutnull.head() "
   ]
  },
  {
   "cell_type": "code",
   "execution_count": 37,
   "metadata": {},
   "outputs": [
    {
     "data": {
      "text/html": [
       "<div>\n",
       "<style scoped>\n",
       "    .dataframe tbody tr th:only-of-type {\n",
       "        vertical-align: middle;\n",
       "    }\n",
       "\n",
       "    .dataframe tbody tr th {\n",
       "        vertical-align: top;\n",
       "    }\n",
       "\n",
       "    .dataframe thead th {\n",
       "        text-align: right;\n",
       "    }\n",
       "</style>\n",
       "<table border=\"1\" class=\"dataframe\">\n",
       "  <thead>\n",
       "    <tr style=\"text-align: right;\">\n",
       "      <th></th>\n",
       "      <th>ENFJ</th>\n",
       "      <th>ENFP</th>\n",
       "      <th>ENTJ</th>\n",
       "      <th>ENTP</th>\n",
       "      <th>ESFJ</th>\n",
       "      <th>ESFP</th>\n",
       "      <th>ESTJ</th>\n",
       "      <th>ESTP</th>\n",
       "      <th>INFJ</th>\n",
       "      <th>INFP</th>\n",
       "      <th>INTJ</th>\n",
       "      <th>INTP</th>\n",
       "      <th>ISFJ</th>\n",
       "      <th>ISFP</th>\n",
       "      <th>ISTJ</th>\n",
       "      <th>ISTP</th>\n",
       "    </tr>\n",
       "  </thead>\n",
       "  <tbody>\n",
       "    <tr>\n",
       "      <td>0</td>\n",
       "      <td>'-</td>\n",
       "      <td>'He doesn't want to go on the trip without me,...</td>\n",
       "      <td>'You're fired.</td>\n",
       "      <td>'I'm finding the lack of me in these posts ver...</td>\n",
       "      <td>'Why not?</td>\n",
       "      <td>'Edit: I forgot what board this was on.</td>\n",
       "      <td>this is such a catch 22</td>\n",
       "      <td>Splinter Cell Blacklist for Xbox 360.</td>\n",
       "      <td>'-</td>\n",
       "      <td>'I think we do agree. I personally don't consi...</td>\n",
       "      <td>'Dear INTP,   I enjoyed our conversation the o...</td>\n",
       "      <td>'Good one  _____   -</td>\n",
       "      <td>'I love feeling affectionate for the one I lov...</td>\n",
       "      <td>'They paint without numbers</td>\n",
       "      <td>'Newton's Universal Gravity Law. I mean seriou...</td>\n",
       "      <td>'I got 593.  From what I've read about the Enn...</td>\n",
       "    </tr>\n",
       "    <tr>\n",
       "      <td>1</td>\n",
       "      <td>51 :o</td>\n",
       "      <td>I'm still completely in AWE and I'm AMAZED tha...</td>\n",
       "      <td>That's another silly misconception. That appro...</td>\n",
       "      <td>Sex can be boring if it's in the same position...</td>\n",
       "      <td>Any other ESFJs originally mistype as an NFP? ...</td>\n",
       "      <td>I am currently reading 'Artemis Fowl: The Eter...</td>\n",
       "      <td>I'm here! Although, I'm quite the terrible EST...</td>\n",
       "      <td>ESTPs are generally well liked. If you get hat...</td>\n",
       "      <td>-</td>\n",
       "      <td>Literature... I'd suggest 'Everyday Zen' by Ch...</td>\n",
       "      <td>Dear ENTJ sub,   Long time no see.  Sincerely,...</td>\n",
       "      <td>Of course, to which I say I know; that's my bl...</td>\n",
       "      <td>Kind of an update on my past post above. Whate...</td>\n",
       "      <td>I'd guess at istp too</td>\n",
       "      <td>Well, if money and time was no object, I would...</td>\n",
       "      <td>GTFO FEELER!</td>\n",
       "    </tr>\n",
       "    <tr>\n",
       "      <td>2</td>\n",
       "      <td>I went through a break up some months ago. We ...</td>\n",
       "      <td>Thanks, everyone. I'm struggling with being se...</td>\n",
       "      <td>But guys... he REALLY wants to go on a super-d...</td>\n",
       "      <td>Giving new meaning to 'Game' theory.</td>\n",
       "      <td>Hello again. Thanks for all your help. I know ...</td>\n",
       "      <td>Hi all, if you've got some spare time and why ...</td>\n",
       "      <td>Yikes. I do not want power...</td>\n",
       "      <td>I often come off to people with the opposite o...</td>\n",
       "      <td>enfp and intj moments  -  sportscenter not top...</td>\n",
       "      <td>Being emotional doesn't automatically make som...</td>\n",
       "      <td>None of them. All other types hurt in deep exi...</td>\n",
       "      <td>Does being absolutely positive that you and yo...</td>\n",
       "      <td>It feels weird being in love for the first tim...</td>\n",
       "      <td>My best bud is ESFP, very funny, entertaining ...</td>\n",
       "      <td>-</td>\n",
       "      <td>A lot of the stuff that you read in the INTP d...</td>\n",
       "    </tr>\n",
       "    <tr>\n",
       "      <td>3</td>\n",
       "      <td>ENFJ Puns so many puns.</td>\n",
       "      <td>My husband works an extra job each year to pay...</td>\n",
       "      <td>Never mind. Just go on permanent vacation.</td>\n",
       "      <td>Hello *ENTP Grin*  That's all it takes. Than w...</td>\n",
       "      <td>Of the J functions, I'd say it would be: Fi&gt;Ti...</td>\n",
       "      <td>BABYMETAL are the best band of this decade  -</td>\n",
       "      <td>Thank you SO SO much. This is what I had plann...</td>\n",
       "      <td>Ask her what you are to her.</td>\n",
       "      <td>What has been the most life-changing experienc...</td>\n",
       "      <td>I'm a Ch'an Buddhist, so it's a daily thing fo...</td>\n",
       "      <td>Probably a sliding scale that depends on indiv...</td>\n",
       "      <td>No, I didn't; thank you for a link!</td>\n",
       "      <td>Unsure if i completely understand the question...</td>\n",
       "      <td>I used to smoke weed alot, everyday from morni...</td>\n",
       "      <td>I'm still laughing! xD  -  -</td>\n",
       "      <td>Don't worry about it.  You are trying to make ...</td>\n",
       "    </tr>\n",
       "    <tr>\n",
       "      <td>4</td>\n",
       "      <td>Well I personally don't go that much for attra...</td>\n",
       "      <td>He said that it's not like he's asking me to d...</td>\n",
       "      <td>Two months? I wouldn't be crazy about the idea...</td>\n",
       "      <td>This + Lack of Balance and Hand Eye Coordination.</td>\n",
       "      <td>The ESFJs on this site are lovely. I'm general...</td>\n",
       "      <td>Banned for being a fire hazard.</td>\n",
       "      <td>Hi</td>\n",
       "      <td>I'm a euphonium player and a writer</td>\n",
       "      <td>-   -  On repeat for most of today.</td>\n",
       "      <td>Glad to know I'm not the only one. I meditate,...</td>\n",
       "      <td>Draco Malfoy also. I'd say he's either 358 or ...</td>\n",
       "      <td>So-called Ti-Si loop (and it can stem from any...</td>\n",
       "      <td>Not often, but I tend to lose it more when it ...</td>\n",
       "      <td>Jimi Hendrix - The Wind Cries Mary.  After all...</td>\n",
       "      <td>workaround is working for me, and I'm using FF...</td>\n",
       "      <td>My mother-in-law is an ESTJ.  She is the epito...</td>\n",
       "    </tr>\n",
       "  </tbody>\n",
       "</table>\n",
       "</div>"
      ],
      "text/plain": [
       "                                                ENFJ  \\\n",
       "0                                                 '-   \n",
       "1                                              51 :o   \n",
       "2  I went through a break up some months ago. We ...   \n",
       "3                            ENFJ Puns so many puns.   \n",
       "4  Well I personally don't go that much for attra...   \n",
       "\n",
       "                                                ENFP  \\\n",
       "0  'He doesn't want to go on the trip without me,...   \n",
       "1  I'm still completely in AWE and I'm AMAZED tha...   \n",
       "2  Thanks, everyone. I'm struggling with being se...   \n",
       "3  My husband works an extra job each year to pay...   \n",
       "4  He said that it's not like he's asking me to d...   \n",
       "\n",
       "                                                ENTJ  \\\n",
       "0                                     'You're fired.   \n",
       "1  That's another silly misconception. That appro...   \n",
       "2  But guys... he REALLY wants to go on a super-d...   \n",
       "3         Never mind. Just go on permanent vacation.   \n",
       "4  Two months? I wouldn't be crazy about the idea...   \n",
       "\n",
       "                                                ENTP  \\\n",
       "0  'I'm finding the lack of me in these posts ver...   \n",
       "1  Sex can be boring if it's in the same position...   \n",
       "2               Giving new meaning to 'Game' theory.   \n",
       "3  Hello *ENTP Grin*  That's all it takes. Than w...   \n",
       "4  This + Lack of Balance and Hand Eye Coordination.   \n",
       "\n",
       "                                                ESFJ  \\\n",
       "0                                          'Why not?   \n",
       "1  Any other ESFJs originally mistype as an NFP? ...   \n",
       "2  Hello again. Thanks for all your help. I know ...   \n",
       "3  Of the J functions, I'd say it would be: Fi>Ti...   \n",
       "4  The ESFJs on this site are lovely. I'm general...   \n",
       "\n",
       "                                                ESFP  \\\n",
       "0            'Edit: I forgot what board this was on.   \n",
       "1  I am currently reading 'Artemis Fowl: The Eter...   \n",
       "2  Hi all, if you've got some spare time and why ...   \n",
       "3      BABYMETAL are the best band of this decade  -   \n",
       "4                    Banned for being a fire hazard.   \n",
       "\n",
       "                                                ESTJ  \\\n",
       "0                           this is such a catch 22    \n",
       "1  I'm here! Although, I'm quite the terrible EST...   \n",
       "2                      Yikes. I do not want power...   \n",
       "3  Thank you SO SO much. This is what I had plann...   \n",
       "4                                                 Hi   \n",
       "\n",
       "                                                ESTP  \\\n",
       "0              Splinter Cell Blacklist for Xbox 360.   \n",
       "1  ESTPs are generally well liked. If you get hat...   \n",
       "2  I often come off to people with the opposite o...   \n",
       "3                       Ask her what you are to her.   \n",
       "4                I'm a euphonium player and a writer   \n",
       "\n",
       "                                                INFJ  \\\n",
       "0                                                 '-   \n",
       "1                                                  -   \n",
       "2  enfp and intj moments  -  sportscenter not top...   \n",
       "3  What has been the most life-changing experienc...   \n",
       "4                -   -  On repeat for most of today.   \n",
       "\n",
       "                                                INFP  \\\n",
       "0  'I think we do agree. I personally don't consi...   \n",
       "1  Literature... I'd suggest 'Everyday Zen' by Ch...   \n",
       "2  Being emotional doesn't automatically make som...   \n",
       "3  I'm a Ch'an Buddhist, so it's a daily thing fo...   \n",
       "4  Glad to know I'm not the only one. I meditate,...   \n",
       "\n",
       "                                                INTJ  \\\n",
       "0  'Dear INTP,   I enjoyed our conversation the o...   \n",
       "1  Dear ENTJ sub,   Long time no see.  Sincerely,...   \n",
       "2  None of them. All other types hurt in deep exi...   \n",
       "3  Probably a sliding scale that depends on indiv...   \n",
       "4  Draco Malfoy also. I'd say he's either 358 or ...   \n",
       "\n",
       "                                                INTP  \\\n",
       "0                               'Good one  _____   -   \n",
       "1  Of course, to which I say I know; that's my bl...   \n",
       "2  Does being absolutely positive that you and yo...   \n",
       "3                No, I didn't; thank you for a link!   \n",
       "4  So-called Ti-Si loop (and it can stem from any...   \n",
       "\n",
       "                                                ISFJ  \\\n",
       "0  'I love feeling affectionate for the one I lov...   \n",
       "1  Kind of an update on my past post above. Whate...   \n",
       "2  It feels weird being in love for the first tim...   \n",
       "3  Unsure if i completely understand the question...   \n",
       "4  Not often, but I tend to lose it more when it ...   \n",
       "\n",
       "                                                ISFP  \\\n",
       "0                        'They paint without numbers   \n",
       "1                              I'd guess at istp too   \n",
       "2  My best bud is ESFP, very funny, entertaining ...   \n",
       "3  I used to smoke weed alot, everyday from morni...   \n",
       "4  Jimi Hendrix - The Wind Cries Mary.  After all...   \n",
       "\n",
       "                                                ISTJ  \\\n",
       "0  'Newton's Universal Gravity Law. I mean seriou...   \n",
       "1  Well, if money and time was no object, I would...   \n",
       "2                                                  -   \n",
       "3                       I'm still laughing! xD  -  -   \n",
       "4  workaround is working for me, and I'm using FF...   \n",
       "\n",
       "                                                ISTP  \n",
       "0  'I got 593.  From what I've read about the Enn...  \n",
       "1                                       GTFO FEELER!  \n",
       "2  A lot of the stuff that you read in the INTP d...  \n",
       "3  Don't worry about it.  You are trying to make ...  \n",
       "4  My mother-in-law is an ESTJ.  She is the epito...  "
      ]
     },
     "execution_count": 37,
     "metadata": {},
     "output_type": "execute_result"
    }
   ],
   "source": [
    "for j in types:\n",
    "   allPost_withoutnull[j]=allPost_withoutnull[j].str.replace('https?://(\\w+\\.)?(\\S+.)','-',case=False)\n",
    "allPost_withoutnull.head()  "
   ]
  },
  {
   "cell_type": "code",
   "execution_count": 38,
   "metadata": {},
   "outputs": [],
   "source": [
    "Filtereddata = pd.DataFrame(allPost_withoutnull)\n",
    "Filtereddata.to_csv('FinalBook2filtered.csv', index=False)"
   ]
  },
  {
   "cell_type": "code",
   "execution_count": 39,
   "metadata": {},
   "outputs": [
    {
     "data": {
      "text/html": [
       "<div>\n",
       "<style scoped>\n",
       "    .dataframe tbody tr th:only-of-type {\n",
       "        vertical-align: middle;\n",
       "    }\n",
       "\n",
       "    .dataframe tbody tr th {\n",
       "        vertical-align: top;\n",
       "    }\n",
       "\n",
       "    .dataframe thead th {\n",
       "        text-align: right;\n",
       "    }\n",
       "</style>\n",
       "<table border=\"1\" class=\"dataframe\">\n",
       "  <thead>\n",
       "    <tr style=\"text-align: right;\">\n",
       "      <th></th>\n",
       "      <th>ENFJ</th>\n",
       "      <th>ENFP</th>\n",
       "      <th>ENTJ</th>\n",
       "      <th>ENTP</th>\n",
       "      <th>ESFJ</th>\n",
       "      <th>ESFP</th>\n",
       "      <th>ESTJ</th>\n",
       "      <th>ESTP</th>\n",
       "      <th>INFJ</th>\n",
       "      <th>INFP</th>\n",
       "      <th>INTJ</th>\n",
       "      <th>INTP</th>\n",
       "      <th>ISFJ</th>\n",
       "      <th>ISFP</th>\n",
       "      <th>ISTJ</th>\n",
       "      <th>ISTP</th>\n",
       "    </tr>\n",
       "  </thead>\n",
       "  <tbody>\n",
       "    <tr>\n",
       "      <td>0</td>\n",
       "      <td>'-</td>\n",
       "      <td>'He doesn't want to go on the trip without me,...</td>\n",
       "      <td>'You're fired.</td>\n",
       "      <td>'I'm finding the lack of me in these posts ver...</td>\n",
       "      <td>'Why not?</td>\n",
       "      <td>'Edit: I forgot what board this was on.</td>\n",
       "      <td>this is such a catch 22</td>\n",
       "      <td>Splinter Cell Blacklist for Xbox 360.</td>\n",
       "      <td>'-</td>\n",
       "      <td>'I think we do agree. I personally don't consi...</td>\n",
       "      <td>'Dear INTP,   I enjoyed our conversation the o...</td>\n",
       "      <td>'Good one  _____   -</td>\n",
       "      <td>'I love feeling affectionate for the one I lov...</td>\n",
       "      <td>'They paint without numbers</td>\n",
       "      <td>'Newton's Universal Gravity Law. I mean seriou...</td>\n",
       "      <td>'I got 593.  From what I've read about the Enn...</td>\n",
       "    </tr>\n",
       "    <tr>\n",
       "      <td>1</td>\n",
       "      <td>51 :o</td>\n",
       "      <td>I'm still completely in AWE and I'm AMAZED tha...</td>\n",
       "      <td>That's another silly misconception. That appro...</td>\n",
       "      <td>Sex can be boring if it's in the same position...</td>\n",
       "      <td>Any other ESFJs originally mistype as an NFP? ...</td>\n",
       "      <td>I am currently reading 'Artemis Fowl: The Eter...</td>\n",
       "      <td>I'm here! Although, I'm quite the terrible EST...</td>\n",
       "      <td>ESTPs are generally well liked. If you get hat...</td>\n",
       "      <td>-</td>\n",
       "      <td>Literature... I'd suggest 'Everyday Zen' by Ch...</td>\n",
       "      <td>Dear ENTJ sub,   Long time no see.  Sincerely,...</td>\n",
       "      <td>Of course, to which I say I know; that's my bl...</td>\n",
       "      <td>Kind of an update on my past post above. Whate...</td>\n",
       "      <td>I'd guess at istp too</td>\n",
       "      <td>Well, if money and time was no object, I would...</td>\n",
       "      <td>GTFO FEELER!</td>\n",
       "    </tr>\n",
       "    <tr>\n",
       "      <td>2</td>\n",
       "      <td>I went through a break up some months ago. We ...</td>\n",
       "      <td>Thanks, everyone. I'm struggling with being se...</td>\n",
       "      <td>But guys... he REALLY wants to go on a super-d...</td>\n",
       "      <td>Giving new meaning to 'Game' theory.</td>\n",
       "      <td>Hello again. Thanks for all your help. I know ...</td>\n",
       "      <td>Hi all, if you've got some spare time and why ...</td>\n",
       "      <td>Yikes. I do not want power...</td>\n",
       "      <td>I often come off to people with the opposite o...</td>\n",
       "      <td>enfp and intj moments  -  sportscenter not top...</td>\n",
       "      <td>Being emotional doesn't automatically make som...</td>\n",
       "      <td>None of them. All other types hurt in deep exi...</td>\n",
       "      <td>Does being absolutely positive that you and yo...</td>\n",
       "      <td>It feels weird being in love for the first tim...</td>\n",
       "      <td>My best bud is ESFP, very funny, entertaining ...</td>\n",
       "      <td>-</td>\n",
       "      <td>A lot of the stuff that you read in the INTP d...</td>\n",
       "    </tr>\n",
       "    <tr>\n",
       "      <td>3</td>\n",
       "      <td>ENFJ Puns so many puns.</td>\n",
       "      <td>My husband works an extra job each year to pay...</td>\n",
       "      <td>Never mind. Just go on permanent vacation.</td>\n",
       "      <td>Hello *ENTP Grin*  That's all it takes. Than w...</td>\n",
       "      <td>Of the J functions, I'd say it would be: Fi&gt;Ti...</td>\n",
       "      <td>BABYMETAL are the best band of this decade  -</td>\n",
       "      <td>Thank you SO SO much. This is what I had plann...</td>\n",
       "      <td>Ask her what you are to her.</td>\n",
       "      <td>What has been the most life-changing experienc...</td>\n",
       "      <td>I'm a Ch'an Buddhist, so it's a daily thing fo...</td>\n",
       "      <td>Probably a sliding scale that depends on indiv...</td>\n",
       "      <td>No, I didn't; thank you for a link!</td>\n",
       "      <td>Unsure if i completely understand the question...</td>\n",
       "      <td>I used to smoke weed alot, everyday from morni...</td>\n",
       "      <td>I'm still laughing! xD  -  -</td>\n",
       "      <td>Don't worry about it.  You are trying to make ...</td>\n",
       "    </tr>\n",
       "    <tr>\n",
       "      <td>4</td>\n",
       "      <td>Well I personally don't go that much for attra...</td>\n",
       "      <td>He said that it's not like he's asking me to d...</td>\n",
       "      <td>Two months? I wouldn't be crazy about the idea...</td>\n",
       "      <td>This + Lack of Balance and Hand Eye Coordination.</td>\n",
       "      <td>The ESFJs on this site are lovely. I'm general...</td>\n",
       "      <td>Banned for being a fire hazard.</td>\n",
       "      <td>Hi</td>\n",
       "      <td>I'm a euphonium player and a writer</td>\n",
       "      <td>-   -  On repeat for most of today.</td>\n",
       "      <td>Glad to know I'm not the only one. I meditate,...</td>\n",
       "      <td>Draco Malfoy also. I'd say he's either 358 or ...</td>\n",
       "      <td>So-called Ti-Si loop (and it can stem from any...</td>\n",
       "      <td>Not often, but I tend to lose it more when it ...</td>\n",
       "      <td>Jimi Hendrix - The Wind Cries Mary.  After all...</td>\n",
       "      <td>workaround is working for me, and I'm using FF...</td>\n",
       "      <td>My mother-in-law is an ESTJ.  She is the epito...</td>\n",
       "    </tr>\n",
       "  </tbody>\n",
       "</table>\n",
       "</div>"
      ],
      "text/plain": [
       "                                                ENFJ  \\\n",
       "0                                                 '-   \n",
       "1                                              51 :o   \n",
       "2  I went through a break up some months ago. We ...   \n",
       "3                            ENFJ Puns so many puns.   \n",
       "4  Well I personally don't go that much for attra...   \n",
       "\n",
       "                                                ENFP  \\\n",
       "0  'He doesn't want to go on the trip without me,...   \n",
       "1  I'm still completely in AWE and I'm AMAZED tha...   \n",
       "2  Thanks, everyone. I'm struggling with being se...   \n",
       "3  My husband works an extra job each year to pay...   \n",
       "4  He said that it's not like he's asking me to d...   \n",
       "\n",
       "                                                ENTJ  \\\n",
       "0                                     'You're fired.   \n",
       "1  That's another silly misconception. That appro...   \n",
       "2  But guys... he REALLY wants to go on a super-d...   \n",
       "3         Never mind. Just go on permanent vacation.   \n",
       "4  Two months? I wouldn't be crazy about the idea...   \n",
       "\n",
       "                                                ENTP  \\\n",
       "0  'I'm finding the lack of me in these posts ver...   \n",
       "1  Sex can be boring if it's in the same position...   \n",
       "2               Giving new meaning to 'Game' theory.   \n",
       "3  Hello *ENTP Grin*  That's all it takes. Than w...   \n",
       "4  This + Lack of Balance and Hand Eye Coordination.   \n",
       "\n",
       "                                                ESFJ  \\\n",
       "0                                          'Why not?   \n",
       "1  Any other ESFJs originally mistype as an NFP? ...   \n",
       "2  Hello again. Thanks for all your help. I know ...   \n",
       "3  Of the J functions, I'd say it would be: Fi>Ti...   \n",
       "4  The ESFJs on this site are lovely. I'm general...   \n",
       "\n",
       "                                                ESFP  \\\n",
       "0            'Edit: I forgot what board this was on.   \n",
       "1  I am currently reading 'Artemis Fowl: The Eter...   \n",
       "2  Hi all, if you've got some spare time and why ...   \n",
       "3      BABYMETAL are the best band of this decade  -   \n",
       "4                    Banned for being a fire hazard.   \n",
       "\n",
       "                                                ESTJ  \\\n",
       "0                           this is such a catch 22    \n",
       "1  I'm here! Although, I'm quite the terrible EST...   \n",
       "2                      Yikes. I do not want power...   \n",
       "3  Thank you SO SO much. This is what I had plann...   \n",
       "4                                                 Hi   \n",
       "\n",
       "                                                ESTP  \\\n",
       "0              Splinter Cell Blacklist for Xbox 360.   \n",
       "1  ESTPs are generally well liked. If you get hat...   \n",
       "2  I often come off to people with the opposite o...   \n",
       "3                       Ask her what you are to her.   \n",
       "4                I'm a euphonium player and a writer   \n",
       "\n",
       "                                                INFJ  \\\n",
       "0                                                 '-   \n",
       "1                                                  -   \n",
       "2  enfp and intj moments  -  sportscenter not top...   \n",
       "3  What has been the most life-changing experienc...   \n",
       "4                -   -  On repeat for most of today.   \n",
       "\n",
       "                                                INFP  \\\n",
       "0  'I think we do agree. I personally don't consi...   \n",
       "1  Literature... I'd suggest 'Everyday Zen' by Ch...   \n",
       "2  Being emotional doesn't automatically make som...   \n",
       "3  I'm a Ch'an Buddhist, so it's a daily thing fo...   \n",
       "4  Glad to know I'm not the only one. I meditate,...   \n",
       "\n",
       "                                                INTJ  \\\n",
       "0  'Dear INTP,   I enjoyed our conversation the o...   \n",
       "1  Dear ENTJ sub,   Long time no see.  Sincerely,...   \n",
       "2  None of them. All other types hurt in deep exi...   \n",
       "3  Probably a sliding scale that depends on indiv...   \n",
       "4  Draco Malfoy also. I'd say he's either 358 or ...   \n",
       "\n",
       "                                                INTP  \\\n",
       "0                               'Good one  _____   -   \n",
       "1  Of course, to which I say I know; that's my bl...   \n",
       "2  Does being absolutely positive that you and yo...   \n",
       "3                No, I didn't; thank you for a link!   \n",
       "4  So-called Ti-Si loop (and it can stem from any...   \n",
       "\n",
       "                                                ISFJ  \\\n",
       "0  'I love feeling affectionate for the one I lov...   \n",
       "1  Kind of an update on my past post above. Whate...   \n",
       "2  It feels weird being in love for the first tim...   \n",
       "3  Unsure if i completely understand the question...   \n",
       "4  Not often, but I tend to lose it more when it ...   \n",
       "\n",
       "                                                ISFP  \\\n",
       "0                        'They paint without numbers   \n",
       "1                              I'd guess at istp too   \n",
       "2  My best bud is ESFP, very funny, entertaining ...   \n",
       "3  I used to smoke weed alot, everyday from morni...   \n",
       "4  Jimi Hendrix - The Wind Cries Mary.  After all...   \n",
       "\n",
       "                                                ISTJ  \\\n",
       "0  'Newton's Universal Gravity Law. I mean seriou...   \n",
       "1  Well, if money and time was no object, I would...   \n",
       "2                                                  -   \n",
       "3                       I'm still laughing! xD  -  -   \n",
       "4  workaround is working for me, and I'm using FF...   \n",
       "\n",
       "                                                ISTP  \n",
       "0  'I got 593.  From what I've read about the Enn...  \n",
       "1                                       GTFO FEELER!  \n",
       "2  A lot of the stuff that you read in the INTP d...  \n",
       "3  Don't worry about it.  You are trying to make ...  \n",
       "4  My mother-in-law is an ESTJ.  She is the epito...  "
      ]
     },
     "execution_count": 39,
     "metadata": {},
     "output_type": "execute_result"
    }
   ],
   "source": [
    "newdataset=pd.read_csv('FinalBook2filtered.csv')\n",
    "newdataset.head()"
   ]
  },
  {
   "cell_type": "code",
   "execution_count": 40,
   "metadata": {},
   "outputs": [
    {
     "data": {
      "text/plain": [
       "ENFJ    False\n",
       "ENFP    False\n",
       "ENTJ    False\n",
       "ENTP    False\n",
       "ESFJ    False\n",
       "ESFP    False\n",
       "ESTJ    False\n",
       "ESTP    False\n",
       "INFJ    False\n",
       "INFP    False\n",
       "INTJ    False\n",
       "INTP    False\n",
       "ISFJ    False\n",
       "ISFP    False\n",
       "ISTJ    False\n",
       "ISTP    False\n",
       "dtype: bool"
      ]
     },
     "execution_count": 40,
     "metadata": {},
     "output_type": "execute_result"
    }
   ],
   "source": [
    "newdataset.isnull().any()"
   ]
  },
  {
   "cell_type": "code",
   "execution_count": 41,
   "metadata": {},
   "outputs": [
    {
     "data": {
      "text/plain": [
       "(1697, 16)"
      ]
     },
     "execution_count": 41,
     "metadata": {},
     "output_type": "execute_result"
    }
   ],
   "source": [
    "newdataset.shape"
   ]
  },
  {
   "cell_type": "code",
   "execution_count": 46,
   "metadata": {},
   "outputs": [],
   "source": [
    "useless_words = nltk.corpus.stopwords.words(\"english\") + list(string.punctuation)\n",
    "def build_bag_of_words_features_filtered(words):\n",
    "    words = nltk.word_tokenize(words)\n",
    "    return {\n",
    "        word:1 for word in words \\\n",
    "        if not word in useless_words}"
   ]
  },
  {
   "cell_type": "code",
   "execution_count": 47,
   "metadata": {},
   "outputs": [
    {
     "data": {
      "text/plain": [
       "{'Dear': 1,\n",
       " 'ENTJ': 1,\n",
       " 'sub': 1,\n",
       " 'Long': 1,\n",
       " 'time': 1,\n",
       " 'see': 1,\n",
       " 'Sincerely': 1,\n",
       " 'Alpha': 1}"
      ]
     },
     "execution_count": 47,
     "metadata": {},
     "output_type": "execute_result"
    }
   ],
   "source": [
    "build_bag_of_words_features_filtered(newdataset['INTJ'].iloc[1])"
   ]
  },
  {
   "cell_type": "code",
   "execution_count": 48,
   "metadata": {},
   "outputs": [],
   "source": [
    "features=[]\n",
    "for j in types:\n",
    "    temp1 = newdataset[j]\n",
    "    temp1 = temp1.dropna() #not all the personality types have same number of files\n",
    "    features += [[(build_bag_of_words_features_filtered(i), j) \\\n",
    "    for i in temp1]]"
   ]
  },
  {
   "cell_type": "code",
   "execution_count": 49,
   "metadata": {},
   "outputs": [],
   "source": [
    "#80%training,20%test\n",
    "split=[]\n",
    "for i in range(16):\n",
    "    split += [len(features[i]) * 0.8]\n",
    "split = np.array(split,dtype = int)"
   ]
  },
  {
   "cell_type": "code",
   "execution_count": 50,
   "metadata": {},
   "outputs": [
    {
     "data": {
      "text/plain": [
       "array([1357, 1357, 1357, 1357, 1357, 1357, 1357, 1357, 1357, 1357, 1357,\n",
       "       1357, 1357, 1357, 1357, 1357])"
      ]
     },
     "execution_count": 50,
     "metadata": {},
     "output_type": "execute_result"
    }
   ],
   "source": [
    "split"
   ]
  },
  {
   "cell_type": "code",
   "execution_count": 51,
   "metadata": {},
   "outputs": [],
   "source": [
    "#data for training\n",
    "train=[]\n",
    "for i in range(16):\n",
    "    train += features[i][:split[i]]"
   ]
  },
  {
   "cell_type": "code",
   "execution_count": 52,
   "metadata": {},
   "outputs": [],
   "source": [
    "#training the model\n",
    "sentiment_classifier = NaiveBayesClassifier.train(train)"
   ]
  },
  {
   "cell_type": "code",
   "execution_count": 53,
   "metadata": {},
   "outputs": [
    {
     "data": {
      "text/plain": [
       "58.354826823876195"
      ]
     },
     "execution_count": 53,
     "metadata": {},
     "output_type": "execute_result"
    }
   ],
   "source": [
    "#testing model for accuracy\n",
    "nltk.classify.util.accuracy(sentiment_classifier, train)*100"
   ]
  },
  {
   "cell_type": "code",
   "execution_count": 54,
   "metadata": {},
   "outputs": [],
   "source": [
    "#creating test data\n",
    "test=[]\n",
    "for i in range(16):\n",
    "    test += features[i][split[i]:]"
   ]
  },
  {
   "cell_type": "code",
   "execution_count": 55,
   "metadata": {},
   "outputs": [
    {
     "data": {
      "text/plain": [
       "7.9963235294117645"
      ]
     },
     "execution_count": 55,
     "metadata": {},
     "output_type": "execute_result"
    }
   ],
   "source": [
    "#testing the model on test dataset\n",
    "nltk.classify.util.accuracy(sentiment_classifier, test)*100"
   ]
  },
  {
   "cell_type": "markdown",
   "metadata": {},
   "source": [
    "# Our model accuracy is approx 8% which is bad."
   ]
  },
  {
   "cell_type": "markdown",
   "metadata": {},
   "source": [
    "Hence, instead of selecting all 16 types of personalities as a unique feature I explored the dataset further and decided to simplify it.\n",
    "\n",
    "The Myers Briggs Type Indicator (or MBTI for short) is a personality type system that divides everyone into 16 distinct personality types across 4 axis:\n",
    "\n",
    "    Introversion (I) – Extroversion (E)\n",
    "    Intuition (N) – Sensing (S)\n",
    "    Thinking (T) – Feeling (F)\n",
    "    Judging (J) – Perceiving (P)\n",
    "\n",
    "    We will use this and create 4 classifyers to classify the person\n"
   ]
  },
  {
   "cell_type": "code",
   "execution_count": 56,
   "metadata": {},
   "outputs": [
    {
     "data": {
      "text/html": [
       "<div>\n",
       "<style scoped>\n",
       "    .dataframe tbody tr th:only-of-type {\n",
       "        vertical-align: middle;\n",
       "    }\n",
       "\n",
       "    .dataframe tbody tr th {\n",
       "        vertical-align: top;\n",
       "    }\n",
       "\n",
       "    .dataframe thead th {\n",
       "        text-align: right;\n",
       "    }\n",
       "</style>\n",
       "<table border=\"1\" class=\"dataframe\">\n",
       "  <thead>\n",
       "    <tr style=\"text-align: right;\">\n",
       "      <th></th>\n",
       "      <th>ENFJ</th>\n",
       "      <th>ENFP</th>\n",
       "      <th>ENTJ</th>\n",
       "      <th>ENTP</th>\n",
       "      <th>ESFJ</th>\n",
       "      <th>ESFP</th>\n",
       "      <th>ESTJ</th>\n",
       "      <th>ESTP</th>\n",
       "      <th>INFJ</th>\n",
       "      <th>INFP</th>\n",
       "      <th>INTJ</th>\n",
       "      <th>INTP</th>\n",
       "      <th>ISFJ</th>\n",
       "      <th>ISFP</th>\n",
       "      <th>ISTJ</th>\n",
       "      <th>ISTP</th>\n",
       "    </tr>\n",
       "  </thead>\n",
       "  <tbody>\n",
       "    <tr>\n",
       "      <td>0</td>\n",
       "      <td>'-</td>\n",
       "      <td>'He doesn't want to go on the trip without me,...</td>\n",
       "      <td>'You're fired.</td>\n",
       "      <td>'I'm finding the lack of me in these posts ver...</td>\n",
       "      <td>'Why not?</td>\n",
       "      <td>'Edit: I forgot what board this was on.</td>\n",
       "      <td>this is such a catch 22</td>\n",
       "      <td>Splinter Cell Blacklist for Xbox 360.</td>\n",
       "      <td>'-</td>\n",
       "      <td>'I think we do agree. I personally don't consi...</td>\n",
       "      <td>'Dear INTP,   I enjoyed our conversation the o...</td>\n",
       "      <td>'Good one  _____   -</td>\n",
       "      <td>'I love feeling affectionate for the one I lov...</td>\n",
       "      <td>'They paint without numbers</td>\n",
       "      <td>'Newton's Universal Gravity Law. I mean seriou...</td>\n",
       "      <td>'I got 593.  From what I've read about the Enn...</td>\n",
       "    </tr>\n",
       "    <tr>\n",
       "      <td>1</td>\n",
       "      <td>51 :o</td>\n",
       "      <td>I'm still completely in AWE and I'm AMAZED tha...</td>\n",
       "      <td>That's another silly misconception. That appro...</td>\n",
       "      <td>Sex can be boring if it's in the same position...</td>\n",
       "      <td>Any other ESFJs originally mistype as an NFP? ...</td>\n",
       "      <td>I am currently reading 'Artemis Fowl: The Eter...</td>\n",
       "      <td>I'm here! Although, I'm quite the terrible EST...</td>\n",
       "      <td>ESTPs are generally well liked. If you get hat...</td>\n",
       "      <td>-</td>\n",
       "      <td>Literature... I'd suggest 'Everyday Zen' by Ch...</td>\n",
       "      <td>Dear ENTJ sub,   Long time no see.  Sincerely,...</td>\n",
       "      <td>Of course, to which I say I know; that's my bl...</td>\n",
       "      <td>Kind of an update on my past post above. Whate...</td>\n",
       "      <td>I'd guess at istp too</td>\n",
       "      <td>Well, if money and time was no object, I would...</td>\n",
       "      <td>GTFO FEELER!</td>\n",
       "    </tr>\n",
       "    <tr>\n",
       "      <td>2</td>\n",
       "      <td>I went through a break up some months ago. We ...</td>\n",
       "      <td>Thanks, everyone. I'm struggling with being se...</td>\n",
       "      <td>But guys... he REALLY wants to go on a super-d...</td>\n",
       "      <td>Giving new meaning to 'Game' theory.</td>\n",
       "      <td>Hello again. Thanks for all your help. I know ...</td>\n",
       "      <td>Hi all, if you've got some spare time and why ...</td>\n",
       "      <td>Yikes. I do not want power...</td>\n",
       "      <td>I often come off to people with the opposite o...</td>\n",
       "      <td>enfp and intj moments  -  sportscenter not top...</td>\n",
       "      <td>Being emotional doesn't automatically make som...</td>\n",
       "      <td>None of them. All other types hurt in deep exi...</td>\n",
       "      <td>Does being absolutely positive that you and yo...</td>\n",
       "      <td>It feels weird being in love for the first tim...</td>\n",
       "      <td>My best bud is ESFP, very funny, entertaining ...</td>\n",
       "      <td>-</td>\n",
       "      <td>A lot of the stuff that you read in the INTP d...</td>\n",
       "    </tr>\n",
       "    <tr>\n",
       "      <td>3</td>\n",
       "      <td>ENFJ Puns so many puns.</td>\n",
       "      <td>My husband works an extra job each year to pay...</td>\n",
       "      <td>Never mind. Just go on permanent vacation.</td>\n",
       "      <td>Hello *ENTP Grin*  That's all it takes. Than w...</td>\n",
       "      <td>Of the J functions, I'd say it would be: Fi&gt;Ti...</td>\n",
       "      <td>BABYMETAL are the best band of this decade  -</td>\n",
       "      <td>Thank you SO SO much. This is what I had plann...</td>\n",
       "      <td>Ask her what you are to her.</td>\n",
       "      <td>What has been the most life-changing experienc...</td>\n",
       "      <td>I'm a Ch'an Buddhist, so it's a daily thing fo...</td>\n",
       "      <td>Probably a sliding scale that depends on indiv...</td>\n",
       "      <td>No, I didn't; thank you for a link!</td>\n",
       "      <td>Unsure if i completely understand the question...</td>\n",
       "      <td>I used to smoke weed alot, everyday from morni...</td>\n",
       "      <td>I'm still laughing! xD  -  -</td>\n",
       "      <td>Don't worry about it.  You are trying to make ...</td>\n",
       "    </tr>\n",
       "    <tr>\n",
       "      <td>4</td>\n",
       "      <td>Well I personally don't go that much for attra...</td>\n",
       "      <td>He said that it's not like he's asking me to d...</td>\n",
       "      <td>Two months? I wouldn't be crazy about the idea...</td>\n",
       "      <td>This + Lack of Balance and Hand Eye Coordination.</td>\n",
       "      <td>The ESFJs on this site are lovely. I'm general...</td>\n",
       "      <td>Banned for being a fire hazard.</td>\n",
       "      <td>Hi</td>\n",
       "      <td>I'm a euphonium player and a writer</td>\n",
       "      <td>-   -  On repeat for most of today.</td>\n",
       "      <td>Glad to know I'm not the only one. I meditate,...</td>\n",
       "      <td>Draco Malfoy also. I'd say he's either 358 or ...</td>\n",
       "      <td>So-called Ti-Si loop (and it can stem from any...</td>\n",
       "      <td>Not often, but I tend to lose it more when it ...</td>\n",
       "      <td>Jimi Hendrix - The Wind Cries Mary.  After all...</td>\n",
       "      <td>workaround is working for me, and I'm using FF...</td>\n",
       "      <td>My mother-in-law is an ESTJ.  She is the epito...</td>\n",
       "    </tr>\n",
       "    <tr>\n",
       "      <td>...</td>\n",
       "      <td>...</td>\n",
       "      <td>...</td>\n",
       "      <td>...</td>\n",
       "      <td>...</td>\n",
       "      <td>...</td>\n",
       "      <td>...</td>\n",
       "      <td>...</td>\n",
       "      <td>...</td>\n",
       "      <td>...</td>\n",
       "      <td>...</td>\n",
       "      <td>...</td>\n",
       "      <td>...</td>\n",
       "      <td>...</td>\n",
       "      <td>...</td>\n",
       "      <td>...</td>\n",
       "      <td>...</td>\n",
       "    </tr>\n",
       "    <tr>\n",
       "      <td>1692</td>\n",
       "      <td>i am the the younger of 2. :)</td>\n",
       "      <td>I don't think I mind being single, but I think...</td>\n",
       "      <td>I hated Mello. He was so irrational and emotio...</td>\n",
       "      <td>This is just my opinion, but I think that Si-i...</td>\n",
       "      <td>-</td>\n",
       "      <td>-</td>\n",
       "      <td>-</td>\n",
       "      <td>-</td>\n",
       "      <td>Welcome man! This is the best sub forum around...</td>\n",
       "      <td>Oh my. I've been at this very place so often i...</td>\n",
       "      <td>I never got past the smell. Sorry guys :laughing:</td>\n",
       "      <td>Fool manipulate the ESFP, gain a foothold of y...</td>\n",
       "      <td>-</td>\n",
       "      <td>What does an ISFP seek from a long term relati...</td>\n",
       "      <td>-</td>\n",
       "      <td>I know one ISTJ. Hes really smart when it come...</td>\n",
       "    </tr>\n",
       "    <tr>\n",
       "      <td>1693</td>\n",
       "      <td>I don't wear make-up, not even lip gross.  No ...</td>\n",
       "      <td>Nothing. Music kinda distracts me. And if it i...</td>\n",
       "      <td>I got told to think for myself once. I wasn't ...</td>\n",
       "      <td>Obviously me. (I mean, my type, because we hav...</td>\n",
       "      <td>-</td>\n",
       "      <td>-</td>\n",
       "      <td>-</td>\n",
       "      <td>-</td>\n",
       "      <td>So there are what, ten of us? :mellow:  Anywho...</td>\n",
       "      <td>I've had to pick up clues throughout my life t...</td>\n",
       "      <td>You make a good point.  I once bumped into an ...</td>\n",
       "      <td>Don't have kids they are a pain the in the nec...</td>\n",
       "      <td>-</td>\n",
       "      <td>Never try to match society rules with an ISFP ...</td>\n",
       "      <td>-</td>\n",
       "      <td>I'm definitely a night person can't really fal...</td>\n",
       "    </tr>\n",
       "    <tr>\n",
       "      <td>1694</td>\n",
       "      <td>one of the biggest compliments I received from...</td>\n",
       "      <td>Yeah I agree. This is a maturity thing. It see...</td>\n",
       "      <td>The noise makes me want to run away from it.</td>\n",
       "      <td>So, I've met a lot of people who are difficult...</td>\n",
       "      <td>-</td>\n",
       "      <td>-</td>\n",
       "      <td>-</td>\n",
       "      <td>-</td>\n",
       "      <td>'bump.  I find nutrition absolutely necessary ...</td>\n",
       "      <td>10  Quality Time    7 Physical Touch</td>\n",
       "      <td>Tibetan Mastiff. I definitely wouldn't want an...</td>\n",
       "      <td>INTP's show their face in comics as well and s...</td>\n",
       "      <td>-</td>\n",
       "      <td>You checked off 62 out of 83 scenarios!       ...</td>\n",
       "      <td>-</td>\n",
       "      <td>Me and my dad get like this sometimes.Him most...</td>\n",
       "    </tr>\n",
       "    <tr>\n",
       "      <td>1695</td>\n",
       "      <td>thank you.  Now I am less confused :laughing: ...</td>\n",
       "      <td>I hate to tell people to settle ): I really do...</td>\n",
       "      <td>One thing I hate about being an INTP... or bei...</td>\n",
       "      <td>Disclaimer: this thread is over-simplified, an...</td>\n",
       "      <td>-</td>\n",
       "      <td>-</td>\n",
       "      <td>-</td>\n",
       "      <td>-</td>\n",
       "      <td>What makes your religion choice better then th...</td>\n",
       "      <td>I was in that situation as well a few years ag...</td>\n",
       "      <td>Never in my life.  I do say bleep though, in m...</td>\n",
       "      <td>My Professor was is like Albus Dumbledore too ...</td>\n",
       "      <td>-</td>\n",
       "      <td>I can relate to this as one of my good friends...</td>\n",
       "      <td>-</td>\n",
       "      <td>Surrealism because it looks strange</td>\n",
       "    </tr>\n",
       "    <tr>\n",
       "      <td>1696</td>\n",
       "      <td>so, I think I am an xNFJ.  I and E are still a...</td>\n",
       "      <td>Aww thank you (: Totally gave me the biggest s...</td>\n",
       "      <td>I agree about the idea still being true. I jus...</td>\n",
       "      <td>My friend just lose his left side in an accide...</td>\n",
       "      <td>-</td>\n",
       "      <td>-</td>\n",
       "      <td>-</td>\n",
       "      <td>-</td>\n",
       "      <td>jenecis  I certainly understand your thoughts ...</td>\n",
       "      <td>It's been so long since I cried. Last time it ...</td>\n",
       "      <td>I can be rather blunt. I don't typically beat ...</td>\n",
       "      <td>I typed INTJ like 7 years ago and now INTP and...</td>\n",
       "      <td>-</td>\n",
       "      <td>Best to ignore her till she comes back. And wh...</td>\n",
       "      <td>-</td>\n",
       "      <td>Clarifiedmind was spot on</td>\n",
       "    </tr>\n",
       "  </tbody>\n",
       "</table>\n",
       "<p>1697 rows × 16 columns</p>\n",
       "</div>"
      ],
      "text/plain": [
       "                                                   ENFJ  \\\n",
       "0                                                    '-   \n",
       "1                                                 51 :o   \n",
       "2     I went through a break up some months ago. We ...   \n",
       "3                               ENFJ Puns so many puns.   \n",
       "4     Well I personally don't go that much for attra...   \n",
       "...                                                 ...   \n",
       "1692                      i am the the younger of 2. :)   \n",
       "1693  I don't wear make-up, not even lip gross.  No ...   \n",
       "1694  one of the biggest compliments I received from...   \n",
       "1695  thank you.  Now I am less confused :laughing: ...   \n",
       "1696  so, I think I am an xNFJ.  I and E are still a...   \n",
       "\n",
       "                                                   ENFP  \\\n",
       "0     'He doesn't want to go on the trip without me,...   \n",
       "1     I'm still completely in AWE and I'm AMAZED tha...   \n",
       "2     Thanks, everyone. I'm struggling with being se...   \n",
       "3     My husband works an extra job each year to pay...   \n",
       "4     He said that it's not like he's asking me to d...   \n",
       "...                                                 ...   \n",
       "1692  I don't think I mind being single, but I think...   \n",
       "1693  Nothing. Music kinda distracts me. And if it i...   \n",
       "1694  Yeah I agree. This is a maturity thing. It see...   \n",
       "1695  I hate to tell people to settle ): I really do...   \n",
       "1696  Aww thank you (: Totally gave me the biggest s...   \n",
       "\n",
       "                                                   ENTJ  \\\n",
       "0                                        'You're fired.   \n",
       "1     That's another silly misconception. That appro...   \n",
       "2     But guys... he REALLY wants to go on a super-d...   \n",
       "3            Never mind. Just go on permanent vacation.   \n",
       "4     Two months? I wouldn't be crazy about the idea...   \n",
       "...                                                 ...   \n",
       "1692  I hated Mello. He was so irrational and emotio...   \n",
       "1693  I got told to think for myself once. I wasn't ...   \n",
       "1694       The noise makes me want to run away from it.   \n",
       "1695  One thing I hate about being an INTP... or bei...   \n",
       "1696  I agree about the idea still being true. I jus...   \n",
       "\n",
       "                                                   ENTP  \\\n",
       "0     'I'm finding the lack of me in these posts ver...   \n",
       "1     Sex can be boring if it's in the same position...   \n",
       "2                  Giving new meaning to 'Game' theory.   \n",
       "3     Hello *ENTP Grin*  That's all it takes. Than w...   \n",
       "4     This + Lack of Balance and Hand Eye Coordination.   \n",
       "...                                                 ...   \n",
       "1692  This is just my opinion, but I think that Si-i...   \n",
       "1693  Obviously me. (I mean, my type, because we hav...   \n",
       "1694  So, I've met a lot of people who are difficult...   \n",
       "1695  Disclaimer: this thread is over-simplified, an...   \n",
       "1696  My friend just lose his left side in an accide...   \n",
       "\n",
       "                                                   ESFJ  \\\n",
       "0                                             'Why not?   \n",
       "1     Any other ESFJs originally mistype as an NFP? ...   \n",
       "2     Hello again. Thanks for all your help. I know ...   \n",
       "3     Of the J functions, I'd say it would be: Fi>Ti...   \n",
       "4     The ESFJs on this site are lovely. I'm general...   \n",
       "...                                                 ...   \n",
       "1692                                                  -   \n",
       "1693                                                  -   \n",
       "1694                                                  -   \n",
       "1695                                                  -   \n",
       "1696                                                  -   \n",
       "\n",
       "                                                   ESFP  \\\n",
       "0               'Edit: I forgot what board this was on.   \n",
       "1     I am currently reading 'Artemis Fowl: The Eter...   \n",
       "2     Hi all, if you've got some spare time and why ...   \n",
       "3         BABYMETAL are the best band of this decade  -   \n",
       "4                       Banned for being a fire hazard.   \n",
       "...                                                 ...   \n",
       "1692                                                  -   \n",
       "1693                                                  -   \n",
       "1694                                                  -   \n",
       "1695                                                  -   \n",
       "1696                                                  -   \n",
       "\n",
       "                                                   ESTJ  \\\n",
       "0                              this is such a catch 22    \n",
       "1     I'm here! Although, I'm quite the terrible EST...   \n",
       "2                         Yikes. I do not want power...   \n",
       "3     Thank you SO SO much. This is what I had plann...   \n",
       "4                                                    Hi   \n",
       "...                                                 ...   \n",
       "1692                                                  -   \n",
       "1693                                                  -   \n",
       "1694                                                  -   \n",
       "1695                                                  -   \n",
       "1696                                                  -   \n",
       "\n",
       "                                                   ESTP  \\\n",
       "0                 Splinter Cell Blacklist for Xbox 360.   \n",
       "1     ESTPs are generally well liked. If you get hat...   \n",
       "2     I often come off to people with the opposite o...   \n",
       "3                          Ask her what you are to her.   \n",
       "4                   I'm a euphonium player and a writer   \n",
       "...                                                 ...   \n",
       "1692                                                  -   \n",
       "1693                                                  -   \n",
       "1694                                                  -   \n",
       "1695                                                  -   \n",
       "1696                                                  -   \n",
       "\n",
       "                                                   INFJ  \\\n",
       "0                                                    '-   \n",
       "1                                                     -   \n",
       "2     enfp and intj moments  -  sportscenter not top...   \n",
       "3     What has been the most life-changing experienc...   \n",
       "4                   -   -  On repeat for most of today.   \n",
       "...                                                 ...   \n",
       "1692  Welcome man! This is the best sub forum around...   \n",
       "1693  So there are what, ten of us? :mellow:  Anywho...   \n",
       "1694  'bump.  I find nutrition absolutely necessary ...   \n",
       "1695  What makes your religion choice better then th...   \n",
       "1696  jenecis  I certainly understand your thoughts ...   \n",
       "\n",
       "                                                   INFP  \\\n",
       "0     'I think we do agree. I personally don't consi...   \n",
       "1     Literature... I'd suggest 'Everyday Zen' by Ch...   \n",
       "2     Being emotional doesn't automatically make som...   \n",
       "3     I'm a Ch'an Buddhist, so it's a daily thing fo...   \n",
       "4     Glad to know I'm not the only one. I meditate,...   \n",
       "...                                                 ...   \n",
       "1692  Oh my. I've been at this very place so often i...   \n",
       "1693  I've had to pick up clues throughout my life t...   \n",
       "1694               10  Quality Time    7 Physical Touch   \n",
       "1695  I was in that situation as well a few years ag...   \n",
       "1696  It's been so long since I cried. Last time it ...   \n",
       "\n",
       "                                                   INTJ  \\\n",
       "0     'Dear INTP,   I enjoyed our conversation the o...   \n",
       "1     Dear ENTJ sub,   Long time no see.  Sincerely,...   \n",
       "2     None of them. All other types hurt in deep exi...   \n",
       "3     Probably a sliding scale that depends on indiv...   \n",
       "4     Draco Malfoy also. I'd say he's either 358 or ...   \n",
       "...                                                 ...   \n",
       "1692  I never got past the smell. Sorry guys :laughing:   \n",
       "1693  You make a good point.  I once bumped into an ...   \n",
       "1694  Tibetan Mastiff. I definitely wouldn't want an...   \n",
       "1695  Never in my life.  I do say bleep though, in m...   \n",
       "1696  I can be rather blunt. I don't typically beat ...   \n",
       "\n",
       "                                                   INTP  \\\n",
       "0                                  'Good one  _____   -   \n",
       "1     Of course, to which I say I know; that's my bl...   \n",
       "2     Does being absolutely positive that you and yo...   \n",
       "3                   No, I didn't; thank you for a link!   \n",
       "4     So-called Ti-Si loop (and it can stem from any...   \n",
       "...                                                 ...   \n",
       "1692  Fool manipulate the ESFP, gain a foothold of y...   \n",
       "1693  Don't have kids they are a pain the in the nec...   \n",
       "1694  INTP's show their face in comics as well and s...   \n",
       "1695  My Professor was is like Albus Dumbledore too ...   \n",
       "1696  I typed INTJ like 7 years ago and now INTP and...   \n",
       "\n",
       "                                                   ISFJ  \\\n",
       "0     'I love feeling affectionate for the one I lov...   \n",
       "1     Kind of an update on my past post above. Whate...   \n",
       "2     It feels weird being in love for the first tim...   \n",
       "3     Unsure if i completely understand the question...   \n",
       "4     Not often, but I tend to lose it more when it ...   \n",
       "...                                                 ...   \n",
       "1692                                                  -   \n",
       "1693                                                  -   \n",
       "1694                                                  -   \n",
       "1695                                                  -   \n",
       "1696                                                  -   \n",
       "\n",
       "                                                   ISFP  \\\n",
       "0                           'They paint without numbers   \n",
       "1                                 I'd guess at istp too   \n",
       "2     My best bud is ESFP, very funny, entertaining ...   \n",
       "3     I used to smoke weed alot, everyday from morni...   \n",
       "4     Jimi Hendrix - The Wind Cries Mary.  After all...   \n",
       "...                                                 ...   \n",
       "1692  What does an ISFP seek from a long term relati...   \n",
       "1693  Never try to match society rules with an ISFP ...   \n",
       "1694  You checked off 62 out of 83 scenarios!       ...   \n",
       "1695  I can relate to this as one of my good friends...   \n",
       "1696  Best to ignore her till she comes back. And wh...   \n",
       "\n",
       "                                                   ISTJ  \\\n",
       "0     'Newton's Universal Gravity Law. I mean seriou...   \n",
       "1     Well, if money and time was no object, I would...   \n",
       "2                                                     -   \n",
       "3                          I'm still laughing! xD  -  -   \n",
       "4     workaround is working for me, and I'm using FF...   \n",
       "...                                                 ...   \n",
       "1692                                                  -   \n",
       "1693                                                  -   \n",
       "1694                                                  -   \n",
       "1695                                                  -   \n",
       "1696                                                  -   \n",
       "\n",
       "                                                   ISTP  \n",
       "0     'I got 593.  From what I've read about the Enn...  \n",
       "1                                          GTFO FEELER!  \n",
       "2     A lot of the stuff that you read in the INTP d...  \n",
       "3     Don't worry about it.  You are trying to make ...  \n",
       "4     My mother-in-law is an ESTJ.  She is the epito...  \n",
       "...                                                 ...  \n",
       "1692  I know one ISTJ. Hes really smart when it come...  \n",
       "1693  I'm definitely a night person can't really fal...  \n",
       "1694  Me and my dad get like this sometimes.Him most...  \n",
       "1695                Surrealism because it looks strange  \n",
       "1696                          Clarifiedmind was spot on  \n",
       "\n",
       "[1697 rows x 16 columns]"
      ]
     },
     "execution_count": 56,
     "metadata": {},
     "output_type": "execute_result"
    }
   ],
   "source": [
    "#creating copy\n",
    "newdataset_copy=newdataset.copy()\n",
    "newdataset_copy"
   ]
  },
  {
   "cell_type": "markdown",
   "metadata": {},
   "source": [
    "# CLASSES WE HAVE :\n",
    "class 1 : I/E - Introvert/Extrovert\n",
    "\n",
    "\n",
    "class 2 : N/S - Intuition/Sensitive\n",
    "\n",
    "\n",
    "class 3 : T/F - Thinking/Feeling\n",
    "\n",
    "\n",
    "class 4 : J/P - Judging/Perceiving\n",
    "\n"
   ]
  },
  {
   "cell_type": "markdown",
   "metadata": {},
   "source": [
    "# Creating a classifier for class 1 :I/E- Introversion (I) and Extroversion (E)"
   ]
  },
  {
   "cell_type": "code",
   "execution_count": 57,
   "metadata": {},
   "outputs": [],
   "source": [
    "# Features for the bag of words model\n",
    "features=[]\n",
    "for j in types:\n",
    "    temp1 = newdataset_copy[j]\n",
    "    temp1 = temp1.dropna() #not all the personality types have same number of files\n",
    "    if('I' in j):\n",
    "        features += [[(build_bag_of_words_features_filtered(i), 'introvert') \\\n",
    "        for i in temp1]]\n",
    "    if('E' in j):\n",
    "        features += [[(build_bag_of_words_features_filtered(i), 'extrovert') \\\n",
    "        for i in temp1]]"
   ]
  },
  {
   "cell_type": "code",
   "execution_count": 58,
   "metadata": {},
   "outputs": [],
   "source": [
    "#data for training\n",
    "train=[]\n",
    "for i in range(16):\n",
    "    train += features[i][:split[i]]"
   ]
  },
  {
   "cell_type": "code",
   "execution_count": 59,
   "metadata": {},
   "outputs": [],
   "source": [
    "#training the model\n",
    "IntroExtro = NaiveBayesClassifier.train(train)"
   ]
  },
  {
   "cell_type": "code",
   "execution_count": 60,
   "metadata": {},
   "outputs": [
    {
     "data": {
      "text/plain": [
       "57.401436993367724"
      ]
     },
     "execution_count": 60,
     "metadata": {},
     "output_type": "execute_result"
    }
   ],
   "source": [
    "#Testing the model on the dataset it was trained for accuracy\n",
    "nltk.classify.util.accuracy(IntroExtro, train)*100"
   ]
  },
  {
   "cell_type": "code",
   "execution_count": 61,
   "metadata": {},
   "outputs": [],
   "source": [
    "#Creating the test data\n",
    "test=[]\n",
    "for i in range(16):\n",
    "    test += features[i][split[i]:]"
   ]
  },
  {
   "cell_type": "code",
   "execution_count": 62,
   "metadata": {},
   "outputs": [
    {
     "data": {
      "text/plain": [
       "49.705882352941174"
      ]
     },
     "execution_count": 62,
     "metadata": {},
     "output_type": "execute_result"
    }
   ],
   "source": [
    "#Testing the model on the test dataset which it has never seen before\n",
    "\n",
    "nltk.classify.util.accuracy(IntroExtro, test)*100"
   ]
  },
  {
   "cell_type": "markdown",
   "metadata": {},
   "source": [
    "accuracy improved to 50% , doing same thing for other traits"
   ]
  },
  {
   "cell_type": "markdown",
   "metadata": {},
   "source": [
    "# creating classifier for class 2 : N/S - Intuition(N)/Sensitive(S)"
   ]
  },
  {
   "cell_type": "code",
   "execution_count": 63,
   "metadata": {},
   "outputs": [],
   "source": [
    "# Features for the bag of words model\n",
    "features=[]\n",
    "for j in types:\n",
    "    temp1 = newdataset_copy[j]\n",
    "    temp1 = temp1.dropna() #not all the personality types have same number of files\n",
    "    if('N' in j):\n",
    "        features += [[(build_bag_of_words_features_filtered(i), 'Intuition') \\\n",
    "        for i in temp1]]\n",
    "    if('E' in j):\n",
    "        features += [[(build_bag_of_words_features_filtered(i), 'Sensing') \\\n",
    "        for i in temp1]]"
   ]
  },
  {
   "cell_type": "code",
   "execution_count": 64,
   "metadata": {},
   "outputs": [
    {
     "data": {
      "text/plain": [
       "67.6584377302874"
      ]
     },
     "execution_count": 64,
     "metadata": {},
     "output_type": "execute_result"
    }
   ],
   "source": [
    "#Data for training\n",
    "train=[]\n",
    "for i in range(16):\n",
    "    train += features[i][:split[i]]\n",
    "\n",
    "    #Training the model\n",
    "IntuitionSensing = NaiveBayesClassifier.train(train)\n",
    "\n",
    "#Testing the model on the dataset it was trained for accuracy\n",
    "nltk.classify.util.accuracy(IntuitionSensing, train)*100\n"
   ]
  },
  {
   "cell_type": "code",
   "execution_count": 65,
   "metadata": {},
   "outputs": [
    {
     "data": {
      "text/plain": [
       "73.56617647058825"
      ]
     },
     "execution_count": 65,
     "metadata": {},
     "output_type": "execute_result"
    }
   ],
   "source": [
    "#Creating the test data\n",
    "test=[]\n",
    "for i in range(16):\n",
    "    test += features[i][split[i]:]\n",
    "\n",
    "#Testing the model on the test dataset which it has never seen before\n",
    "nltk.classify.util.accuracy(IntuitionSensing, test)*100"
   ]
  },
  {
   "cell_type": "markdown",
   "metadata": {},
   "source": [
    "accuracy is approx 73% here."
   ]
  },
  {
   "cell_type": "markdown",
   "metadata": {},
   "source": [
    "# creating classifier for class 3 : T/F - Thinking(T)/Feeling(F)"
   ]
  },
  {
   "cell_type": "code",
   "execution_count": 66,
   "metadata": {},
   "outputs": [
    {
     "data": {
      "text/plain": [
       "79.50442151805454"
      ]
     },
     "execution_count": 66,
     "metadata": {},
     "output_type": "execute_result"
    }
   ],
   "source": [
    "# Features for the bag of words model\n",
    "features=[]\n",
    "for j in types:\n",
    "    temp1 = newdataset_copy[j]\n",
    "    temp1 = temp1.dropna() #not all the personality types have same number of files\n",
    "    if('T' in j):\n",
    "        features += [[(build_bag_of_words_features_filtered(i), 'Thinking') \\\n",
    "        for i in temp1]]\n",
    "    if('F' in j):\n",
    "        features += [[(build_bag_of_words_features_filtered(i), 'Feeling') \\\n",
    "        for i in temp1]]\n",
    "\n",
    "#Data for training\n",
    "train=[]\n",
    "for i in range(16):\n",
    "    train += features[i][:split[i]]\n",
    "\n",
    "#Training the model\n",
    "ThinkingFeeling = NaiveBayesClassifier.train(train)\n",
    "\n",
    "#Testing the model on the dataset it was trained for accuracy\n",
    "nltk.classify.util.accuracy(ThinkingFeeling, train)*100"
   ]
  },
  {
   "cell_type": "code",
   "execution_count": 67,
   "metadata": {},
   "outputs": [
    {
     "data": {
      "text/plain": [
       "53.1985294117647"
      ]
     },
     "execution_count": 67,
     "metadata": {},
     "output_type": "execute_result"
    }
   ],
   "source": [
    "#Creating the test data\n",
    "test=[]\n",
    "for i in range(16):\n",
    "    test += features[i][split[i]:]\n",
    "\n",
    "#Testing the model on the test dataset which it has never seen before\n",
    "nltk.classify.util.accuracy(ThinkingFeeling, test)*100"
   ]
  },
  {
   "cell_type": "markdown",
   "metadata": {},
   "source": [
    "accuracy is 53%"
   ]
  },
  {
   "cell_type": "markdown",
   "metadata": {},
   "source": [
    "#  creating classifier for class 4 : J/P - Judging(J)/Perceiving(P)"
   ]
  },
  {
   "cell_type": "code",
   "execution_count": 68,
   "metadata": {},
   "outputs": [
    {
     "data": {
      "text/plain": [
       "73.61366985998527"
      ]
     },
     "execution_count": 68,
     "metadata": {},
     "output_type": "execute_result"
    }
   ],
   "source": [
    "# Features for the bag of words model\n",
    "features=[]\n",
    "for j in types:\n",
    "    temp1 = newdataset_copy[j]\n",
    "    temp1 = temp1.dropna() #not all the personality types have same number of files\n",
    "    if('J' in j):\n",
    "        features += [[(build_bag_of_words_features_filtered(i), 'Judging') \\\n",
    "        for i in temp1]]\n",
    "    if('P' in j):\n",
    "        features += [[(build_bag_of_words_features_filtered(i), 'Percieving') \\\n",
    "        for i in temp1]]\n",
    "\n",
    "#Data for training\n",
    "train=[]\n",
    "for i in range(16):\n",
    "    train += features[i][:split[i]]\n",
    "\n",
    "#Training the model\n",
    "JudgingPercieiving = NaiveBayesClassifier.train(train)\n",
    "\n",
    "#Testing the model on the dataset it was trained for accuracy\n",
    "nltk.classify.util.accuracy(JudgingPercieiving, train)*100"
   ]
  },
  {
   "cell_type": "code",
   "execution_count": 69,
   "metadata": {},
   "outputs": [
    {
     "data": {
      "text/plain": [
       "48.768382352941174"
      ]
     },
     "execution_count": 69,
     "metadata": {},
     "output_type": "execute_result"
    }
   ],
   "source": [
    "#Creating the test data\n",
    "test=[]\n",
    "for i in range(16):\n",
    "    test += features[i][split[i]:]\n",
    "\n",
    "#Testing the model on the test dataset which it has never seen before\n",
    "nltk.classify.util.accuracy(JudgingPercieiving, test)*100"
   ]
  },
  {
   "cell_type": "markdown",
   "metadata": {},
   "source": [
    "accuracy = 50% approx"
   ]
  },
  {
   "cell_type": "markdown",
   "metadata": {},
   "source": [
    "# Summarizing the results of the models"
   ]
  },
  {
   "cell_type": "code",
   "execution_count": 70,
   "metadata": {},
   "outputs": [
    {
     "data": {
      "text/html": [
       "<div>\n",
       "<style scoped>\n",
       "    .dataframe tbody tr th:only-of-type {\n",
       "        vertical-align: middle;\n",
       "    }\n",
       "\n",
       "    .dataframe tbody tr th {\n",
       "        vertical-align: top;\n",
       "    }\n",
       "\n",
       "    .dataframe thead th {\n",
       "        text-align: right;\n",
       "    }\n",
       "</style>\n",
       "<table border=\"1\" class=\"dataframe\">\n",
       "  <thead>\n",
       "    <tr style=\"text-align: right;\">\n",
       "      <th></th>\n",
       "      <th>Introvert - Extrovert</th>\n",
       "      <th>Intuition - Sensing</th>\n",
       "      <th>Thinking - Feeling</th>\n",
       "      <th>Judging - Percieiving</th>\n",
       "    </tr>\n",
       "  </thead>\n",
       "  <tbody>\n",
       "    <tr>\n",
       "      <td>train</td>\n",
       "      <td>57.401437</td>\n",
       "      <td>67.658438</td>\n",
       "      <td>79.504422</td>\n",
       "      <td>73.613670</td>\n",
       "    </tr>\n",
       "    <tr>\n",
       "      <td>test</td>\n",
       "      <td>49.705882</td>\n",
       "      <td>73.566176</td>\n",
       "      <td>53.198529</td>\n",
       "      <td>48.768382</td>\n",
       "    </tr>\n",
       "  </tbody>\n",
       "</table>\n",
       "</div>"
      ],
      "text/plain": [
       "       Introvert - Extrovert  Intuition - Sensing  Thinking - Feeling  \\\n",
       "train              57.401437            67.658438           79.504422   \n",
       "test               49.705882            73.566176           53.198529   \n",
       "\n",
       "       Judging - Percieiving  \n",
       "train              73.613670  \n",
       "test               48.768382  "
      ]
     },
     "execution_count": 70,
     "metadata": {},
     "output_type": "execute_result"
    }
   ],
   "source": [
    "temp = {'train' : [57.401436993367724,67.6584377302874,79.50442151805454,73.61366985998527], 'test' : [49.705882352941174,73.56617647058825,53.1985294117647,48.768382352941174]}\n",
    "results = pd.DataFrame.from_dict(temp, orient='index', columns=['Introvert - Extrovert', 'Intuition - Sensing', 'Thinking - Feeling', 'Judging - Percieiving'])\n",
    "results"
   ]
  },
  {
   "cell_type": "code",
   "execution_count": 71,
   "metadata": {},
   "outputs": [
    {
     "data": {
      "text/plain": [
       "Text(0.5, 1.0, 'Total posts for each personality type')"
      ]
     },
     "execution_count": 71,
     "metadata": {},
     "output_type": "execute_result"
    },
    {
     "data": {
      "image/png": "[encoded data removed]",
      "text/plain": [
       "<Figure size 864x432 with 1 Axes>"
      ]
     },
     "metadata": {
      "needs_background": "light"
     },
     "output_type": "display_data"
    }
   ],
   "source": [
    "plt.figure(figsize = (12,6))\n",
    "\n",
    "plt.bar(np.array(results.columns), height = results.loc['train'],)\n",
    "plt.xlabel('Personality types', size = 14)\n",
    "plt.ylabel('Number of posts available', size = 14)\n",
    "plt.title('Total posts for each personality type')"
   ]
  },
  {
   "cell_type": "code",
   "execution_count": 72,
   "metadata": {},
   "outputs": [
    {
     "data": {
      "image/png": "[encoded data removed]",
      "text/plain": [
       "<Figure size 864x432 with 1 Axes>"
      ]
     },
     "metadata": {
      "needs_background": "light"
     },
     "output_type": "display_data"
    }
   ],
   "source": [
    "labels = np.array(results.columns)\n",
    "\n",
    "training = results.loc['train']\n",
    "ind = np.arange(4)\n",
    "width = 0.4\n",
    "fig = plt.figure()\n",
    "ax = fig.add_subplot(111)\n",
    "rects1 = ax.bar(ind, training, width, color='royalblue')\n",
    "\n",
    "testing = results.loc['test']\n",
    "rects2 = ax.bar(ind+width, testing, width, color='seagreen')\n",
    "\n",
    "fig.set_size_inches(12, 6)\n",
    "fig.savefig('Results.png', dpi=200)\n",
    "\n",
    "ax.set_xlabel('Model Classifying Trait', size = 18)\n",
    "ax.set_ylabel('Accuracy Percent (%)', size = 18)\n",
    "ax.set_xticks(ind + width / 2)\n",
    "ax.set_xticklabels(labels)\n",
    "ax.legend((rects1[0], rects2[0]), ('Tested on a known dataframe', 'Tested on an unknown dataframe'))\n",
    "plt.show()"
   ]
  },
  {
   "cell_type": "markdown",
   "metadata": {},
   "source": [
    "# Testing the model\n",
    "\n",
    "Predicting my brother's personality based on the quora answers\n",
    "\n",
    "link :https://www.quora.com/profile/Ayush-Sinha-86?q=ayush"
   ]
  },
  {
   "cell_type": "code",
   "execution_count": 73,
   "metadata": {},
   "outputs": [],
   "source": [
    "#Defining a functions that inputs the writings, tokenizes them and then predicts the output based on our earlier classifiers\n",
    "def MBTI(input):\n",
    "    tokenize = build_bag_of_words_features_filtered(input)\n",
    "    ie = IntroExtro.classify(tokenize)\n",
    "    Is = IntuitionSensing.classify(tokenize)\n",
    "    tf = ThinkingFeeling.classify(tokenize)\n",
    "    jp = JudgingPercieiving.classify(tokenize)\n",
    "    \n",
    "    mbt = ''\n",
    "    \n",
    "    if(ie == 'introvert'):\n",
    "        mbt+='I'\n",
    "    if(ie == 'extrovert'):\n",
    "        mbt+='E'\n",
    "    if(Is == 'Intuition'):\n",
    "        mbt+='N'\n",
    "    if(Is == 'Sensing'):\n",
    "        mbt+='S'\n",
    "    if(tf == 'Thinking'):\n",
    "        mbt+='T'\n",
    "    if(tf == 'Feeling'):\n",
    "        mbt+='F'\n",
    "    if(jp == 'Judging'):\n",
    "        mbt+='J'\n",
    "    if(jp == 'Percieving'):\n",
    "        mbt+='P'\n",
    "    return(mbt)"
   ]
  },
  {
   "cell_type": "markdown",
   "metadata": {},
   "source": [
    "Building another functions that takes all the posts as input and outputs the graph showing percentage of each trait seen in each posts and sums up displaying your personality as the graph title\n",
    "\n",
    "Note: The input should be an array of your posts\n"
   ]
  },
  {
   "cell_type": "code",
   "execution_count": 74,
   "metadata": {},
   "outputs": [],
   "source": [
    "def tellmemyMBTI(input, name, traasits=[]):\n",
    "    a = []\n",
    "    trait1 = pd.DataFrame([0,0,0,0],['I','N','T','J'],['count'])\n",
    "    trait2 = pd.DataFrame([0,0,0,0],['E','S','F','P'],['count'])\n",
    "    for i in input:\n",
    "        a += [MBTI(i)]\n",
    "    for i in a:\n",
    "        for j in ['I','N','T','J']:\n",
    "            if(j in i):\n",
    "                trait1.loc[j]+=1                \n",
    "        for j in ['E','S','F','P']:\n",
    "            if(j in i):\n",
    "                trait2.loc[j]+=1 \n",
    "    trait1 = trait1.T\n",
    "    trait1 = trait1*100/len(input)\n",
    "    trait2 = trait2.T\n",
    "    trait2 = trait2*100/len(input)\n",
    "    \n",
    "    \n",
    "    #Finding the personality\n",
    "    YourTrait = ''\n",
    "    for i,j in zip(trait1,trait2):\n",
    "        temp = max(trait1[i][0],trait2[j][0])\n",
    "        if(trait1[i][0]==temp):\n",
    "            YourTrait += i  \n",
    "        if(trait2[j][0]==temp):\n",
    "            YourTrait += j\n",
    "    traasits +=[YourTrait] \n",
    "    \n",
    "    #Plotting\n",
    "    \n",
    "    labels = np.array(results.columns)\n",
    "\n",
    "    intj = trait1.loc['count']\n",
    "    ind = np.arange(4)\n",
    "    width = 0.4\n",
    "    fig = plt.figure()\n",
    "    ax = fig.add_subplot(111)\n",
    "    rects1 = ax.bar(ind, intj, width, color='royalblue')\n",
    "\n",
    "    esfp = trait2.loc['count']\n",
    "    rects2 = ax.bar(ind+width, esfp, width, color='seagreen')\n",
    "\n",
    "    fig.set_size_inches(10, 7)\n",
    "    \n",
    "    \n",
    "\n",
    "    ax.set_xlabel('Finding the MBTI Trait', size = 18)\n",
    "    ax.set_ylabel('Trait Percent (%)', size = 18)\n",
    "    ax.set_xticks(ind + width / 2)\n",
    "    ax.set_xticklabels(labels)\n",
    "    ax.set_yticks(np.arange(0,105, step= 10))\n",
    "    ax.set_title('Your Personality is '+YourTrait,size = 20)\n",
    "    plt.grid(True)\n",
    "    \n",
    "    \n",
    "    fig.savefig(name+'.png', dpi=200)\n",
    "    \n",
    "    plt.show()\n",
    "    return(traasits)"
   ]
  },
  {
   "cell_type": "markdown",
   "metadata": {},
   "source": [
    "Importing quora answers from a text file\n",
    "I copied all my answer from the link i provided before (i broke down the paragraphs as separate posts)"
   ]
  },
  {
   "cell_type": "code",
   "execution_count": 75,
   "metadata": {},
   "outputs": [],
   "source": [
    "My_writings = open(\"Myquora.txt\")\n",
    "my_writing = My_writings.readlines()\n",
    "#my_writing"
   ]
  },
  {
   "cell_type": "code",
   "execution_count": 76,
   "metadata": {},
   "outputs": [
    {
     "data": {
      "text/plain": [
       "38"
      ]
     },
     "execution_count": 76,
     "metadata": {},
     "output_type": "execute_result"
    }
   ],
   "source": [
    "my_posts = my_writing[0].split('|||')\n",
    "len(my_posts)\n",
    "#my_posts"
   ]
  },
  {
   "cell_type": "code",
   "execution_count": 77,
   "metadata": {},
   "outputs": [
    {
     "data": {
      "text/plain": [
       "38"
      ]
     },
     "execution_count": 77,
     "metadata": {},
     "output_type": "execute_result"
    }
   ],
   "source": [
    "my_posts = my_writing[0].split('|||')\n",
    "len(my_posts)\n",
    "#my_posts"
   ]
  },
  {
   "cell_type": "code",
   "execution_count": 78,
   "metadata": {},
   "outputs": [
    {
     "data": {
      "image/png": "[encoded data removed]",
      "text/plain": [
       "<Figure size 720x504 with 1 Axes>"
      ]
     },
     "metadata": {
      "needs_background": "light"
     },
     "output_type": "display_data"
    }
   ],
   "source": [
    "#predicting personality\n",
    "trait=tellmemyMBTI(my_posts, 'Divy')"
   ]
  },
  {
   "cell_type": "code",
   "execution_count": 79,
   "metadata": {},
   "outputs": [],
   "source": [
    "My_writings = open(\"bi.txt\")\n",
    "my_writing = My_writings.readlines()\n",
    "#my_writing"
   ]
  },
  {
   "cell_type": "code",
   "execution_count": 80,
   "metadata": {},
   "outputs": [
    {
     "data": {
      "text/plain": [
       "3"
      ]
     },
     "execution_count": 80,
     "metadata": {},
     "output_type": "execute_result"
    }
   ],
   "source": [
    "my_posts = my_writing[0].split('|||')\n",
    "len(my_posts)\n",
    "#my_posts"
   ]
  },
  {
   "cell_type": "code",
   "execution_count": 81,
   "metadata": {},
   "outputs": [
    {
     "data": {
      "image/png": "[encoded data removed]",
      "text/plain": [
       "<Figure size 720x504 with 1 Axes>"
      ]
     },
     "metadata": {
      "needs_background": "light"
     },
     "output_type": "display_data"
    }
   ],
   "source": [
    "#predicting personality\n",
    "trait=tellmemyMBTI(my_posts, 'A')"
   ]
  },
  {
   "cell_type": "code",
   "execution_count": 82,
   "metadata": {},
   "outputs": [],
   "source": [
    "My_writings = open(\"MO.txt\")\n",
    "my_writing = My_writings.readlines()\n",
    "#my_writing"
   ]
  },
  {
   "cell_type": "code",
   "execution_count": 83,
   "metadata": {},
   "outputs": [
    {
     "data": {
      "text/plain": [
       "6"
      ]
     },
     "execution_count": 83,
     "metadata": {},
     "output_type": "execute_result"
    }
   ],
   "source": [
    "my_posts = my_writing[0].split('|||')\n",
    "len(my_posts)\n",
    "#my_posts"
   ]
  },
  {
   "cell_type": "code",
   "execution_count": 85,
   "metadata": {},
   "outputs": [
    {
     "data": {
      "image/png": "[encoded data removed]",
      "text/plain": [
       "<Figure size 720x504 with 1 Axes>"
      ]
     },
     "metadata": {
      "needs_background": "light"
     },
     "output_type": "display_data"
    }
   ],
   "source": [
    "#predicting personality\n",
    "trait=tellmemyMBTI(my_posts, 'Barack Obama')"
   ]
  },
  {
   "cell_type": "markdown",
   "metadata": {},
   "source": [
    "Barack Obama's personality typpe is ENFJ.Our model predicts it as INFJ."
   ]
  },
  {
   "cell_type": "code",
   "execution_count": 125,
   "metadata": {},
   "outputs": [],
   "source": [
    "My_writings = open(\"michelleObama.txt\",\"r\",encoding='utf-8')\n",
    "my_writing = My_writings.readlines()\n",
    "#my_writing"
   ]
  },
  {
   "cell_type": "code",
   "execution_count": 126,
   "metadata": {},
   "outputs": [
    {
     "data": {
      "text/plain": [
       "7"
      ]
     },
     "execution_count": 126,
     "metadata": {},
     "output_type": "execute_result"
    }
   ],
   "source": [
    "my_posts = my_writing[0].split('|||')\n",
    "len(my_posts)\n",
    "#my_posts"
   ]
  },
  {
   "cell_type": "code",
   "execution_count": 127,
   "metadata": {},
   "outputs": [
    {
     "data": {
      "image/png": "[encoded data removed]",
      "text/plain": [
       "<Figure size 720x504 with 1 Axes>"
      ]
     },
     "metadata": {
      "needs_background": "light"
     },
     "output_type": "display_data"
    }
   ],
   "source": [
    "#predicting personality\n",
    "trait=tellmemyMBTI(my_posts, 'Michelle Obama')"
   ]
  },
  {
   "cell_type": "markdown",
   "metadata": {},
   "source": [
    "Michelle Obama's personality type is INTJ.My model predicts ist as INFJ."
   ]
  },
  {
   "cell_type": "code",
   "execution_count": 98,
   "metadata": {},
   "outputs": [],
   "source": [
    "My_writings = open(\"TESTDATA.txt\")\n",
    "my_writing = My_writings.readlines()\n",
    "#my_writing"
   ]
  },
  {
   "cell_type": "code",
   "execution_count": 99,
   "metadata": {},
   "outputs": [
    {
     "data": {
      "text/plain": [
       "10"
      ]
     },
     "execution_count": 99,
     "metadata": {},
     "output_type": "execute_result"
    }
   ],
   "source": [
    "my_posts = my_writing[0].split('|||')\n",
    "len(my_posts)\n",
    "#my_posts"
   ]
  },
  {
   "cell_type": "code",
   "execution_count": 100,
   "metadata": {},
   "outputs": [
    {
     "data": {
      "image/png": "[encoded data removed]",
      "text/plain": [
       "<Figure size 720x504 with 1 Axes>"
      ]
     },
     "metadata": {
      "needs_background": "light"
     },
     "output_type": "display_data"
    }
   ],
   "source": [
    "#predicting personality\n",
    "trait=tellmemyMBTI(my_posts, 'TEST DATA')"
   ]
  },
  {
   "cell_type": "markdown",
   "metadata": {},
   "source": [
    "# TEST DATA ABOVE"
   ]
  },
  {
   "cell_type": "code",
   "execution_count": 95,
   "metadata": {},
   "outputs": [],
   "source": [
    "My_writings = open(\"ASHU.txt\")\n",
    "my_writing = My_writings.readlines()\n",
    "#my_writing"
   ]
  },
  {
   "cell_type": "code",
   "execution_count": 96,
   "metadata": {},
   "outputs": [
    {
     "data": {
      "text/plain": [
       "13"
      ]
     },
     "execution_count": 96,
     "metadata": {},
     "output_type": "execute_result"
    }
   ],
   "source": [
    "my_posts = my_writing[0].split('|||')\n",
    "len(my_posts)\n",
    "#my_posts"
   ]
  },
  {
   "cell_type": "code",
   "execution_count": 97,
   "metadata": {},
   "outputs": [
    {
     "data": {
      "image/png": "[encoded data removed]",
      "text/plain": [
       "<Figure size 720x504 with 1 Axes>"
      ]
     },
     "metadata": {
      "needs_background": "light"
     },
     "output_type": "display_data"
    }
   ],
   "source": [
    "#predicting personality\n",
    "trait=tellmemyMBTI(my_posts, 'ASHU')"
   ]
  },
  {
   "cell_type": "markdown",
   "metadata": {},
   "source": [
    "My friend's Personality type according to 16personalities.com is ENFP . My model tells INTP as his type, which is a good prediction according to 50% accuracy of my model.Data taken from quora : https://www.quora.com/profile/Ashutosh-Trivedi-10?q=ashu"
   ]
  },
  {
   "cell_type": "code",
   "execution_count": 106,
   "metadata": {},
   "outputs": [],
   "source": [
    "My_writings = open(\"Rashad.txt\")\n",
    "my_writing = My_writings.readlines()\n",
    "#my_writing"
   ]
  },
  {
   "cell_type": "code",
   "execution_count": 107,
   "metadata": {},
   "outputs": [
    {
     "data": {
      "text/plain": [
       "4"
      ]
     },
     "execution_count": 107,
     "metadata": {},
     "output_type": "execute_result"
    }
   ],
   "source": [
    "my_posts = my_writing[0].split('|||')\n",
    "len(my_posts)\n",
    "#my_posts"
   ]
  },
  {
   "cell_type": "code",
   "execution_count": 108,
   "metadata": {},
   "outputs": [
    {
     "data": {
      "image/png": "[encoded data removed]",
      "text/plain": [
       "<Figure size 720x504 with 1 Axes>"
      ]
     },
     "metadata": {
      "needs_background": "light"
     },
     "output_type": "display_data"
    }
   ],
   "source": [
    "#predicting personality\n",
    "trait=tellmemyMBTI(my_posts, 'RASHAD')"
   ]
  },
  {
   "cell_type": "markdown",
   "metadata": {},
   "source": [
    "My other friend has personality type ENFP.My model predicts it as INTP.Data taken from Quora https://www.quora.com/profile/Rashad-Khan-3/answers."
   ]
  },
  {
   "cell_type": "code",
   "execution_count": 128,
   "metadata": {},
   "outputs": [],
   "source": [
    "My_writings = open(\"ansh.txt\",\"r\",encoding='utf-8')\n",
    "my_writing = My_writings.readlines()\n",
    "#my_writing"
   ]
  },
  {
   "cell_type": "code",
   "execution_count": 129,
   "metadata": {},
   "outputs": [
    {
     "data": {
      "text/plain": [
       "5"
      ]
     },
     "execution_count": 129,
     "metadata": {},
     "output_type": "execute_result"
    }
   ],
   "source": [
    "my_posts = my_writing[0].split('|||')\n",
    "len(my_posts)\n",
    "#my_posts"
   ]
  },
  {
   "cell_type": "code",
   "execution_count": 130,
   "metadata": {},
   "outputs": [
    {
     "data": {
      "image/png": "[encoded data removed]",
      "text/plain": [
       "<Figure size 720x504 with 1 Axes>"
      ]
     },
     "metadata": {
      "needs_background": "light"
     },
     "output_type": "display_data"
    }
   ],
   "source": [
    "#predicting personality\n",
    "trait=tellmemyMBTI(my_posts, 'ANSH')"
   ]
  },
  {
   "cell_type": "code",
   "execution_count": 118,
   "metadata": {},
   "outputs": [],
   "source": [
    "My_writings = open(\"BHAVANA.txt\",\"r\",encoding='utf-8')#to remove utf unicode error.\n",
    "my_writing = My_writings.readlines()\n",
    "#my_writing"
   ]
  },
  {
   "cell_type": "code",
   "execution_count": 119,
   "metadata": {},
   "outputs": [
    {
     "data": {
      "text/plain": [
       "9"
      ]
     },
     "execution_count": 119,
     "metadata": {},
     "output_type": "execute_result"
    }
   ],
   "source": [
    "my_posts = my_writing[0].split('|||')\n",
    "len(my_posts)\n",
    "#my_posts"
   ]
  },
  {
   "cell_type": "code",
   "execution_count": 120,
   "metadata": {},
   "outputs": [
    {
     "data": {
      "image/png": "[encoded data removed]",
      "text/plain": [
       "<Figure size 720x504 with 1 Axes>"
      ]
     },
     "metadata": {
      "needs_background": "light"
     },
     "output_type": "display_data"
    }
   ],
   "source": [
    "#predicting personality\n",
    "trait=tellmemyMBTI(my_posts, 'BHAVANA')"
   ]
  },
  {
   "cell_type": "markdown",
   "metadata": {},
   "source": [
    "My personality type is ISFJ. My model predicts it as INFP.Data taken from Quora-https://www.quora.com/profile/Bhavana-Sinha/answers"
   ]
  },
  {
   "cell_type": "code",
   "execution_count": null,
   "metadata": {},
   "outputs": [],
   "source": []
  }
 ],
 "metadata": {
  "kernelspec": {
   "display_name": "Python 3",
   "language": "python",
   "name": "python3"
  },
  "language_info": {
   "codemirror_mode": {
    "name": "ipython",
    "version": 3
   },
   "file_extension": ".py",
   "mimetype": "text/x-python",
   "name": "python",
   "nbconvert_exporter": "python",
   "pygments_lexer": "ipython3",
   "version": "3.7.4"
  }
 },
 "nbformat": 4,
 "nbformat_minor": 2
}
